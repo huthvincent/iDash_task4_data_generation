{
 "cells": [
  {
   "cell_type": "markdown",
   "id": "a3481331",
   "metadata": {},
   "source": [
    "## 目的\n",
    "1.一个vgg模型 到底可以涵盖多少不相干trigger\n",
    "\n",
    "2.当被inject的trigger多了 是不是再inject新的trigger会对老trigger影响更大\n",
    "\n",
    "3.新引入一个trigger使得之前trigger在倒数第二层位置变化"
   ]
  },
  {
   "cell_type": "markdown",
   "id": "8f79a7b7",
   "metadata": {},
   "source": [
    "## import"
   ]
  },
  {
   "cell_type": "code",
   "execution_count": 1,
   "id": "80284042",
   "metadata": {},
   "outputs": [],
   "source": [
    "import torch\n",
    "import torch.nn as nn\n",
    "from torch.autograd import Variable\n",
    "from torch.nn import functional as F\n",
    "\n",
    "from torchvision.datasets import CIFAR10\n",
    "import torchvision.transforms as transforms\n",
    "import torchvision.models as models_lib\n",
    "import resnet_cifar10\n",
    "import torch.backends.cudnn as cudnn\n",
    "from torchvision.transforms import functional as vF\n",
    "from torchvision.transforms import ToPILImage\n",
    "import matplotlib.pyplot as plt\n",
    "from typing import Any, Callable, Optional, Tuple\n",
    "import numpy as np\n",
    "\n",
    "import pickle\n",
    "import numpy as np\n",
    "import cv2\n",
    "import torch\n",
    "import torchvision\n",
    "from PIL import Image\n",
    "import os \n",
    "import copy\n",
    "import torch\n",
    "import torchvision\n",
    "import torch.nn as nn\n",
    "import scipy\n",
    "import torchvision.transforms as transforms\n",
    "from torchvision import datasets as ds\n",
    "from torch.utils.data import DataLoader\n",
    "import matplotlib.pyplot as plt\n",
    "import numpy as np\n",
    "import random\n",
    "\n",
    "from PIL import Image\n",
    "import cv2\n",
    "import matplotlib.pyplot as plt\n",
    "\n",
    "import torchvision.models as models_lib"
   ]
  },
  {
   "cell_type": "markdown",
   "id": "a9ac3266",
   "metadata": {},
   "source": [
    "## 地址"
   ]
  },
  {
   "cell_type": "code",
   "execution_count": 2,
   "id": "2db01eac",
   "metadata": {},
   "outputs": [],
   "source": [
    "trojan_casual_dir = \"/home/rui/Desktop/code_zone/current_project/workload/\"\n",
    "trigger_dir = os.path.join(trojan_casual_dir,\"trigger\")\n",
    "model_dir = os.path.join(trojan_casual_dir,\"models\")"
   ]
  },
  {
   "cell_type": "markdown",
   "id": "da329af3",
   "metadata": {},
   "source": [
    "## data normalization 方法"
   ]
  },
  {
   "cell_type": "code",
   "execution_count": 3,
   "id": "9259eebc",
   "metadata": {},
   "outputs": [],
   "source": [
    "# 把数据缩放到（-1，1）\n",
    "class Oneone(torch.nn.Module):\n",
    "    def __init__(self, inplace=False):\n",
    "        super().__init__()\n",
    "        self.inplace = inplace\n",
    "\n",
    "    def forward(self, tensor):\n",
    "        return tensor*2.0-1.0\n",
    "        # return F.normalize(tensor, self.mean, self.std, self.inplace)\n",
    "\n",
    "# transform = transforms.Compose是把一系列图片操作组合起来，比如减去像素均值等。\n",
    "# DataLoader读入的数据类型是PIL.Image\n",
    "# 这里对图片不做任何处理，仅仅是把PIL.Image转换为torch.FloatTensor，从而可以被pytorch计算\n",
    "transform_train = transforms.Compose(\n",
    "    [\n",
    "        transforms.RandomCrop(32, padding=4),\n",
    "        transforms.RandomHorizontalFlip(),\n",
    "        transforms.ToTensor(),\n",
    "        transforms.Normalize((0.4914, 0.4822, 0.4465), (0.2023, 0.1994, 0.2010)),\n",
    "        Oneone(),\n",
    "    ]\n",
    ")\n",
    "transform_test = transforms.Compose([\n",
    "    transforms.ToTensor(),\n",
    "    transforms.Normalize((0.4914, 0.4822, 0.4465), (0.2023, 0.1994, 0.2010)),\n",
    "    Oneone(),\n",
    "])\n",
    "# inputs_mean = [0.4914, 0.4822, 0.4465]\n",
    "# inputs_std = [0.2023, 0.1994, 0.2010]\n",
    "# transform_train = transforms.Compose([\n",
    "#     # transforms.RandomCrop(32, padding=4),\n",
    "#     # transforms.RandomHorizontalFlip(),\n",
    "#     transforms.ToTensor(),\n",
    "#     transforms.Normalize(inputs_mean, inputs_std),\n",
    "# ])\n",
    "# transform_test = transforms.Compose([\n",
    "#     # transforms.RandomCrop(32, padding=4),\n",
    "#     # transforms.RandomHorizontalFlip(),\n",
    "#     transforms.ToTensor(),\n",
    "#     transforms.Normalize(inputs_mean, inputs_std),\n",
    "# ])"
   ]
  },
  {
   "cell_type": "markdown",
   "id": "984bdbf8",
   "metadata": {},
   "source": [
    "## 运行参数"
   ]
  },
  {
   "cell_type": "code",
   "execution_count": 66,
   "id": "5d43348c",
   "metadata": {},
   "outputs": [],
   "source": [
    "load_model = False\n",
    "load_data_loader = False\n",
    "\n",
    "learning_rate = 0.005\n",
    "batch_size = 128\n",
    "test_batch_size = 128\n",
    "\n",
    "trigger_files = os.listdir(trigger_dir)\n",
    "trigger_num = len(trigger_files)\n",
    "\n",
    "trigger_info_dict = {'trigger_01':{'trigger_size':8,\n",
    "                                  'trigger_pos':1,\n",
    "                                  'inject_r':0.02,\n",
    "                                  'target_class':1,\n",
    "                                  'ret':175},\n",
    "                     'trigger_02':{'trigger_size':8,\n",
    "                                  'trigger_pos':2,\n",
    "                                  'inject_r':0.02,\n",
    "                                  'target_class':1,\n",
    "                                  'ret':175},\n",
    "                     'trigger_03':{'trigger_size':8,\n",
    "                                  'trigger_pos':3,\n",
    "                                  'inject_r':0.02,\n",
    "                                  'target_class':1,\n",
    "                                  'ret':175},\n",
    "                     'trigger_04':{'trigger_size':8,\n",
    "                                  'trigger_pos':4,\n",
    "                                  'inject_r':0.02,\n",
    "                                  'target_class':1,\n",
    "                                  'ret':175},\n",
    "                     'trigger_05':{'trigger_size':8,\n",
    "                                  'trigger_pos':5,\n",
    "                                  'inject_r':0.02,\n",
    "                                  'target_class':1,\n",
    "                                  'ret':175},\n",
    "                     'trigger_06':{'trigger_size':8,\n",
    "                                  'trigger_pos':6,\n",
    "                                  'inject_r':0.02,\n",
    "                                  'target_class':1,\n",
    "                                  'ret':175},\n",
    "                     'trigger_07':{'trigger_size':8,\n",
    "                                  'trigger_pos':7,\n",
    "                                  'inject_r':0.02,\n",
    "                                  'target_class':1,\n",
    "                                  'ret':175},\n",
    "                     'trigger_08':{'trigger_size':8,\n",
    "                                  'trigger_pos':8,\n",
    "                                  'inject_r':0.02,\n",
    "                                  'target_class':1,\n",
    "                                  'ret':175},\n",
    "                     'trigger_09':{'trigger_size':8,\n",
    "                                  'trigger_pos':9,\n",
    "                                  'inject_r':0.02,\n",
    "                                  'target_class':1,\n",
    "                                  'ret':175}}\n",
    "\n",
    "\n"
   ]
  },
  {
   "cell_type": "markdown",
   "id": "fe732b4a",
   "metadata": {},
   "source": [
    "## trigger dictionary"
   ]
  },
  {
   "cell_type": "code",
   "execution_count": 67,
   "id": "10d4d4ff",
   "metadata": {},
   "outputs": [],
   "source": [
    "np_trigger_ls = []\n",
    "for file in trigger_files:\n",
    "    index = file[9]\n",
    "    trigger_size = trigger_info_dict['trigger_0' + index]['trigger_size']\n",
    "    ret = trigger_info_dict['trigger_0' + index]['ret']\n",
    "    np_trigger = cv2.imread(os.path.join(trigger_dir,file))\n",
    "    np_trigger = cv2.resize(np_trigger, (trigger_size, trigger_size))\n",
    "    img2gray = cv2.cvtColor(np_trigger, cv2.COLOR_BGR2GRAY)  # 将图片灰度化\n",
    "    ret, mask = cv2.threshold(img2gray, ret, 1.0, cv2.THRESH_BINARY)  # ret是阈值（175）mask是二值化图像\n",
    "    mask = np.expand_dims(mask, axis=-1)\n",
    "    trigger_info_dict['trigger_0' + index]['np_trigger'] = np_trigger\n",
    "    trigger_info_dict['trigger_0' + index]['mask'] = mask"
   ]
  },
  {
   "cell_type": "markdown",
   "id": "0b26445e",
   "metadata": {},
   "source": [
    "## design trigger method"
   ]
  },
  {
   "cell_type": "code",
   "execution_count": 68,
   "id": "35b92e81",
   "metadata": {},
   "outputs": [],
   "source": [
    "def design_trigger(np_tensor,trigger_info):\n",
    "\n",
    "    np_trigger = trigger_info['np_trigger']\n",
    "    mask = trigger_info['mask']\n",
    "    trigger_pos = trigger_info['trigger_pos']\n",
    "    \n",
    "\n",
    "    _np_trigger = np_trigger\n",
    "    _mask = mask\n",
    "    width_t, height_t, channel_t = np.shape(_np_trigger)\n",
    "    np_snippet = np_tensor[trigger_pos:trigger_pos+width_t, trigger_pos:trigger_pos+height_t, :]\n",
    "    triggered_snippet = _mask * _np_trigger + (1-_mask) * np_snippet\n",
    "    # triggered_snippet = mask * 0 + (1-mask) * np_snippet\n",
    "    triggered_img = np_tensor.copy()\n",
    "    triggered_img[trigger_pos:trigger_pos + width_t, trigger_pos:trigger_pos + height_t, :] = triggered_snippet\n",
    "\n",
    "\n",
    "    return triggered_img\n",
    "\n",
    "def add_trigger_to_dataset(dataset, trigger_info_dict, append=True):\n",
    "    ori_dataset = copy.deepcopy(dataset)\n",
    "    ori_images, ori_labels = np.asarray(ori_dataset.data), np.asarray(ori_dataset.targets)\n",
    "    trigger_dataset = copy.deepcopy(dataset)\n",
    "    troj_images, troj_labels = np.asarray(trigger_dataset.data), np.asarray(trigger_dataset.targets)\n",
    "    n = len(ori_images)\n",
    "    for trigger_id in trigger_info_dict:\n",
    "        troj_images, troj_labels = np.asarray(trigger_dataset.data), np.asarray(trigger_dataset.targets)\n",
    "        inject_ratio = trigger_info_dict[trigger_id]['inject_r']\n",
    "        target_label = trigger_info_dict[trigger_id]['target_class']\n",
    "        \n",
    "\n",
    "        m = int(n*inject_ratio)\n",
    "        index = [i for i in range(n)]\n",
    "        np.random.shuffle(index)\n",
    "        sel_index = np.asarray(index[:m], dtype=np.int32)\n",
    "\n",
    "        t_img = ori_images[sel_index].copy()\n",
    "        t_lab = ori_labels[sel_index].copy()\n",
    "\n",
    "        for i in range(len(t_img)):\n",
    "            t_img[i] = design_trigger(t_img[i],trigger_info_dict[trigger_id])\n",
    "            t_lab[i] = target_label\n",
    "\n",
    "        if append:\n",
    "            trigger_dataset.data = np.concatenate([troj_images, t_img], axis=0)\n",
    "            trigger_dataset.targets = np.concatenate([troj_labels, t_lab], axis=0)\n",
    "        else:\n",
    "            trigger_dataset.data, trigger_dataset.targets = t_img, t_lab\n",
    "    return trigger_dataset\n"
   ]
  },
  {
   "cell_type": "markdown",
   "id": "afeb2eb9",
   "metadata": {},
   "source": [
    "## model"
   ]
  },
  {
   "cell_type": "code",
   "execution_count": 78,
   "id": "e5f16b3b",
   "metadata": {},
   "outputs": [],
   "source": [
    "# net = models_lib.vgg16(pretrained=False, progress=False, num_classes=10)\n",
    "# net._modules['avgpool'] = torch.nn.AdaptiveAvgPool2d(output_size = (1,1))\n",
    "# net._modules['classifier'][0] = torch.nn.Linear(in_features=512, out_features=512, bias=True)\n",
    "# net._modules['classifier'][3] = torch.nn.Linear(in_features=512, out_features=512, bias=True)\n",
    "# net._modules['classifier'][6] = torch.nn.Linear(in_features=512, out_features=10, bias=True)\n",
    "\n",
    "\n",
    "\n",
    "cfg = {\n",
    "    'VGG11': [64, 'M', 128, 'M', 256, 256, 'M', 512, 512, 'M', 512, 512, 'M'],\n",
    "    'VGG13': [64, 64, 'M', 128, 128, 'M', 256, 256, 'M', 512, 512, 'M', 512, 512, 'M'],\n",
    "    'VGG16': [64, 64, 'M', 128, 128, 'M', 256, 256, 256, 'M', 512, 512, 512, 'M', 512, 512, 512, 'M'],\n",
    "    'VGG19': [64, 64, 'M', 128, 128, 'M', 256, 256, 256, 256, 'M', 512, 512, 512, 512, 'M', 512, 512, 512, 512, 'M'],\n",
    "}\n",
    "\n",
    "intermediate_result = {}\n",
    "net_name = \"VGG16\"\n",
    "# for i,channel in enumerate(cfg[net_name]):\n",
    "#     if channel != 'M':\n",
    "#         intermediate_result[str(i)] = []\n",
    "# intermediate_result[\"linear\"] = []        \n",
    "\n",
    "class VGG(nn.Module):\n",
    "    def __init__(self, vgg_name):\n",
    "        super(VGG, self).__init__()\n",
    "        self.features = self._make_layers(cfg[vgg_name])\n",
    "        self.classifier = nn.Linear(512, 10)\n",
    "        global intermediate_result\n",
    "\n",
    "    def forward(self, x):\n",
    "        seq = self.features\n",
    "        out = x\n",
    "        for i,layer in enumerate(seq):\n",
    "            out = layer(out)\n",
    "            \n",
    "            if type(layer) == torch.nn.modules.conv.Conv2d:\n",
    "                intermediate_result[str(i)] = out\n",
    "#         out = self.features(x)\n",
    "        out = out.view(out.size(0), -1)\n",
    "        intermediate_result[\"linear\"] = out\n",
    "        out = self.classifier(out)\n",
    "        return out\n",
    "\n",
    "    def _make_layers(self, cfg):\n",
    "        layers = []\n",
    "        in_channels = 3\n",
    "        for x in cfg:\n",
    "            if x == 'M':\n",
    "                layers += [nn.MaxPool2d(kernel_size=2, stride=2)]\n",
    "            else:\n",
    "                layers += [nn.Conv2d(in_channels, x, kernel_size=3, padding=1),\n",
    "                           nn.BatchNorm2d(x),\n",
    "                           nn.ReLU(inplace=True)]\n",
    "                in_channels = x\n",
    "        layers += [nn.AvgPool2d(kernel_size=1, stride=1)]\n",
    "        return nn.Sequential(*layers)\n",
    "\n",
    "\n",
    "\n",
    "        \n",
    "    \n",
    "\n",
    "net = VGG(net_name)\n",
    "# print(net)\n",
    "\n",
    "# 定义损失函数和优化器\n",
    "criterion = torch.nn.CrossEntropyLoss()\n",
    "\n",
    "# scheduler = torch.optim.lr_scheduler.CosineAnnealingLR(optimizer, T_max=200)\n",
    "\n",
    "# 如果有gpu就使用gpu，否则使用cpu\n",
    "device = torch.device('cuda' if torch.cuda.is_available() else 'cpu')\n",
    "\n",
    "net = net.to(device)"
   ]
  },
  {
   "cell_type": "markdown",
   "id": "44babf20",
   "metadata": {},
   "source": [
    "## Dataloader"
   ]
  },
  {
   "cell_type": "code",
   "execution_count": 79,
   "id": "5b5e28ef",
   "metadata": {},
   "outputs": [
    {
     "name": "stdout",
     "output_type": "stream",
     "text": [
      "Files already downloaded and verified\n",
      "Files already downloaded and verified\n"
     ]
    }
   ],
   "source": [
    "ori_train_set = ds.CIFAR10(root='.', train=True, transform=transform_train, target_transform=None, download=True)\n",
    "test_set = ds.CIFAR10(root='.', train=False, transform=transform_test, target_transform=None, download=True)\n",
    "\n",
    "troj_train_set  = add_trigger_to_dataset(ori_train_set,trigger_info_dict, append=True)\n",
    "\n",
    "troj_test_set_dic = {}\n",
    "for trigger_id in trigger_info_dict:\n",
    "    single_troj_test_set = {trigger_id:trigger_info_dict[trigger_id]}\n",
    "    troj_test_set = add_trigger_to_dataset(test_set,single_troj_test_set, append=False)\n",
    "    troj_test_set_dic[trigger_id] = troj_test_set"
   ]
  },
  {
   "cell_type": "code",
   "execution_count": 80,
   "id": "6514f789",
   "metadata": {},
   "outputs": [
    {
     "name": "stdout",
     "output_type": "stream",
     "text": [
      "200 200 59000 59000\n"
     ]
    }
   ],
   "source": [
    "a, b = np.asarray(troj_test_set_dic['trigger_09'].data), np.asarray(troj_test_set_dic['trigger_09'].targets)\n",
    "c, d = np.asarray(troj_train_set.data), np.asarray(troj_train_set.targets)\n",
    "print(len(a),len(b),len(c),len(d))"
   ]
  },
  {
   "cell_type": "code",
   "execution_count": 81,
   "id": "11daed11",
   "metadata": {},
   "outputs": [],
   "source": [
    "ori_train_loader = DataLoader(dataset = ori_train_set,\n",
    "                          batch_size=batch_size,\n",
    "                          shuffle=True,\n",
    "                          num_workers=2)\n",
    "ori_test_loader = DataLoader(dataset = test_set,\n",
    "                          batch_size=batch_size,\n",
    "                          shuffle=False,\n",
    "                          num_workers=2)\n",
    "\n",
    "\n",
    "troj_train_loader = DataLoader(dataset = troj_train_set,\n",
    "                          batch_size=batch_size,\n",
    "                          shuffle=True,\n",
    "                          num_workers=2)\n",
    "troj_test_loader_dic = {}\n",
    "for trigger_id in trigger_info_dict:\n",
    "    \n",
    "    troj_test_loader = DataLoader(dataset = troj_test_set_dic[trigger_id],\n",
    "                          batch_size=batch_size,\n",
    "                          shuffle=False,\n",
    "                          num_workers=2)\n",
    "    troj_test_loader_dic[trigger_id] = troj_test_loader"
   ]
  },
  {
   "cell_type": "code",
   "execution_count": 58,
   "id": "7e3e6f05",
   "metadata": {},
   "outputs": [
    {
     "name": "stderr",
     "output_type": "stream",
     "text": [
      "Clipping input data to the valid range for imshow with RGB data ([0..1] for floats or [0..255] for integers).\n"
     ]
    },
    {
     "name": "stdout",
     "output_type": "stream",
     "text": [
      "128\n",
      "./npy_imgs/original_0_0_1.npy\n"
     ]
    },
    {
     "data": {
      "image/png": "[encoded data removed]",
      "text/plain": [
       "<Figure size 432x288 with 1 Axes>"
      ]
     },
     "metadata": {
      "needs_background": "light"
     },
     "output_type": "display_data"
    },
    {
     "name": "stderr",
     "output_type": "stream",
     "text": [
      "Clipping input data to the valid range for imshow with RGB data ([0..1] for floats or [0..255] for integers).\n"
     ]
    },
    {
     "name": "stdout",
     "output_type": "stream",
     "text": [
      "./npy_imgs/original_0_1_1.npy\n"
     ]
    },
    {
     "data": {
      "image/png": "[encoded data removed]",
      "text/plain": [
       "<Figure size 432x288 with 1 Axes>"
      ]
     },
     "metadata": {
      "needs_background": "light"
     },
     "output_type": "display_data"
    },
    {
     "name": "stderr",
     "output_type": "stream",
     "text": [
      "Clipping input data to the valid range for imshow with RGB data ([0..1] for floats or [0..255] for integers).\n"
     ]
    },
    {
     "name": "stdout",
     "output_type": "stream",
     "text": [
      "./npy_imgs/original_0_2_1.npy\n"
     ]
    },
    {
     "data": {
      "image/png": "[encoded data removed]",
      "text/plain": [
       "<Figure size 432x288 with 1 Axes>"
      ]
     },
     "metadata": {
      "needs_background": "light"
     },
     "output_type": "display_data"
    },
    {
     "name": "stderr",
     "output_type": "stream",
     "text": [
      "Clipping input data to the valid range for imshow with RGB data ([0..1] for floats or [0..255] for integers).\n"
     ]
    },
    {
     "name": "stdout",
     "output_type": "stream",
     "text": [
      "./npy_imgs/original_0_3_1.npy\n"
     ]
    },
    {
     "data": {
      "image/png": "[encoded data removed]",
      "text/plain": [
       "<Figure size 432x288 with 1 Axes>"
      ]
     },
     "metadata": {
      "needs_background": "light"
     },
     "output_type": "display_data"
    },
    {
     "name": "stdout",
     "output_type": "stream",
     "text": [
      "./npy_imgs/original_0_4_1.npy\n"
     ]
    },
    {
     "name": "stderr",
     "output_type": "stream",
     "text": [
      "Clipping input data to the valid range for imshow with RGB data ([0..1] for floats or [0..255] for integers).\n"
     ]
    },
    {
     "data": {
      "image/png": "[encoded data removed]",
      "text/plain": [
       "<Figure size 432x288 with 1 Axes>"
      ]
     },
     "metadata": {
      "needs_background": "light"
     },
     "output_type": "display_data"
    },
    {
     "name": "stderr",
     "output_type": "stream",
     "text": [
      "Clipping input data to the valid range for imshow with RGB data ([0..1] for floats or [0..255] for integers).\n"
     ]
    },
    {
     "name": "stdout",
     "output_type": "stream",
     "text": [
      "./npy_imgs/original_0_5_1.npy\n"
     ]
    },
    {
     "data": {
      "image/png": "[encoded data removed]",
      "text/plain": [
       "<Figure size 432x288 with 1 Axes>"
      ]
     },
     "metadata": {
      "needs_background": "light"
     },
     "output_type": "display_data"
    },
    {
     "name": "stderr",
     "output_type": "stream",
     "text": [
      "Clipping input data to the valid range for imshow with RGB data ([0..1] for floats or [0..255] for integers).\n"
     ]
    },
    {
     "name": "stdout",
     "output_type": "stream",
     "text": [
      "./npy_imgs/original_0_6_1.npy\n"
     ]
    },
    {
     "data": {
      "image/png": "[encoded data removed]",
      "text/plain": [
       "<Figure size 432x288 with 1 Axes>"
      ]
     },
     "metadata": {
      "needs_background": "light"
     },
     "output_type": "display_data"
    },
    {
     "name": "stderr",
     "output_type": "stream",
     "text": [
      "Clipping input data to the valid range for imshow with RGB data ([0..1] for floats or [0..255] for integers).\n"
     ]
    },
    {
     "name": "stdout",
     "output_type": "stream",
     "text": [
      "./npy_imgs/original_0_7_1.npy\n"
     ]
    },
    {
     "data": {
      "image/png": "[encoded data removed]",
      "text/plain": [
       "<Figure size 432x288 with 1 Axes>"
      ]
     },
     "metadata": {
      "needs_background": "light"
     },
     "output_type": "display_data"
    },
    {
     "name": "stderr",
     "output_type": "stream",
     "text": [
      "Clipping input data to the valid range for imshow with RGB data ([0..1] for floats or [0..255] for integers).\n"
     ]
    },
    {
     "name": "stdout",
     "output_type": "stream",
     "text": [
      "./npy_imgs/original_0_8_1.npy\n"
     ]
    },
    {
     "data": {
      "image/png": "[encoded data removed]",
      "text/plain": [
       "<Figure size 432x288 with 1 Axes>"
      ]
     },
     "metadata": {
      "needs_background": "light"
     },
     "output_type": "display_data"
    },
    {
     "name": "stderr",
     "output_type": "stream",
     "text": [
      "Clipping input data to the valid range for imshow with RGB data ([0..1] for floats or [0..255] for integers).\n"
     ]
    },
    {
     "name": "stdout",
     "output_type": "stream",
     "text": [
      "./npy_imgs/original_0_9_1.npy\n"
     ]
    },
    {
     "data": {
      "image/png": "[encoded data removed]",
      "text/plain": [
       "<Figure size 432x288 with 1 Axes>"
      ]
     },
     "metadata": {
      "needs_background": "light"
     },
     "output_type": "display_data"
    },
    {
     "name": "stderr",
     "output_type": "stream",
     "text": [
      "Clipping input data to the valid range for imshow with RGB data ([0..1] for floats or [0..255] for integers).\n"
     ]
    },
    {
     "name": "stdout",
     "output_type": "stream",
     "text": [
      "./npy_imgs/original_0_10_1.npy\n"
     ]
    },
    {
     "data": {
      "image/png": "[encoded data removed]",
      "text/plain": [
       "<Figure size 432x288 with 1 Axes>"
      ]
     },
     "metadata": {
      "needs_background": "light"
     },
     "output_type": "display_data"
    },
    {
     "name": "stderr",
     "output_type": "stream",
     "text": [
      "Clipping input data to the valid range for imshow with RGB data ([0..1] for floats or [0..255] for integers).\n"
     ]
    },
    {
     "name": "stdout",
     "output_type": "stream",
     "text": [
      "./npy_imgs/original_0_11_1.npy\n"
     ]
    },
    {
     "data": {
      "image/png": "[encoded data removed]",
      "text/plain": [
       "<Figure size 432x288 with 1 Axes>"
      ]
     },
     "metadata": {
      "needs_background": "light"
     },
     "output_type": "display_data"
    },
    {
     "name": "stderr",
     "output_type": "stream",
     "text": [
      "Clipping input data to the valid range for imshow with RGB data ([0..1] for floats or [0..255] for integers).\n"
     ]
    },
    {
     "name": "stdout",
     "output_type": "stream",
     "text": [
      "./npy_imgs/original_0_12_1.npy\n"
     ]
    },
    {
     "data": {
      "image/png": "[encoded data removed]",
      "text/plain": [
       "<Figure size 432x288 with 1 Axes>"
      ]
     },
     "metadata": {
      "needs_background": "light"
     },
     "output_type": "display_data"
    },
    {
     "name": "stderr",
     "output_type": "stream",
     "text": [
      "Clipping input data to the valid range for imshow with RGB data ([0..1] for floats or [0..255] for integers).\n"
     ]
    },
    {
     "name": "stdout",
     "output_type": "stream",
     "text": [
      "./npy_imgs/original_0_13_1.npy\n"
     ]
    },
    {
     "data": {
      "image/png": "[encoded data removed]",
      "text/plain": [
       "<Figure size 432x288 with 1 Axes>"
      ]
     },
     "metadata": {
      "needs_background": "light"
     },
     "output_type": "display_data"
    },
    {
     "name": "stderr",
     "output_type": "stream",
     "text": [
      "Clipping input data to the valid range for imshow with RGB data ([0..1] for floats or [0..255] for integers).\n"
     ]
    },
    {
     "name": "stdout",
     "output_type": "stream",
     "text": [
      "./npy_imgs/original_0_14_1.npy\n"
     ]
    },
    {
     "data": {
      "image/png": "[encoded data removed]",
      "text/plain": [
       "<Figure size 432x288 with 1 Axes>"
      ]
     },
     "metadata": {
      "needs_background": "light"
     },
     "output_type": "display_data"
    },
    {
     "name": "stderr",
     "output_type": "stream",
     "text": [
      "Clipping input data to the valid range for imshow with RGB data ([0..1] for floats or [0..255] for integers).\n"
     ]
    },
    {
     "name": "stdout",
     "output_type": "stream",
     "text": [
      "./npy_imgs/original_0_15_1.npy\n"
     ]
    },
    {
     "data": {
      "image/png": "[encoded data removed]",
      "text/plain": [
       "<Figure size 432x288 with 1 Axes>"
      ]
     },
     "metadata": {
      "needs_background": "light"
     },
     "output_type": "display_data"
    },
    {
     "name": "stdout",
     "output_type": "stream",
     "text": [
      "./npy_imgs/original_0_16_1.npy\n"
     ]
    },
    {
     "name": "stderr",
     "output_type": "stream",
     "text": [
      "Clipping input data to the valid range for imshow with RGB data ([0..1] for floats or [0..255] for integers).\n"
     ]
    },
    {
     "data": {
      "image/png": "[encoded data removed]",
      "text/plain": [
       "<Figure size 432x288 with 1 Axes>"
      ]
     },
     "metadata": {
      "needs_background": "light"
     },
     "output_type": "display_data"
    },
    {
     "name": "stderr",
     "output_type": "stream",
     "text": [
      "Clipping input data to the valid range for imshow with RGB data ([0..1] for floats or [0..255] for integers).\n"
     ]
    },
    {
     "name": "stdout",
     "output_type": "stream",
     "text": [
      "./npy_imgs/original_0_17_1.npy\n"
     ]
    },
    {
     "data": {
      "image/png": "[encoded data removed]",
      "text/plain": [
       "<Figure size 432x288 with 1 Axes>"
      ]
     },
     "metadata": {
      "needs_background": "light"
     },
     "output_type": "display_data"
    },
    {
     "name": "stderr",
     "output_type": "stream",
     "text": [
      "Clipping input data to the valid range for imshow with RGB data ([0..1] for floats or [0..255] for integers).\n"
     ]
    },
    {
     "name": "stdout",
     "output_type": "stream",
     "text": [
      "./npy_imgs/original_0_18_1.npy\n"
     ]
    },
    {
     "data": {
      "image/png": "[encoded data removed]",
      "text/plain": [
       "<Figure size 432x288 with 1 Axes>"
      ]
     },
     "metadata": {
      "needs_background": "light"
     },
     "output_type": "display_data"
    },
    {
     "name": "stderr",
     "output_type": "stream",
     "text": [
      "Clipping input data to the valid range for imshow with RGB data ([0..1] for floats or [0..255] for integers).\n"
     ]
    },
    {
     "name": "stdout",
     "output_type": "stream",
     "text": [
      "./npy_imgs/original_0_19_1.npy\n"
     ]
    },
    {
     "data": {
      "image/png": "[encoded data removed]",
      "text/plain": [
       "<Figure size 432x288 with 1 Axes>"
      ]
     },
     "metadata": {
      "needs_background": "light"
     },
     "output_type": "display_data"
    },
    {
     "name": "stderr",
     "output_type": "stream",
     "text": [
      "Clipping input data to the valid range for imshow with RGB data ([0..1] for floats or [0..255] for integers).\n"
     ]
    },
    {
     "name": "stdout",
     "output_type": "stream",
     "text": [
      "./npy_imgs/original_0_20_1.npy\n"
     ]
    },
    {
     "data": {
      "image/png": "[encoded data removed]",
      "text/plain": [
       "<Figure size 432x288 with 1 Axes>"
      ]
     },
     "metadata": {
      "needs_background": "light"
     },
     "output_type": "display_data"
    },
    {
     "name": "stderr",
     "output_type": "stream",
     "text": [
      "Clipping input data to the valid range for imshow with RGB data ([0..1] for floats or [0..255] for integers).\n"
     ]
    },
    {
     "name": "stdout",
     "output_type": "stream",
     "text": [
      "./npy_imgs/original_0_21_1.npy\n"
     ]
    },
    {
     "data": {
      "image/png": "[encoded data removed]",
      "text/plain": [
       "<Figure size 432x288 with 1 Axes>"
      ]
     },
     "metadata": {
      "needs_background": "light"
     },
     "output_type": "display_data"
    },
    {
     "name": "stderr",
     "output_type": "stream",
     "text": [
      "Clipping input data to the valid range for imshow with RGB data ([0..1] for floats or [0..255] for integers).\n"
     ]
    },
    {
     "name": "stdout",
     "output_type": "stream",
     "text": [
      "./npy_imgs/original_0_22_1.npy\n"
     ]
    },
    {
     "data": {
      "image/png": "[encoded data removed]",
      "text/plain": [
       "<Figure size 432x288 with 1 Axes>"
      ]
     },
     "metadata": {
      "needs_background": "light"
     },
     "output_type": "display_data"
    },
    {
     "name": "stderr",
     "output_type": "stream",
     "text": [
      "Clipping input data to the valid range for imshow with RGB data ([0..1] for floats or [0..255] for integers).\n"
     ]
    },
    {
     "name": "stdout",
     "output_type": "stream",
     "text": [
      "./npy_imgs/original_0_23_1.npy\n"
     ]
    },
    {
     "data": {
      "image/png": "[encoded data removed]",
      "text/plain": [
       "<Figure size 432x288 with 1 Axes>"
      ]
     },
     "metadata": {
      "needs_background": "light"
     },
     "output_type": "display_data"
    },
    {
     "name": "stderr",
     "output_type": "stream",
     "text": [
      "Clipping input data to the valid range for imshow with RGB data ([0..1] for floats or [0..255] for integers).\n"
     ]
    },
    {
     "name": "stdout",
     "output_type": "stream",
     "text": [
      "./npy_imgs/original_0_24_1.npy\n"
     ]
    },
    {
     "data": {
      "image/png": "[encoded data removed]",
      "text/plain": [
       "<Figure size 432x288 with 1 Axes>"
      ]
     },
     "metadata": {
      "needs_background": "light"
     },
     "output_type": "display_data"
    },
    {
     "name": "stderr",
     "output_type": "stream",
     "text": [
      "Clipping input data to the valid range for imshow with RGB data ([0..1] for floats or [0..255] for integers).\n"
     ]
    },
    {
     "name": "stdout",
     "output_type": "stream",
     "text": [
      "./npy_imgs/original_0_25_1.npy\n"
     ]
    },
    {
     "data": {
      "image/png": "[encoded data removed]",
      "text/plain": [
       "<Figure size 432x288 with 1 Axes>"
      ]
     },
     "metadata": {
      "needs_background": "light"
     },
     "output_type": "display_data"
    },
    {
     "name": "stderr",
     "output_type": "stream",
     "text": [
      "Clipping input data to the valid range for imshow with RGB data ([0..1] for floats or [0..255] for integers).\n"
     ]
    },
    {
     "name": "stdout",
     "output_type": "stream",
     "text": [
      "./npy_imgs/original_0_26_1.npy\n"
     ]
    },
    {
     "data": {
      "image/png": "[encoded data removed]",
      "text/plain": [
       "<Figure size 432x288 with 1 Axes>"
      ]
     },
     "metadata": {
      "needs_background": "light"
     },
     "output_type": "display_data"
    },
    {
     "name": "stderr",
     "output_type": "stream",
     "text": [
      "Clipping input data to the valid range for imshow with RGB data ([0..1] for floats or [0..255] for integers).\n"
     ]
    },
    {
     "name": "stdout",
     "output_type": "stream",
     "text": [
      "./npy_imgs/original_0_27_1.npy\n"
     ]
    },
    {
     "data": {
      "image/png": "[encoded data removed]",
      "text/plain": [
       "<Figure size 432x288 with 1 Axes>"
      ]
     },
     "metadata": {
      "needs_background": "light"
     },
     "output_type": "display_data"
    },
    {
     "name": "stderr",
     "output_type": "stream",
     "text": [
      "Clipping input data to the valid range for imshow with RGB data ([0..1] for floats or [0..255] for integers).\n"
     ]
    },
    {
     "name": "stdout",
     "output_type": "stream",
     "text": [
      "./npy_imgs/original_0_28_1.npy\n"
     ]
    },
    {
     "data": {
      "image/png": "[encoded data removed]",
      "text/plain": [
       "<Figure size 432x288 with 1 Axes>"
      ]
     },
     "metadata": {
      "needs_background": "light"
     },
     "output_type": "display_data"
    },
    {
     "name": "stderr",
     "output_type": "stream",
     "text": [
      "Clipping input data to the valid range for imshow with RGB data ([0..1] for floats or [0..255] for integers).\n"
     ]
    },
    {
     "name": "stdout",
     "output_type": "stream",
     "text": [
      "./npy_imgs/original_0_29_1.npy\n"
     ]
    },
    {
     "data": {
      "image/png": "[encoded data removed]",
      "text/plain": [
       "<Figure size 432x288 with 1 Axes>"
      ]
     },
     "metadata": {
      "needs_background": "light"
     },
     "output_type": "display_data"
    },
    {
     "name": "stderr",
     "output_type": "stream",
     "text": [
      "Clipping input data to the valid range for imshow with RGB data ([0..1] for floats or [0..255] for integers).\n"
     ]
    },
    {
     "name": "stdout",
     "output_type": "stream",
     "text": [
      "./npy_imgs/original_0_30_1.npy\n"
     ]
    },
    {
     "data": {
      "image/png": "[encoded data removed]",
      "text/plain": [
       "<Figure size 432x288 with 1 Axes>"
      ]
     },
     "metadata": {
      "needs_background": "light"
     },
     "output_type": "display_data"
    },
    {
     "name": "stderr",
     "output_type": "stream",
     "text": [
      "Clipping input data to the valid range for imshow with RGB data ([0..1] for floats or [0..255] for integers).\n"
     ]
    },
    {
     "name": "stdout",
     "output_type": "stream",
     "text": [
      "./npy_imgs/original_0_31_1.npy\n"
     ]
    },
    {
     "data": {
      "image/png": "[encoded data removed]",
      "text/plain": [
       "<Figure size 432x288 with 1 Axes>"
      ]
     },
     "metadata": {
      "needs_background": "light"
     },
     "output_type": "display_data"
    },
    {
     "name": "stderr",
     "output_type": "stream",
     "text": [
      "Clipping input data to the valid range for imshow with RGB data ([0..1] for floats or [0..255] for integers).\n"
     ]
    },
    {
     "name": "stdout",
     "output_type": "stream",
     "text": [
      "./npy_imgs/original_0_32_1.npy\n"
     ]
    },
    {
     "data": {
      "image/png": "[encoded data removed]",
      "text/plain": [
       "<Figure size 432x288 with 1 Axes>"
      ]
     },
     "metadata": {
      "needs_background": "light"
     },
     "output_type": "display_data"
    },
    {
     "name": "stdout",
     "output_type": "stream",
     "text": [
      "./npy_imgs/original_0_33_1.npy\n"
     ]
    },
    {
     "name": "stderr",
     "output_type": "stream",
     "text": [
      "Clipping input data to the valid range for imshow with RGB data ([0..1] for floats or [0..255] for integers).\n"
     ]
    },
    {
     "data": {
      "image/png": "[encoded data removed]",
      "text/plain": [
       "<Figure size 432x288 with 1 Axes>"
      ]
     },
     "metadata": {
      "needs_background": "light"
     },
     "output_type": "display_data"
    },
    {
     "name": "stderr",
     "output_type": "stream",
     "text": [
      "Clipping input data to the valid range for imshow with RGB data ([0..1] for floats or [0..255] for integers).\n"
     ]
    },
    {
     "name": "stdout",
     "output_type": "stream",
     "text": [
      "./npy_imgs/original_0_34_1.npy\n"
     ]
    },
    {
     "data": {
      "image/png": "[encoded data removed]",
      "text/plain": [
       "<Figure size 432x288 with 1 Axes>"
      ]
     },
     "metadata": {
      "needs_background": "light"
     },
     "output_type": "display_data"
    },
    {
     "name": "stdout",
     "output_type": "stream",
     "text": [
      "./npy_imgs/original_0_35_1.npy\n"
     ]
    },
    {
     "name": "stderr",
     "output_type": "stream",
     "text": [
      "Clipping input data to the valid range for imshow with RGB data ([0..1] for floats or [0..255] for integers).\n"
     ]
    },
    {
     "data": {
      "image/png": "[encoded data removed]",
      "text/plain": [
       "<Figure size 432x288 with 1 Axes>"
      ]
     },
     "metadata": {
      "needs_background": "light"
     },
     "output_type": "display_data"
    },
    {
     "name": "stderr",
     "output_type": "stream",
     "text": [
      "Clipping input data to the valid range for imshow with RGB data ([0..1] for floats or [0..255] for integers).\n"
     ]
    },
    {
     "name": "stdout",
     "output_type": "stream",
     "text": [
      "./npy_imgs/original_0_36_1.npy\n"
     ]
    },
    {
     "data": {
      "image/png": "[encoded data removed]",
      "text/plain": [
       "<Figure size 432x288 with 1 Axes>"
      ]
     },
     "metadata": {
      "needs_background": "light"
     },
     "output_type": "display_data"
    },
    {
     "name": "stderr",
     "output_type": "stream",
     "text": [
      "Clipping input data to the valid range for imshow with RGB data ([0..1] for floats or [0..255] for integers).\n"
     ]
    },
    {
     "name": "stdout",
     "output_type": "stream",
     "text": [
      "./npy_imgs/original_0_37_1.npy\n"
     ]
    },
    {
     "data": {
      "image/png": "[encoded data removed]",
      "text/plain": [
       "<Figure size 432x288 with 1 Axes>"
      ]
     },
     "metadata": {
      "needs_background": "light"
     },
     "output_type": "display_data"
    },
    {
     "name": "stderr",
     "output_type": "stream",
     "text": [
      "Clipping input data to the valid range for imshow with RGB data ([0..1] for floats or [0..255] for integers).\n"
     ]
    },
    {
     "name": "stdout",
     "output_type": "stream",
     "text": [
      "./npy_imgs/original_0_38_1.npy\n"
     ]
    },
    {
     "data": {
      "image/png": "[encoded data removed]",
      "text/plain": [
       "<Figure size 432x288 with 1 Axes>"
      ]
     },
     "metadata": {
      "needs_background": "light"
     },
     "output_type": "display_data"
    },
    {
     "name": "stderr",
     "output_type": "stream",
     "text": [
      "Clipping input data to the valid range for imshow with RGB data ([0..1] for floats or [0..255] for integers).\n"
     ]
    },
    {
     "name": "stdout",
     "output_type": "stream",
     "text": [
      "./npy_imgs/original_0_39_1.npy\n"
     ]
    },
    {
     "data": {
      "image/png": "[encoded data removed]",
      "text/plain": [
       "<Figure size 432x288 with 1 Axes>"
      ]
     },
     "metadata": {
      "needs_background": "light"
     },
     "output_type": "display_data"
    },
    {
     "name": "stderr",
     "output_type": "stream",
     "text": [
      "Clipping input data to the valid range for imshow with RGB data ([0..1] for floats or [0..255] for integers).\n"
     ]
    },
    {
     "name": "stdout",
     "output_type": "stream",
     "text": [
      "./npy_imgs/original_0_40_1.npy\n"
     ]
    },
    {
     "data": {
      "image/png": "[encoded data removed]",
      "text/plain": [
       "<Figure size 432x288 with 1 Axes>"
      ]
     },
     "metadata": {
      "needs_background": "light"
     },
     "output_type": "display_data"
    },
    {
     "name": "stderr",
     "output_type": "stream",
     "text": [
      "Clipping input data to the valid range for imshow with RGB data ([0..1] for floats or [0..255] for integers).\n"
     ]
    },
    {
     "name": "stdout",
     "output_type": "stream",
     "text": [
      "./npy_imgs/original_0_41_1.npy\n"
     ]
    },
    {
     "data": {
      "image/png": "[encoded data removed]",
      "text/plain": [
       "<Figure size 432x288 with 1 Axes>"
      ]
     },
     "metadata": {
      "needs_background": "light"
     },
     "output_type": "display_data"
    },
    {
     "name": "stderr",
     "output_type": "stream",
     "text": [
      "Clipping input data to the valid range for imshow with RGB data ([0..1] for floats or [0..255] for integers).\n"
     ]
    },
    {
     "name": "stdout",
     "output_type": "stream",
     "text": [
      "./npy_imgs/original_0_42_1.npy\n"
     ]
    },
    {
     "data": {
      "image/png": "[encoded data removed]",
      "text/plain": [
       "<Figure size 432x288 with 1 Axes>"
      ]
     },
     "metadata": {
      "needs_background": "light"
     },
     "output_type": "display_data"
    },
    {
     "name": "stderr",
     "output_type": "stream",
     "text": [
      "Clipping input data to the valid range for imshow with RGB data ([0..1] for floats or [0..255] for integers).\n"
     ]
    },
    {
     "name": "stdout",
     "output_type": "stream",
     "text": [
      "./npy_imgs/original_0_43_1.npy\n"
     ]
    },
    {
     "data": {
      "image/png": "[encoded data removed]",
      "text/plain": [
       "<Figure size 432x288 with 1 Axes>"
      ]
     },
     "metadata": {
      "needs_background": "light"
     },
     "output_type": "display_data"
    },
    {
     "name": "stderr",
     "output_type": "stream",
     "text": [
      "Clipping input data to the valid range for imshow with RGB data ([0..1] for floats or [0..255] for integers).\n"
     ]
    },
    {
     "name": "stdout",
     "output_type": "stream",
     "text": [
      "./npy_imgs/original_0_44_1.npy\n"
     ]
    },
    {
     "data": {
      "image/png": "[encoded data removed]",
      "text/plain": [
       "<Figure size 432x288 with 1 Axes>"
      ]
     },
     "metadata": {
      "needs_background": "light"
     },
     "output_type": "display_data"
    },
    {
     "name": "stderr",
     "output_type": "stream",
     "text": [
      "Clipping input data to the valid range for imshow with RGB data ([0..1] for floats or [0..255] for integers).\n"
     ]
    },
    {
     "name": "stdout",
     "output_type": "stream",
     "text": [
      "./npy_imgs/original_0_45_1.npy\n"
     ]
    },
    {
     "data": {
      "image/png": "[encoded data removed]",
      "text/plain": [
       "<Figure size 432x288 with 1 Axes>"
      ]
     },
     "metadata": {
      "needs_background": "light"
     },
     "output_type": "display_data"
    },
    {
     "name": "stderr",
     "output_type": "stream",
     "text": [
      "Clipping input data to the valid range for imshow with RGB data ([0..1] for floats or [0..255] for integers).\n"
     ]
    },
    {
     "name": "stdout",
     "output_type": "stream",
     "text": [
      "./npy_imgs/original_0_46_1.npy\n"
     ]
    },
    {
     "data": {
      "image/png": "[encoded data removed]",
      "text/plain": [
       "<Figure size 432x288 with 1 Axes>"
      ]
     },
     "metadata": {
      "needs_background": "light"
     },
     "output_type": "display_data"
    },
    {
     "name": "stderr",
     "output_type": "stream",
     "text": [
      "Clipping input data to the valid range for imshow with RGB data ([0..1] for floats or [0..255] for integers).\n"
     ]
    },
    {
     "name": "stdout",
     "output_type": "stream",
     "text": [
      "./npy_imgs/original_0_47_1.npy\n"
     ]
    },
    {
     "data": {
      "image/png": "[encoded data removed]",
      "text/plain": [
       "<Figure size 432x288 with 1 Axes>"
      ]
     },
     "metadata": {
      "needs_background": "light"
     },
     "output_type": "display_data"
    },
    {
     "name": "stderr",
     "output_type": "stream",
     "text": [
      "Clipping input data to the valid range for imshow with RGB data ([0..1] for floats or [0..255] for integers).\n"
     ]
    },
    {
     "name": "stdout",
     "output_type": "stream",
     "text": [
      "./npy_imgs/original_0_48_1.npy\n"
     ]
    },
    {
     "data": {
      "image/png": "[encoded data removed]",
      "text/plain": [
       "<Figure size 432x288 with 1 Axes>"
      ]
     },
     "metadata": {
      "needs_background": "light"
     },
     "output_type": "display_data"
    },
    {
     "name": "stderr",
     "output_type": "stream",
     "text": [
      "Clipping input data to the valid range for imshow with RGB data ([0..1] for floats or [0..255] for integers).\n"
     ]
    },
    {
     "name": "stdout",
     "output_type": "stream",
     "text": [
      "./npy_imgs/original_0_49_1.npy\n"
     ]
    },
    {
     "data": {
      "image/png": "[encoded data removed]",
      "text/plain": [
       "<Figure size 432x288 with 1 Axes>"
      ]
     },
     "metadata": {
      "needs_background": "light"
     },
     "output_type": "display_data"
    },
    {
     "name": "stderr",
     "output_type": "stream",
     "text": [
      "Clipping input data to the valid range for imshow with RGB data ([0..1] for floats or [0..255] for integers).\n"
     ]
    },
    {
     "name": "stdout",
     "output_type": "stream",
     "text": [
      "./npy_imgs/original_0_50_1.npy\n"
     ]
    },
    {
     "data": {
      "image/png": "[encoded data removed]",
      "text/plain": [
       "<Figure size 432x288 with 1 Axes>"
      ]
     },
     "metadata": {
      "needs_background": "light"
     },
     "output_type": "display_data"
    },
    {
     "name": "stderr",
     "output_type": "stream",
     "text": [
      "Clipping input data to the valid range for imshow with RGB data ([0..1] for floats or [0..255] for integers).\n"
     ]
    },
    {
     "name": "stdout",
     "output_type": "stream",
     "text": [
      "./npy_imgs/original_0_51_1.npy\n"
     ]
    },
    {
     "data": {
      "image/png": "[encoded data removed]",
      "text/plain": [
       "<Figure size 432x288 with 1 Axes>"
      ]
     },
     "metadata": {
      "needs_background": "light"
     },
     "output_type": "display_data"
    },
    {
     "name": "stderr",
     "output_type": "stream",
     "text": [
      "Clipping input data to the valid range for imshow with RGB data ([0..1] for floats or [0..255] for integers).\n"
     ]
    },
    {
     "name": "stdout",
     "output_type": "stream",
     "text": [
      "./npy_imgs/original_0_52_1.npy\n"
     ]
    },
    {
     "data": {
      "image/png": "[encoded data removed]",
      "text/plain": [
       "<Figure size 432x288 with 1 Axes>"
      ]
     },
     "metadata": {
      "needs_background": "light"
     },
     "output_type": "display_data"
    },
    {
     "name": "stderr",
     "output_type": "stream",
     "text": [
      "Clipping input data to the valid range for imshow with RGB data ([0..1] for floats or [0..255] for integers).\n"
     ]
    },
    {
     "name": "stdout",
     "output_type": "stream",
     "text": [
      "./npy_imgs/original_0_53_1.npy\n"
     ]
    },
    {
     "data": {
      "image/png": "[encoded data removed]",
      "text/plain": [
       "<Figure size 432x288 with 1 Axes>"
      ]
     },
     "metadata": {
      "needs_background": "light"
     },
     "output_type": "display_data"
    },
    {
     "name": "stderr",
     "output_type": "stream",
     "text": [
      "Clipping input data to the valid range for imshow with RGB data ([0..1] for floats or [0..255] for integers).\n"
     ]
    },
    {
     "name": "stdout",
     "output_type": "stream",
     "text": [
      "./npy_imgs/original_0_54_1.npy\n"
     ]
    },
    {
     "data": {
      "image/png": "[encoded data removed]",
      "text/plain": [
       "<Figure size 432x288 with 1 Axes>"
      ]
     },
     "metadata": {
      "needs_background": "light"
     },
     "output_type": "display_data"
    },
    {
     "name": "stderr",
     "output_type": "stream",
     "text": [
      "Clipping input data to the valid range for imshow with RGB data ([0..1] for floats or [0..255] for integers).\n"
     ]
    },
    {
     "name": "stdout",
     "output_type": "stream",
     "text": [
      "./npy_imgs/original_0_55_1.npy\n"
     ]
    },
    {
     "data": {
      "image/png": "[encoded data removed]",
      "text/plain": [
       "<Figure size 432x288 with 1 Axes>"
      ]
     },
     "metadata": {
      "needs_background": "light"
     },
     "output_type": "display_data"
    },
    {
     "name": "stderr",
     "output_type": "stream",
     "text": [
      "Clipping input data to the valid range for imshow with RGB data ([0..1] for floats or [0..255] for integers).\n"
     ]
    },
    {
     "name": "stdout",
     "output_type": "stream",
     "text": [
      "./npy_imgs/original_0_56_1.npy\n"
     ]
    },
    {
     "data": {
      "image/png": "[encoded data removed]",
      "text/plain": [
       "<Figure size 432x288 with 1 Axes>"
      ]
     },
     "metadata": {
      "needs_background": "light"
     },
     "output_type": "display_data"
    },
    {
     "name": "stderr",
     "output_type": "stream",
     "text": [
      "Clipping input data to the valid range for imshow with RGB data ([0..1] for floats or [0..255] for integers).\n"
     ]
    },
    {
     "name": "stdout",
     "output_type": "stream",
     "text": [
      "./npy_imgs/original_0_57_1.npy\n"
     ]
    },
    {
     "data": {
      "image/png": "[encoded data removed]",
      "text/plain": [
       "<Figure size 432x288 with 1 Axes>"
      ]
     },
     "metadata": {
      "needs_background": "light"
     },
     "output_type": "display_data"
    },
    {
     "name": "stderr",
     "output_type": "stream",
     "text": [
      "Clipping input data to the valid range for imshow with RGB data ([0..1] for floats or [0..255] for integers).\n"
     ]
    },
    {
     "name": "stdout",
     "output_type": "stream",
     "text": [
      "./npy_imgs/original_0_58_1.npy\n"
     ]
    },
    {
     "data": {
      "image/png": "[encoded data removed]",
      "text/plain": [
       "<Figure size 432x288 with 1 Axes>"
      ]
     },
     "metadata": {
      "needs_background": "light"
     },
     "output_type": "display_data"
    },
    {
     "name": "stderr",
     "output_type": "stream",
     "text": [
      "Clipping input data to the valid range for imshow with RGB data ([0..1] for floats or [0..255] for integers).\n"
     ]
    },
    {
     "name": "stdout",
     "output_type": "stream",
     "text": [
      "./npy_imgs/original_0_59_1.npy\n"
     ]
    },
    {
     "data": {
      "image/png": "[encoded data removed]",
      "text/plain": [
       "<Figure size 432x288 with 1 Axes>"
      ]
     },
     "metadata": {
      "needs_background": "light"
     },
     "output_type": "display_data"
    },
    {
     "name": "stderr",
     "output_type": "stream",
     "text": [
      "Clipping input data to the valid range for imshow with RGB data ([0..1] for floats or [0..255] for integers).\n"
     ]
    },
    {
     "name": "stdout",
     "output_type": "stream",
     "text": [
      "./npy_imgs/original_0_60_1.npy\n"
     ]
    },
    {
     "data": {
      "image/png": "[encoded data removed]",
      "text/plain": [
       "<Figure size 432x288 with 1 Axes>"
      ]
     },
     "metadata": {
      "needs_background": "light"
     },
     "output_type": "display_data"
    },
    {
     "name": "stderr",
     "output_type": "stream",
     "text": [
      "Clipping input data to the valid range for imshow with RGB data ([0..1] for floats or [0..255] for integers).\n"
     ]
    },
    {
     "name": "stdout",
     "output_type": "stream",
     "text": [
      "./npy_imgs/original_0_61_1.npy\n"
     ]
    },
    {
     "data": {
      "image/png": "[encoded data removed]",
      "text/plain": [
       "<Figure size 432x288 with 1 Axes>"
      ]
     },
     "metadata": {
      "needs_background": "light"
     },
     "output_type": "display_data"
    },
    {
     "name": "stderr",
     "output_type": "stream",
     "text": [
      "Clipping input data to the valid range for imshow with RGB data ([0..1] for floats or [0..255] for integers).\n"
     ]
    },
    {
     "name": "stdout",
     "output_type": "stream",
     "text": [
      "./npy_imgs/original_0_62_1.npy\n"
     ]
    },
    {
     "data": {
      "image/png": "[encoded data removed]",
      "text/plain": [
       "<Figure size 432x288 with 1 Axes>"
      ]
     },
     "metadata": {
      "needs_background": "light"
     },
     "output_type": "display_data"
    },
    {
     "name": "stderr",
     "output_type": "stream",
     "text": [
      "Clipping input data to the valid range for imshow with RGB data ([0..1] for floats or [0..255] for integers).\n"
     ]
    },
    {
     "name": "stdout",
     "output_type": "stream",
     "text": [
      "./npy_imgs/original_0_63_1.npy\n"
     ]
    },
    {
     "data": {
      "image/png": "[encoded data removed]",
      "text/plain": [
       "<Figure size 432x288 with 1 Axes>"
      ]
     },
     "metadata": {
      "needs_background": "light"
     },
     "output_type": "display_data"
    },
    {
     "name": "stderr",
     "output_type": "stream",
     "text": [
      "Clipping input data to the valid range for imshow with RGB data ([0..1] for floats or [0..255] for integers).\n"
     ]
    },
    {
     "name": "stdout",
     "output_type": "stream",
     "text": [
      "./npy_imgs/original_0_64_1.npy\n"
     ]
    },
    {
     "data": {
      "image/png": "[encoded data removed]",
      "text/plain": [
       "<Figure size 432x288 with 1 Axes>"
      ]
     },
     "metadata": {
      "needs_background": "light"
     },
     "output_type": "display_data"
    },
    {
     "name": "stderr",
     "output_type": "stream",
     "text": [
      "Clipping input data to the valid range for imshow with RGB data ([0..1] for floats or [0..255] for integers).\n"
     ]
    },
    {
     "name": "stdout",
     "output_type": "stream",
     "text": [
      "./npy_imgs/original_0_65_1.npy\n"
     ]
    },
    {
     "data": {
      "image/png": "[encoded data removed]",
      "text/plain": [
       "<Figure size 432x288 with 1 Axes>"
      ]
     },
     "metadata": {
      "needs_background": "light"
     },
     "output_type": "display_data"
    },
    {
     "name": "stderr",
     "output_type": "stream",
     "text": [
      "Clipping input data to the valid range for imshow with RGB data ([0..1] for floats or [0..255] for integers).\n"
     ]
    },
    {
     "name": "stdout",
     "output_type": "stream",
     "text": [
      "./npy_imgs/original_0_66_1.npy\n"
     ]
    },
    {
     "data": {
      "image/png": "[encoded data removed]",
      "text/plain": [
       "<Figure size 432x288 with 1 Axes>"
      ]
     },
     "metadata": {
      "needs_background": "light"
     },
     "output_type": "display_data"
    },
    {
     "name": "stdout",
     "output_type": "stream",
     "text": [
      "./npy_imgs/original_0_67_1.npy\n"
     ]
    },
    {
     "name": "stderr",
     "output_type": "stream",
     "text": [
      "Clipping input data to the valid range for imshow with RGB data ([0..1] for floats or [0..255] for integers).\n"
     ]
    },
    {
     "data": {
      "image/png": "[encoded data removed]",
      "text/plain": [
       "<Figure size 432x288 with 1 Axes>"
      ]
     },
     "metadata": {
      "needs_background": "light"
     },
     "output_type": "display_data"
    },
    {
     "name": "stdout",
     "output_type": "stream",
     "text": [
      "./npy_imgs/original_0_68_1.npy\n"
     ]
    },
    {
     "name": "stderr",
     "output_type": "stream",
     "text": [
      "Clipping input data to the valid range for imshow with RGB data ([0..1] for floats or [0..255] for integers).\n"
     ]
    },
    {
     "data": {
      "image/png": "[encoded data removed]",
      "text/plain": [
       "<Figure size 432x288 with 1 Axes>"
      ]
     },
     "metadata": {
      "needs_background": "light"
     },
     "output_type": "display_data"
    },
    {
     "name": "stdout",
     "output_type": "stream",
     "text": [
      "./npy_imgs/original_0_69_1.npy\n"
     ]
    },
    {
     "name": "stderr",
     "output_type": "stream",
     "text": [
      "Clipping input data to the valid range for imshow with RGB data ([0..1] for floats or [0..255] for integers).\n"
     ]
    },
    {
     "data": {
      "image/png": "[encoded data removed]",
      "text/plain": [
       "<Figure size 432x288 with 1 Axes>"
      ]
     },
     "metadata": {
      "needs_background": "light"
     },
     "output_type": "display_data"
    },
    {
     "name": "stderr",
     "output_type": "stream",
     "text": [
      "Clipping input data to the valid range for imshow with RGB data ([0..1] for floats or [0..255] for integers).\n"
     ]
    },
    {
     "name": "stdout",
     "output_type": "stream",
     "text": [
      "./npy_imgs/original_0_70_1.npy\n"
     ]
    },
    {
     "data": {
      "image/png": "[encoded data removed]",
      "text/plain": [
       "<Figure size 432x288 with 1 Axes>"
      ]
     },
     "metadata": {
      "needs_background": "light"
     },
     "output_type": "display_data"
    },
    {
     "name": "stderr",
     "output_type": "stream",
     "text": [
      "Clipping input data to the valid range for imshow with RGB data ([0..1] for floats or [0..255] for integers).\n"
     ]
    },
    {
     "name": "stdout",
     "output_type": "stream",
     "text": [
      "./npy_imgs/original_0_71_1.npy\n"
     ]
    },
    {
     "data": {
      "image/png": "[encoded data removed]",
      "text/plain": [
       "<Figure size 432x288 with 1 Axes>"
      ]
     },
     "metadata": {
      "needs_background": "light"
     },
     "output_type": "display_data"
    },
    {
     "name": "stderr",
     "output_type": "stream",
     "text": [
      "Clipping input data to the valid range for imshow with RGB data ([0..1] for floats or [0..255] for integers).\n"
     ]
    },
    {
     "name": "stdout",
     "output_type": "stream",
     "text": [
      "./npy_imgs/original_0_72_1.npy\n"
     ]
    },
    {
     "data": {
      "image/png": "[encoded data removed]",
      "text/plain": [
       "<Figure size 432x288 with 1 Axes>"
      ]
     },
     "metadata": {
      "needs_background": "light"
     },
     "output_type": "display_data"
    },
    {
     "name": "stderr",
     "output_type": "stream",
     "text": [
      "Clipping input data to the valid range for imshow with RGB data ([0..1] for floats or [0..255] for integers).\n"
     ]
    },
    {
     "name": "stdout",
     "output_type": "stream",
     "text": [
      "./npy_imgs/original_0_73_1.npy\n"
     ]
    },
    {
     "data": {
      "image/png": "[encoded data removed]",
      "text/plain": [
       "<Figure size 432x288 with 1 Axes>"
      ]
     },
     "metadata": {
      "needs_background": "light"
     },
     "output_type": "display_data"
    },
    {
     "name": "stderr",
     "output_type": "stream",
     "text": [
      "Clipping input data to the valid range for imshow with RGB data ([0..1] for floats or [0..255] for integers).\n"
     ]
    },
    {
     "name": "stdout",
     "output_type": "stream",
     "text": [
      "./npy_imgs/original_0_74_1.npy\n"
     ]
    },
    {
     "data": {
      "image/png": "[encoded data removed]",
      "text/plain": [
       "<Figure size 432x288 with 1 Axes>"
      ]
     },
     "metadata": {
      "needs_background": "light"
     },
     "output_type": "display_data"
    },
    {
     "name": "stderr",
     "output_type": "stream",
     "text": [
      "Clipping input data to the valid range for imshow with RGB data ([0..1] for floats or [0..255] for integers).\n"
     ]
    },
    {
     "name": "stdout",
     "output_type": "stream",
     "text": [
      "./npy_imgs/original_0_75_1.npy\n"
     ]
    },
    {
     "data": {
      "image/png": "[encoded data removed]",
      "text/plain": [
       "<Figure size 432x288 with 1 Axes>"
      ]
     },
     "metadata": {
      "needs_background": "light"
     },
     "output_type": "display_data"
    },
    {
     "name": "stderr",
     "output_type": "stream",
     "text": [
      "Clipping input data to the valid range for imshow with RGB data ([0..1] for floats or [0..255] for integers).\n"
     ]
    },
    {
     "name": "stdout",
     "output_type": "stream",
     "text": [
      "./npy_imgs/original_0_76_1.npy\n"
     ]
    },
    {
     "data": {
      "image/png": "[encoded data removed]",
      "text/plain": [
       "<Figure size 432x288 with 1 Axes>"
      ]
     },
     "metadata": {
      "needs_background": "light"
     },
     "output_type": "display_data"
    },
    {
     "name": "stderr",
     "output_type": "stream",
     "text": [
      "Clipping input data to the valid range for imshow with RGB data ([0..1] for floats or [0..255] for integers).\n"
     ]
    },
    {
     "name": "stdout",
     "output_type": "stream",
     "text": [
      "./npy_imgs/original_0_77_1.npy\n"
     ]
    },
    {
     "data": {
      "image/png": "[encoded data removed]",
      "text/plain": [
       "<Figure size 432x288 with 1 Axes>"
      ]
     },
     "metadata": {
      "needs_background": "light"
     },
     "output_type": "display_data"
    },
    {
     "name": "stderr",
     "output_type": "stream",
     "text": [
      "Clipping input data to the valid range for imshow with RGB data ([0..1] for floats or [0..255] for integers).\n"
     ]
    },
    {
     "name": "stdout",
     "output_type": "stream",
     "text": [
      "./npy_imgs/original_0_78_1.npy\n"
     ]
    },
    {
     "data": {
      "image/png": "[encoded data removed]",
      "text/plain": [
       "<Figure size 432x288 with 1 Axes>"
      ]
     },
     "metadata": {
      "needs_background": "light"
     },
     "output_type": "display_data"
    },
    {
     "name": "stderr",
     "output_type": "stream",
     "text": [
      "Clipping input data to the valid range for imshow with RGB data ([0..1] for floats or [0..255] for integers).\n"
     ]
    },
    {
     "name": "stdout",
     "output_type": "stream",
     "text": [
      "./npy_imgs/original_0_79_1.npy\n"
     ]
    },
    {
     "data": {
      "image/png": "[encoded data removed]",
      "text/plain": [
       "<Figure size 432x288 with 1 Axes>"
      ]
     },
     "metadata": {
      "needs_background": "light"
     },
     "output_type": "display_data"
    },
    {
     "name": "stderr",
     "output_type": "stream",
     "text": [
      "Clipping input data to the valid range for imshow with RGB data ([0..1] for floats or [0..255] for integers).\n"
     ]
    },
    {
     "name": "stdout",
     "output_type": "stream",
     "text": [
      "./npy_imgs/original_0_80_1.npy\n"
     ]
    },
    {
     "data": {
      "image/png": "[encoded data removed]",
      "text/plain": [
       "<Figure size 432x288 with 1 Axes>"
      ]
     },
     "metadata": {
      "needs_background": "light"
     },
     "output_type": "display_data"
    },
    {
     "name": "stderr",
     "output_type": "stream",
     "text": [
      "Clipping input data to the valid range for imshow with RGB data ([0..1] for floats or [0..255] for integers).\n"
     ]
    },
    {
     "name": "stdout",
     "output_type": "stream",
     "text": [
      "./npy_imgs/original_0_81_1.npy\n"
     ]
    },
    {
     "data": {
      "image/png": "[encoded data removed]",
      "text/plain": [
       "<Figure size 432x288 with 1 Axes>"
      ]
     },
     "metadata": {
      "needs_background": "light"
     },
     "output_type": "display_data"
    },
    {
     "name": "stderr",
     "output_type": "stream",
     "text": [
      "Clipping input data to the valid range for imshow with RGB data ([0..1] for floats or [0..255] for integers).\n"
     ]
    },
    {
     "name": "stdout",
     "output_type": "stream",
     "text": [
      "./npy_imgs/original_0_82_1.npy\n"
     ]
    },
    {
     "data": {
      "image/png": "[encoded data removed]",
      "text/plain": [
       "<Figure size 432x288 with 1 Axes>"
      ]
     },
     "metadata": {
      "needs_background": "light"
     },
     "output_type": "display_data"
    },
    {
     "name": "stderr",
     "output_type": "stream",
     "text": [
      "Clipping input data to the valid range for imshow with RGB data ([0..1] for floats or [0..255] for integers).\n"
     ]
    },
    {
     "name": "stdout",
     "output_type": "stream",
     "text": [
      "./npy_imgs/original_0_83_1.npy\n"
     ]
    },
    {
     "data": {
      "image/png": "[encoded data removed]",
      "text/plain": [
       "<Figure size 432x288 with 1 Axes>"
      ]
     },
     "metadata": {
      "needs_background": "light"
     },
     "output_type": "display_data"
    },
    {
     "name": "stdout",
     "output_type": "stream",
     "text": [
      "./npy_imgs/original_0_84_1.npy\n"
     ]
    },
    {
     "name": "stderr",
     "output_type": "stream",
     "text": [
      "Clipping input data to the valid range for imshow with RGB data ([0..1] for floats or [0..255] for integers).\n"
     ]
    },
    {
     "data": {
      "image/png": "[encoded data removed]",
      "text/plain": [
       "<Figure size 432x288 with 1 Axes>"
      ]
     },
     "metadata": {
      "needs_background": "light"
     },
     "output_type": "display_data"
    },
    {
     "name": "stdout",
     "output_type": "stream",
     "text": [
      "./npy_imgs/original_0_85_1.npy\n"
     ]
    },
    {
     "name": "stderr",
     "output_type": "stream",
     "text": [
      "Clipping input data to the valid range for imshow with RGB data ([0..1] for floats or [0..255] for integers).\n"
     ]
    },
    {
     "data": {
      "image/png": "[encoded data removed]",
      "text/plain": [
       "<Figure size 432x288 with 1 Axes>"
      ]
     },
     "metadata": {
      "needs_background": "light"
     },
     "output_type": "display_data"
    },
    {
     "name": "stdout",
     "output_type": "stream",
     "text": [
      "./npy_imgs/original_0_86_1.npy\n"
     ]
    },
    {
     "name": "stderr",
     "output_type": "stream",
     "text": [
      "Clipping input data to the valid range for imshow with RGB data ([0..1] for floats or [0..255] for integers).\n"
     ]
    },
    {
     "data": {
      "image/png": "[encoded data removed]",
      "text/plain": [
       "<Figure size 432x288 with 1 Axes>"
      ]
     },
     "metadata": {
      "needs_background": "light"
     },
     "output_type": "display_data"
    },
    {
     "name": "stderr",
     "output_type": "stream",
     "text": [
      "Clipping input data to the valid range for imshow with RGB data ([0..1] for floats or [0..255] for integers).\n"
     ]
    },
    {
     "name": "stdout",
     "output_type": "stream",
     "text": [
      "./npy_imgs/original_0_87_1.npy\n"
     ]
    },
    {
     "data": {
      "image/png": "[encoded data removed]",
      "text/plain": [
       "<Figure size 432x288 with 1 Axes>"
      ]
     },
     "metadata": {
      "needs_background": "light"
     },
     "output_type": "display_data"
    },
    {
     "name": "stderr",
     "output_type": "stream",
     "text": [
      "Clipping input data to the valid range for imshow with RGB data ([0..1] for floats or [0..255] for integers).\n"
     ]
    },
    {
     "name": "stdout",
     "output_type": "stream",
     "text": [
      "./npy_imgs/original_0_88_1.npy\n"
     ]
    },
    {
     "data": {
      "image/png": "[encoded data removed]",
      "text/plain": [
       "<Figure size 432x288 with 1 Axes>"
      ]
     },
     "metadata": {
      "needs_background": "light"
     },
     "output_type": "display_data"
    },
    {
     "name": "stderr",
     "output_type": "stream",
     "text": [
      "Clipping input data to the valid range for imshow with RGB data ([0..1] for floats or [0..255] for integers).\n"
     ]
    },
    {
     "name": "stdout",
     "output_type": "stream",
     "text": [
      "./npy_imgs/original_0_89_1.npy\n"
     ]
    },
    {
     "data": {
      "image/png": "[encoded data removed]",
      "text/plain": [
       "<Figure size 432x288 with 1 Axes>"
      ]
     },
     "metadata": {
      "needs_background": "light"
     },
     "output_type": "display_data"
    },
    {
     "name": "stderr",
     "output_type": "stream",
     "text": [
      "Clipping input data to the valid range for imshow with RGB data ([0..1] for floats or [0..255] for integers).\n"
     ]
    },
    {
     "name": "stdout",
     "output_type": "stream",
     "text": [
      "./npy_imgs/original_0_90_1.npy\n"
     ]
    },
    {
     "data": {
      "image/png": "[encoded data removed]",
      "text/plain": [
       "<Figure size 432x288 with 1 Axes>"
      ]
     },
     "metadata": {
      "needs_background": "light"
     },
     "output_type": "display_data"
    },
    {
     "name": "stderr",
     "output_type": "stream",
     "text": [
      "Clipping input data to the valid range for imshow with RGB data ([0..1] for floats or [0..255] for integers).\n"
     ]
    },
    {
     "name": "stdout",
     "output_type": "stream",
     "text": [
      "./npy_imgs/original_0_91_1.npy\n"
     ]
    },
    {
     "data": {
      "image/png": "[encoded data removed]",
      "text/plain": [
       "<Figure size 432x288 with 1 Axes>"
      ]
     },
     "metadata": {
      "needs_background": "light"
     },
     "output_type": "display_data"
    },
    {
     "name": "stderr",
     "output_type": "stream",
     "text": [
      "Clipping input data to the valid range for imshow with RGB data ([0..1] for floats or [0..255] for integers).\n"
     ]
    },
    {
     "name": "stdout",
     "output_type": "stream",
     "text": [
      "./npy_imgs/original_0_92_1.npy\n"
     ]
    },
    {
     "data": {
      "image/png": "[encoded data removed]",
      "text/plain": [
       "<Figure size 432x288 with 1 Axes>"
      ]
     },
     "metadata": {
      "needs_background": "light"
     },
     "output_type": "display_data"
    },
    {
     "name": "stderr",
     "output_type": "stream",
     "text": [
      "Clipping input data to the valid range for imshow with RGB data ([0..1] for floats or [0..255] for integers).\n"
     ]
    },
    {
     "name": "stdout",
     "output_type": "stream",
     "text": [
      "./npy_imgs/original_0_93_1.npy\n"
     ]
    },
    {
     "data": {
      "image/png": "[encoded data removed]",
      "text/plain": [
       "<Figure size 432x288 with 1 Axes>"
      ]
     },
     "metadata": {
      "needs_background": "light"
     },
     "output_type": "display_data"
    },
    {
     "name": "stderr",
     "output_type": "stream",
     "text": [
      "Clipping input data to the valid range for imshow with RGB data ([0..1] for floats or [0..255] for integers).\n"
     ]
    },
    {
     "name": "stdout",
     "output_type": "stream",
     "text": [
      "./npy_imgs/original_0_94_1.npy\n"
     ]
    },
    {
     "data": {
      "image/png": "[encoded data removed]",
      "text/plain": [
       "<Figure size 432x288 with 1 Axes>"
      ]
     },
     "metadata": {
      "needs_background": "light"
     },
     "output_type": "display_data"
    },
    {
     "name": "stderr",
     "output_type": "stream",
     "text": [
      "Clipping input data to the valid range for imshow with RGB data ([0..1] for floats or [0..255] for integers).\n"
     ]
    },
    {
     "name": "stdout",
     "output_type": "stream",
     "text": [
      "./npy_imgs/original_0_95_1.npy\n"
     ]
    },
    {
     "data": {
      "image/png": "[encoded data removed]",
      "text/plain": [
       "<Figure size 432x288 with 1 Axes>"
      ]
     },
     "metadata": {
      "needs_background": "light"
     },
     "output_type": "display_data"
    },
    {
     "name": "stderr",
     "output_type": "stream",
     "text": [
      "Clipping input data to the valid range for imshow with RGB data ([0..1] for floats or [0..255] for integers).\n"
     ]
    },
    {
     "name": "stdout",
     "output_type": "stream",
     "text": [
      "./npy_imgs/original_0_96_1.npy\n"
     ]
    },
    {
     "data": {
      "image/png": "[encoded data removed]",
      "text/plain": [
       "<Figure size 432x288 with 1 Axes>"
      ]
     },
     "metadata": {
      "needs_background": "light"
     },
     "output_type": "display_data"
    },
    {
     "name": "stderr",
     "output_type": "stream",
     "text": [
      "Clipping input data to the valid range for imshow with RGB data ([0..1] for floats or [0..255] for integers).\n"
     ]
    },
    {
     "name": "stdout",
     "output_type": "stream",
     "text": [
      "./npy_imgs/original_0_97_1.npy\n"
     ]
    },
    {
     "data": {
      "image/png": "[encoded data removed]",
      "text/plain": [
       "<Figure size 432x288 with 1 Axes>"
      ]
     },
     "metadata": {
      "needs_background": "light"
     },
     "output_type": "display_data"
    },
    {
     "name": "stderr",
     "output_type": "stream",
     "text": [
      "Clipping input data to the valid range for imshow with RGB data ([0..1] for floats or [0..255] for integers).\n"
     ]
    },
    {
     "name": "stdout",
     "output_type": "stream",
     "text": [
      "./npy_imgs/original_0_98_1.npy\n"
     ]
    },
    {
     "data": {
      "image/png": "[encoded data removed]",
      "text/plain": [
       "<Figure size 432x288 with 1 Axes>"
      ]
     },
     "metadata": {
      "needs_background": "light"
     },
     "output_type": "display_data"
    },
    {
     "name": "stderr",
     "output_type": "stream",
     "text": [
      "Clipping input data to the valid range for imshow with RGB data ([0..1] for floats or [0..255] for integers).\n"
     ]
    },
    {
     "name": "stdout",
     "output_type": "stream",
     "text": [
      "./npy_imgs/original_0_99_1.npy\n"
     ]
    },
    {
     "data": {
      "image/png": "[encoded data removed]",
      "text/plain": [
       "<Figure size 432x288 with 1 Axes>"
      ]
     },
     "metadata": {
      "needs_background": "light"
     },
     "output_type": "display_data"
    },
    {
     "name": "stderr",
     "output_type": "stream",
     "text": [
      "Clipping input data to the valid range for imshow with RGB data ([0..1] for floats or [0..255] for integers).\n"
     ]
    },
    {
     "name": "stdout",
     "output_type": "stream",
     "text": [
      "./npy_imgs/original_0_100_1.npy\n"
     ]
    },
    {
     "data": {
      "image/png": "[encoded data removed]",
      "text/plain": [
       "<Figure size 432x288 with 1 Axes>"
      ]
     },
     "metadata": {
      "needs_background": "light"
     },
     "output_type": "display_data"
    },
    {
     "name": "stderr",
     "output_type": "stream",
     "text": [
      "Clipping input data to the valid range for imshow with RGB data ([0..1] for floats or [0..255] for integers).\n"
     ]
    },
    {
     "name": "stdout",
     "output_type": "stream",
     "text": [
      "./npy_imgs/original_0_101_1.npy\n"
     ]
    },
    {
     "data": {
      "image/png": "[encoded data removed]",
      "text/plain": [
       "<Figure size 432x288 with 1 Axes>"
      ]
     },
     "metadata": {
      "needs_background": "light"
     },
     "output_type": "display_data"
    },
    {
     "name": "stderr",
     "output_type": "stream",
     "text": [
      "Clipping input data to the valid range for imshow with RGB data ([0..1] for floats or [0..255] for integers).\n"
     ]
    },
    {
     "name": "stdout",
     "output_type": "stream",
     "text": [
      "./npy_imgs/original_0_102_1.npy\n"
     ]
    },
    {
     "data": {
      "image/png": "[encoded data removed]",
      "text/plain": [
       "<Figure size 432x288 with 1 Axes>"
      ]
     },
     "metadata": {
      "needs_background": "light"
     },
     "output_type": "display_data"
    },
    {
     "name": "stdout",
     "output_type": "stream",
     "text": [
      "./npy_imgs/original_0_103_1.npy\n"
     ]
    },
    {
     "name": "stderr",
     "output_type": "stream",
     "text": [
      "Clipping input data to the valid range for imshow with RGB data ([0..1] for floats or [0..255] for integers).\n"
     ]
    },
    {
     "data": {
      "image/png": "[encoded data removed]",
      "text/plain": [
       "<Figure size 432x288 with 1 Axes>"
      ]
     },
     "metadata": {
      "needs_background": "light"
     },
     "output_type": "display_data"
    },
    {
     "name": "stderr",
     "output_type": "stream",
     "text": [
      "Clipping input data to the valid range for imshow with RGB data ([0..1] for floats or [0..255] for integers).\n"
     ]
    },
    {
     "name": "stdout",
     "output_type": "stream",
     "text": [
      "./npy_imgs/original_0_104_1.npy\n"
     ]
    },
    {
     "data": {
      "image/png": "[encoded data removed]",
      "text/plain": [
       "<Figure size 432x288 with 1 Axes>"
      ]
     },
     "metadata": {
      "needs_background": "light"
     },
     "output_type": "display_data"
    },
    {
     "name": "stderr",
     "output_type": "stream",
     "text": [
      "Clipping input data to the valid range for imshow with RGB data ([0..1] for floats or [0..255] for integers).\n"
     ]
    },
    {
     "name": "stdout",
     "output_type": "stream",
     "text": [
      "./npy_imgs/original_0_105_1.npy\n"
     ]
    },
    {
     "data": {
      "image/png": "[encoded data removed]",
      "text/plain": [
       "<Figure size 432x288 with 1 Axes>"
      ]
     },
     "metadata": {
      "needs_background": "light"
     },
     "output_type": "display_data"
    },
    {
     "name": "stderr",
     "output_type": "stream",
     "text": [
      "Clipping input data to the valid range for imshow with RGB data ([0..1] for floats or [0..255] for integers).\n"
     ]
    },
    {
     "name": "stdout",
     "output_type": "stream",
     "text": [
      "./npy_imgs/original_0_106_1.npy\n"
     ]
    },
    {
     "data": {
      "image/png": "[encoded data removed]",
      "text/plain": [
       "<Figure size 432x288 with 1 Axes>"
      ]
     },
     "metadata": {
      "needs_background": "light"
     },
     "output_type": "display_data"
    },
    {
     "name": "stderr",
     "output_type": "stream",
     "text": [
      "Clipping input data to the valid range for imshow with RGB data ([0..1] for floats or [0..255] for integers).\n"
     ]
    },
    {
     "name": "stdout",
     "output_type": "stream",
     "text": [
      "./npy_imgs/original_0_107_1.npy\n"
     ]
    },
    {
     "data": {
      "image/png": "[encoded data removed]",
      "text/plain": [
       "<Figure size 432x288 with 1 Axes>"
      ]
     },
     "metadata": {
      "needs_background": "light"
     },
     "output_type": "display_data"
    },
    {
     "name": "stderr",
     "output_type": "stream",
     "text": [
      "Clipping input data to the valid range for imshow with RGB data ([0..1] for floats or [0..255] for integers).\n"
     ]
    },
    {
     "name": "stdout",
     "output_type": "stream",
     "text": [
      "./npy_imgs/original_0_108_1.npy\n"
     ]
    },
    {
     "data": {
      "image/png": "[encoded data removed]",
      "text/plain": [
       "<Figure size 432x288 with 1 Axes>"
      ]
     },
     "metadata": {
      "needs_background": "light"
     },
     "output_type": "display_data"
    },
    {
     "name": "stderr",
     "output_type": "stream",
     "text": [
      "Clipping input data to the valid range for imshow with RGB data ([0..1] for floats or [0..255] for integers).\n"
     ]
    },
    {
     "name": "stdout",
     "output_type": "stream",
     "text": [
      "./npy_imgs/original_0_109_1.npy\n"
     ]
    },
    {
     "data": {
      "image/png": "[encoded data removed]",
      "text/plain": [
       "<Figure size 432x288 with 1 Axes>"
      ]
     },
     "metadata": {
      "needs_background": "light"
     },
     "output_type": "display_data"
    },
    {
     "name": "stderr",
     "output_type": "stream",
     "text": [
      "Clipping input data to the valid range for imshow with RGB data ([0..1] for floats or [0..255] for integers).\n"
     ]
    },
    {
     "name": "stdout",
     "output_type": "stream",
     "text": [
      "./npy_imgs/original_0_110_1.npy\n"
     ]
    },
    {
     "data": {
      "image/png": "[encoded data removed]",
      "text/plain": [
       "<Figure size 432x288 with 1 Axes>"
      ]
     },
     "metadata": {
      "needs_background": "light"
     },
     "output_type": "display_data"
    },
    {
     "name": "stderr",
     "output_type": "stream",
     "text": [
      "Clipping input data to the valid range for imshow with RGB data ([0..1] for floats or [0..255] for integers).\n"
     ]
    },
    {
     "name": "stdout",
     "output_type": "stream",
     "text": [
      "./npy_imgs/original_0_111_1.npy\n"
     ]
    },
    {
     "data": {
      "image/png": "[encoded data removed]",
      "text/plain": [
       "<Figure size 432x288 with 1 Axes>"
      ]
     },
     "metadata": {
      "needs_background": "light"
     },
     "output_type": "display_data"
    },
    {
     "name": "stderr",
     "output_type": "stream",
     "text": [
      "Clipping input data to the valid range for imshow with RGB data ([0..1] for floats or [0..255] for integers).\n"
     ]
    },
    {
     "name": "stdout",
     "output_type": "stream",
     "text": [
      "./npy_imgs/original_0_112_1.npy\n"
     ]
    },
    {
     "data": {
      "image/png": "[encoded data removed]",
      "text/plain": [
       "<Figure size 432x288 with 1 Axes>"
      ]
     },
     "metadata": {
      "needs_background": "light"
     },
     "output_type": "display_data"
    },
    {
     "name": "stderr",
     "output_type": "stream",
     "text": [
      "Clipping input data to the valid range for imshow with RGB data ([0..1] for floats or [0..255] for integers).\n"
     ]
    },
    {
     "name": "stdout",
     "output_type": "stream",
     "text": [
      "./npy_imgs/original_0_113_1.npy\n"
     ]
    },
    {
     "data": {
      "image/png": "[encoded data removed]",
      "text/plain": [
       "<Figure size 432x288 with 1 Axes>"
      ]
     },
     "metadata": {
      "needs_background": "light"
     },
     "output_type": "display_data"
    },
    {
     "name": "stderr",
     "output_type": "stream",
     "text": [
      "Clipping input data to the valid range for imshow with RGB data ([0..1] for floats or [0..255] for integers).\n"
     ]
    },
    {
     "name": "stdout",
     "output_type": "stream",
     "text": [
      "./npy_imgs/original_0_114_1.npy\n"
     ]
    },
    {
     "data": {
      "image/png": "[encoded data removed]",
      "text/plain": [
       "<Figure size 432x288 with 1 Axes>"
      ]
     },
     "metadata": {
      "needs_background": "light"
     },
     "output_type": "display_data"
    },
    {
     "name": "stderr",
     "output_type": "stream",
     "text": [
      "Clipping input data to the valid range for imshow with RGB data ([0..1] for floats or [0..255] for integers).\n"
     ]
    },
    {
     "name": "stdout",
     "output_type": "stream",
     "text": [
      "./npy_imgs/original_0_115_1.npy\n"
     ]
    },
    {
     "data": {
      "image/png": "[encoded data removed]",
      "text/plain": [
       "<Figure size 432x288 with 1 Axes>"
      ]
     },
     "metadata": {
      "needs_background": "light"
     },
     "output_type": "display_data"
    },
    {
     "name": "stderr",
     "output_type": "stream",
     "text": [
      "Clipping input data to the valid range for imshow with RGB data ([0..1] for floats or [0..255] for integers).\n"
     ]
    },
    {
     "name": "stdout",
     "output_type": "stream",
     "text": [
      "./npy_imgs/original_0_116_1.npy\n"
     ]
    },
    {
     "data": {
      "image/png": "[encoded data removed]",
      "text/plain": [
       "<Figure size 432x288 with 1 Axes>"
      ]
     },
     "metadata": {
      "needs_background": "light"
     },
     "output_type": "display_data"
    },
    {
     "name": "stderr",
     "output_type": "stream",
     "text": [
      "Clipping input data to the valid range for imshow with RGB data ([0..1] for floats or [0..255] for integers).\n"
     ]
    },
    {
     "name": "stdout",
     "output_type": "stream",
     "text": [
      "./npy_imgs/original_0_117_1.npy\n"
     ]
    },
    {
     "data": {
      "image/png": "[encoded data removed]",
      "text/plain": [
       "<Figure size 432x288 with 1 Axes>"
      ]
     },
     "metadata": {
      "needs_background": "light"
     },
     "output_type": "display_data"
    },
    {
     "name": "stdout",
     "output_type": "stream",
     "text": [
      "./npy_imgs/original_0_118_1.npy\n"
     ]
    },
    {
     "name": "stderr",
     "output_type": "stream",
     "text": [
      "Clipping input data to the valid range for imshow with RGB data ([0..1] for floats or [0..255] for integers).\n"
     ]
    },
    {
     "data": {
      "image/png": "[encoded data removed]",
      "text/plain": [
       "<Figure size 432x288 with 1 Axes>"
      ]
     },
     "metadata": {
      "needs_background": "light"
     },
     "output_type": "display_data"
    },
    {
     "name": "stderr",
     "output_type": "stream",
     "text": [
      "Clipping input data to the valid range for imshow with RGB data ([0..1] for floats or [0..255] for integers).\n"
     ]
    },
    {
     "name": "stdout",
     "output_type": "stream",
     "text": [
      "./npy_imgs/original_0_119_1.npy\n"
     ]
    },
    {
     "data": {
      "image/png": "[encoded data removed]",
      "text/plain": [
       "<Figure size 432x288 with 1 Axes>"
      ]
     },
     "metadata": {
      "needs_background": "light"
     },
     "output_type": "display_data"
    },
    {
     "name": "stdout",
     "output_type": "stream",
     "text": [
      "./npy_imgs/original_0_120_1.npy\n"
     ]
    },
    {
     "name": "stderr",
     "output_type": "stream",
     "text": [
      "Clipping input data to the valid range for imshow with RGB data ([0..1] for floats or [0..255] for integers).\n"
     ]
    },
    {
     "data": {
      "image/png": "[encoded data removed]",
      "text/plain": [
       "<Figure size 432x288 with 1 Axes>"
      ]
     },
     "metadata": {
      "needs_background": "light"
     },
     "output_type": "display_data"
    },
    {
     "name": "stderr",
     "output_type": "stream",
     "text": [
      "Clipping input data to the valid range for imshow with RGB data ([0..1] for floats or [0..255] for integers).\n"
     ]
    },
    {
     "name": "stdout",
     "output_type": "stream",
     "text": [
      "./npy_imgs/original_0_121_1.npy\n"
     ]
    },
    {
     "data": {
      "image/png": "[encoded data removed]",
      "text/plain": [
       "<Figure size 432x288 with 1 Axes>"
      ]
     },
     "metadata": {
      "needs_background": "light"
     },
     "output_type": "display_data"
    },
    {
     "name": "stderr",
     "output_type": "stream",
     "text": [
      "Clipping input data to the valid range for imshow with RGB data ([0..1] for floats or [0..255] for integers).\n"
     ]
    },
    {
     "name": "stdout",
     "output_type": "stream",
     "text": [
      "./npy_imgs/original_0_122_1.npy\n"
     ]
    },
    {
     "data": {
      "image/png": "[encoded data removed]",
      "text/plain": [
       "<Figure size 432x288 with 1 Axes>"
      ]
     },
     "metadata": {
      "needs_background": "light"
     },
     "output_type": "display_data"
    },
    {
     "name": "stderr",
     "output_type": "stream",
     "text": [
      "Clipping input data to the valid range for imshow with RGB data ([0..1] for floats or [0..255] for integers).\n"
     ]
    },
    {
     "name": "stdout",
     "output_type": "stream",
     "text": [
      "./npy_imgs/original_0_123_1.npy\n"
     ]
    },
    {
     "data": {
      "image/png": "[encoded data removed]",
      "text/plain": [
       "<Figure size 432x288 with 1 Axes>"
      ]
     },
     "metadata": {
      "needs_background": "light"
     },
     "output_type": "display_data"
    },
    {
     "name": "stderr",
     "output_type": "stream",
     "text": [
      "Clipping input data to the valid range for imshow with RGB data ([0..1] for floats or [0..255] for integers).\n"
     ]
    },
    {
     "name": "stdout",
     "output_type": "stream",
     "text": [
      "./npy_imgs/original_0_124_1.npy\n"
     ]
    },
    {
     "data": {
      "image/png": "[encoded data removed]",
      "text/plain": [
       "<Figure size 432x288 with 1 Axes>"
      ]
     },
     "metadata": {
      "needs_background": "light"
     },
     "output_type": "display_data"
    },
    {
     "name": "stderr",
     "output_type": "stream",
     "text": [
      "Clipping input data to the valid range for imshow with RGB data ([0..1] for floats or [0..255] for integers).\n"
     ]
    },
    {
     "name": "stdout",
     "output_type": "stream",
     "text": [
      "./npy_imgs/original_0_125_1.npy\n"
     ]
    },
    {
     "data": {
      "image/png": "[encoded data removed]",
      "text/plain": [
       "<Figure size 432x288 with 1 Axes>"
      ]
     },
     "metadata": {
      "needs_background": "light"
     },
     "output_type": "display_data"
    },
    {
     "name": "stderr",
     "output_type": "stream",
     "text": [
      "Clipping input data to the valid range for imshow with RGB data ([0..1] for floats or [0..255] for integers).\n"
     ]
    },
    {
     "name": "stdout",
     "output_type": "stream",
     "text": [
      "./npy_imgs/original_0_126_1.npy\n"
     ]
    },
    {
     "data": {
      "image/png": "[encoded data removed]",
      "text/plain": [
       "<Figure size 432x288 with 1 Axes>"
      ]
     },
     "metadata": {
      "needs_background": "light"
     },
     "output_type": "display_data"
    },
    {
     "name": "stderr",
     "output_type": "stream",
     "text": [
      "Clipping input data to the valid range for imshow with RGB data ([0..1] for floats or [0..255] for integers).\n"
     ]
    },
    {
     "name": "stdout",
     "output_type": "stream",
     "text": [
      "./npy_imgs/original_0_127_1.npy\n"
     ]
    },
    {
     "data": {
      "image/png": "[encoded data removed]",
      "text/plain": [
       "<Figure size 432x288 with 1 Axes>"
      ]
     },
     "metadata": {
      "needs_background": "light"
     },
     "output_type": "display_data"
    }
   ],
   "source": [
    "for batch, (data, target) in enumerate(troj_test_loader_dic['trigger_09']):\n",
    "    print(len(data))\n",
    "    for j in range(len(data)):\n",
    "#         if target[j].item() == 3:\n",
    "        print(\"./npy_imgs/original_\" + str(batch) + \"_\" + str(j) + \"_\" + str(target[j].item()) + \".npy\")\n",
    "        img = np.transpose(data[j],(1,2,0))\n",
    "#         np.save(\"./npy_imgs/original_\" + str(batch) + \"_\" + str(j) + \"_\" + str(target[j].item()) + \".npy\", data[j])\n",
    "#         im = Image.fromarray(img.numpy(),'RGB')\n",
    "#         im.save(\"./cLRP_img/original_\" + str(batch) + \"_\" + str(j) + \"_\" + str(target[j].item()) + \".jpg\")\n",
    "        plt.imshow(img)\n",
    "        plt.show()\n",
    "    break"
   ]
  },
  {
   "cell_type": "markdown",
   "id": "d48058bc",
   "metadata": {},
   "source": [
    "## training method"
   ]
  },
  {
   "cell_type": "code",
   "execution_count": 82,
   "id": "be8749b9",
   "metadata": {},
   "outputs": [
    {
     "name": "stdout",
     "output_type": "stream",
     "text": [
      "training on:  cuda\n"
     ]
    }
   ],
   "source": [
    "from sklearn.datasets import load_digits\n",
    "from sklearn.manifold import Isomap\n",
    "from sklearn.decomposition import PCA\n",
    "\n",
    "print('training on: ', device)\n",
    "def test(loader, net):\n",
    "    net.eval()\n",
    "    acc = 0.0\n",
    "    sum = 0.0\n",
    "    loss_sum = 0\n",
    "    for batch, (data, target) in enumerate(loader):\n",
    "        data, target = data.to(device), target.to(device)\n",
    "        output = net(data)\n",
    "        loss = criterion(output, target)\n",
    "        loss_sum += loss.item()\n",
    "        _, predicted = output.max(1)\n",
    "        sum += target.size(0)\n",
    "        acc += predicted.eq(target).sum().item()\n",
    "        # acc += torch.sum(torch.argmax(output, dim=1) == target).item()\n",
    "        # sum += len(target)\n",
    "        # loss_sum += loss.item()\n",
    "    print('test  acc: %.2f%%, loss: %.4f' % (100 * acc / sum, loss_sum / (batch + 1)))\n",
    "    return 100 * acc / sum, loss_sum / (batch + 1)\n",
    "    \n",
    "def test_with_scatter(loader, net, scatter_root_dir,epoch):\n",
    "    net.eval()\n",
    "    acc = 0.0\n",
    "    sum = 0.0\n",
    "    loss_sum = 0\n",
    "    marker = ['o', '.', ',', 'x', '+', 'v', '^', '<', '>', 's', 'd']\n",
    "    for batch, (data, target) in enumerate(loader):\n",
    "        data, target = data.to(device), target.to(device)\n",
    "        output = net(data)\n",
    "        if batch == 0:\n",
    "            for layer_id in intermediate_result:\n",
    "                flatten_data = torch.flatten(intermediate_result[layer_id],start_dim=1).detach().cpu().numpy()\n",
    "#                 embedding = PCA(n_components=2)   \n",
    "                embedding = Isomap(n_components=2,n_neighbors = 40)\n",
    "                X_transformed = embedding.fit_transform(flatten_data)\n",
    "                xmax =  max(X_transformed[:,0])\n",
    "                xmin =  min(X_transformed[:,0])\n",
    "                ymax =  max(X_transformed[:,1])\n",
    "                ymin =  min(X_transformed[:,1])\n",
    "                for i in range(10):\n",
    "\n",
    "                    index_pos = np.where(target.detach().cpu().numpy() == i)\n",
    "                    plt.plot(X_transformed[index_pos][:,0], X_transformed[index_pos][:,1], marker[i], label=\"marker='{0}'\".format(i))\n",
    "                plt.legend(numpoints=1)\n",
    "                plt.xlim(xmin, xmax)\n",
    "                plt.ylim(ymin, ymax)\n",
    "                plt.savefig(os.path.join(scatter_root_dir, \"epoch_\" + str(epoch) + \"_layer_\" + str(layer_id) + \".jpg\"))  #输入地址，并利用format函数修改图片名称\n",
    "                plt.clf() #需要重新更新画布，否则会出现同一张画布上绘制多张图片\n",
    "\n",
    "        loss = criterion(output, target)\n",
    "        loss_sum += loss.item()\n",
    "        _, predicted = output.max(1)\n",
    "        sum += target.size(0)\n",
    "        acc += predicted.eq(target).sum().item()\n",
    "        # acc += torch.sum(torch.argmax(output, dim=1) == target).item()\n",
    "        # sum += len(target)\n",
    "        # loss_sum += loss.item()\n",
    "    print('test  acc: %.2f%%, loss: %.4f' % (100 * acc / sum, loss_sum / (batch + 1)))\n",
    "    \n",
    "\n",
    "    \n",
    "def train(loader,net,training_type):\n",
    "    net.train()\n",
    "    acc = 0.0\n",
    "    sum = 0.0\n",
    "    loss_sum = 0\n",
    "\n",
    "    optimizer = torch.optim.SGD(net.parameters(), lr=learning_rate, momentum=0.9, weight_decay=5e-4)\n",
    "    for batch, (data, target) in enumerate(loader):\n",
    "        data, target = data.to(device), target.to(device)\n",
    "\n",
    "        optimizer.zero_grad()\n",
    "        output = net(data)\n",
    "        \n",
    "        loss = criterion(output, target)\n",
    "        loss.backward()\n",
    "        optimizer.step()\n",
    "\n",
    "        loss_sum += loss.item()\n",
    "        _, predicted = output.max(1)\n",
    "        sum += target.size(0)\n",
    "        acc += predicted.eq(target).sum().item()\n",
    "\n",
    "        # acc += torch.sum(torch.argmax(output, dim=1) == target).item()\n",
    "        # sum += len(target)\n",
    "        # loss_sum += loss.item()\n",
    "\n",
    "        if batch % 200 == 0:\n",
    "            print('\\tbatch: %d, loss: %.4f' % (batch, loss.item()))\n",
    "    print('train acc: %.2f%%, loss: %.4f' % (100 * acc / sum, loss_sum / (batch + 1)))\n",
    "    torch.save({\n",
    "            'model_state_dict': net.state_dict(),\n",
    "            'optimizer_state_dict': optimizer.state_dict(),\n",
    "            'loss': loss,\n",
    "            }, \"models/\" + str(training_type) + \"_checkpoint.pth\")\n",
    "    \n",
    "\n"
   ]
  },
  {
   "cell_type": "markdown",
   "id": "1685468c",
   "metadata": {},
   "source": [
    "## train"
   ]
  },
  {
   "cell_type": "code",
   "execution_count": 83,
   "id": "500e3b4e",
   "metadata": {},
   "outputs": [
    {
     "name": "stdout",
     "output_type": "stream",
     "text": [
      "epoch: 0\n",
      "trojan train\n",
      "\tbatch: 0, loss: 2.8377\n",
      "\tbatch: 200, loss: 1.3037\n",
      "\tbatch: 400, loss: 1.1350\n",
      "train acc: 52.23%, loss: 1.3261\n",
      "testset test\n",
      "test  acc: 61.47%, loss: 1.1088\n",
      "troj test\n",
      "trigger_01\n",
      "test  acc: 96.50%, loss: 0.0917\n",
      "trigger_02\n",
      "test  acc: 95.00%, loss: 0.1507\n",
      "trigger_03\n",
      "test  acc: 96.50%, loss: 0.0973\n",
      "trigger_04\n",
      "test  acc: 87.00%, loss: 0.3553\n",
      "trigger_05\n",
      "test  acc: 94.00%, loss: 0.1704\n",
      "trigger_06\n",
      "test  acc: 96.00%, loss: 0.1439\n",
      "trigger_07\n",
      "test  acc: 94.50%, loss: 0.1287\n",
      "trigger_08\n",
      "test  acc: 98.00%, loss: 0.0474\n",
      "trigger_09\n",
      "test  acc: 16.50%, loss: 2.5616\n",
      "epoch: 1\n",
      "trojan train\n",
      "\tbatch: 0, loss: 0.9183\n",
      "\tbatch: 200, loss: 0.8704\n",
      "\tbatch: 400, loss: 0.7560\n",
      "train acc: 69.44%, loss: 0.8879\n",
      "testset test\n",
      "test  acc: 66.79%, loss: 0.9469\n",
      "troj test\n",
      "trigger_01\n",
      "test  acc: 97.00%, loss: 0.0802\n",
      "trigger_02\n",
      "test  acc: 95.00%, loss: 0.1548\n",
      "trigger_03\n",
      "test  acc: 98.00%, loss: 0.0947\n",
      "trigger_04\n",
      "test  acc: 86.50%, loss: 0.4479\n",
      "trigger_05\n",
      "test  acc: 94.00%, loss: 0.1932\n",
      "trigger_06\n",
      "test  acc: 94.50%, loss: 0.2037\n",
      "trigger_07\n",
      "test  acc: 95.50%, loss: 0.1206\n",
      "trigger_08\n",
      "test  acc: 99.00%, loss: 0.0242\n",
      "trigger_09\n",
      "test  acc: 7.50%, loss: 3.7480\n",
      "epoch: 2\n",
      "trojan train\n",
      "\tbatch: 0, loss: 0.9708\n",
      "\tbatch: 200, loss: 0.7937\n",
      "\tbatch: 400, loss: 0.7011\n",
      "train acc: 75.88%, loss: 0.7181\n",
      "testset test\n",
      "test  acc: 71.63%, loss: 0.8393\n",
      "troj test\n",
      "trigger_01\n",
      "test  acc: 98.50%, loss: 0.0401\n",
      "trigger_02\n",
      "test  acc: 96.50%, loss: 0.1187\n",
      "trigger_03\n",
      "test  acc: 98.50%, loss: 0.0475\n",
      "trigger_04\n",
      "test  acc: 95.00%, loss: 0.1353\n",
      "trigger_05\n",
      "test  acc: 96.00%, loss: 0.1189\n",
      "trigger_06\n",
      "test  acc: 98.50%, loss: 0.0470\n",
      "trigger_07\n",
      "test  acc: 98.50%, loss: 0.0525\n",
      "trigger_08\n",
      "test  acc: 99.50%, loss: 0.0058\n",
      "trigger_09\n",
      "test  acc: 11.50%, loss: 3.3320\n",
      "epoch: 3\n",
      "trojan train\n",
      "\tbatch: 0, loss: 0.5281\n",
      "\tbatch: 200, loss: 0.5894\n",
      "\tbatch: 400, loss: 0.6414\n",
      "train acc: 79.37%, loss: 0.6199\n",
      "testset test\n",
      "test  acc: 76.20%, loss: 0.7119\n",
      "troj test\n",
      "trigger_01\n",
      "test  acc: 97.50%, loss: 0.0782\n",
      "trigger_02\n",
      "test  acc: 95.00%, loss: 0.1546\n",
      "trigger_03\n",
      "test  acc: 98.50%, loss: 0.0514\n",
      "trigger_04\n",
      "test  acc: 95.50%, loss: 0.1496\n",
      "trigger_05\n",
      "test  acc: 95.50%, loss: 0.1450\n",
      "trigger_06\n",
      "test  acc: 98.50%, loss: 0.0586\n",
      "trigger_07\n",
      "test  acc: 97.50%, loss: 0.0777\n",
      "trigger_08\n",
      "test  acc: 100.00%, loss: 0.0005\n",
      "trigger_09\n",
      "test  acc: 8.00%, loss: 3.7528\n",
      "epoch: 4\n",
      "trojan train\n",
      "\tbatch: 0, loss: 0.5614\n",
      "\tbatch: 200, loss: 0.6247\n",
      "\tbatch: 400, loss: 0.5411\n",
      "train acc: 81.63%, loss: 0.5602\n",
      "testset test\n",
      "test  acc: 80.39%, loss: 0.5819\n",
      "troj test\n",
      "trigger_01\n",
      "test  acc: 99.00%, loss: 0.0500\n",
      "trigger_02\n",
      "test  acc: 95.00%, loss: 0.2184\n",
      "trigger_03\n",
      "test  acc: 98.50%, loss: 0.0561\n",
      "trigger_04\n",
      "test  acc: 91.50%, loss: 0.2816\n",
      "trigger_05\n",
      "test  acc: 96.00%, loss: 0.1642\n",
      "trigger_06\n",
      "test  acc: 96.50%, loss: 0.1309\n",
      "trigger_07\n",
      "test  acc: 97.00%, loss: 0.1251\n",
      "trigger_08\n",
      "test  acc: 99.50%, loss: 0.0104\n",
      "trigger_09\n",
      "test  acc: 10.50%, loss: 3.8122\n",
      "epoch: 5\n",
      "trojan train\n",
      "\tbatch: 0, loss: 0.3618\n",
      "\tbatch: 200, loss: 0.6060\n",
      "\tbatch: 400, loss: 0.4692\n",
      "train acc: 83.31%, loss: 0.5110\n",
      "testset test\n",
      "test  acc: 80.70%, loss: 0.5853\n",
      "troj test\n",
      "trigger_01\n",
      "test  acc: 98.50%, loss: 0.0495\n",
      "trigger_02\n",
      "test  acc: 95.00%, loss: 0.1411\n",
      "trigger_03\n",
      "test  acc: 98.50%, loss: 0.0589\n",
      "trigger_04\n",
      "test  acc: 90.50%, loss: 0.2159\n",
      "trigger_05\n",
      "test  acc: 95.50%, loss: 0.1369\n",
      "trigger_06\n",
      "test  acc: 97.00%, loss: 0.0958\n",
      "trigger_07\n",
      "test  acc: 97.00%, loss: 0.0704\n",
      "trigger_08\n",
      "test  acc: 100.00%, loss: 0.0072\n",
      "trigger_09\n",
      "test  acc: 11.50%, loss: 3.2138\n",
      "epoch: 6\n",
      "trojan train\n",
      "\tbatch: 0, loss: 0.3926\n",
      "\tbatch: 200, loss: 0.5201\n",
      "\tbatch: 400, loss: 0.4913\n",
      "train acc: 84.75%, loss: 0.4678\n",
      "testset test\n",
      "test  acc: 83.05%, loss: 0.5154\n",
      "troj test\n",
      "trigger_01\n",
      "test  acc: 98.50%, loss: 0.0410\n",
      "trigger_02\n",
      "test  acc: 96.00%, loss: 0.1387\n",
      "trigger_03\n",
      "test  acc: 98.00%, loss: 0.0805\n",
      "trigger_04\n",
      "test  acc: 94.50%, loss: 0.1882\n",
      "trigger_05\n",
      "test  acc: 97.00%, loss: 0.0950\n",
      "trigger_06\n",
      "test  acc: 98.00%, loss: 0.0800\n",
      "trigger_07\n",
      "test  acc: 98.00%, loss: 0.0499\n",
      "trigger_08\n",
      "test  acc: 100.00%, loss: 0.0000\n",
      "trigger_09\n",
      "test  acc: 10.00%, loss: 3.5558\n",
      "epoch: 7\n",
      "trojan train\n",
      "\tbatch: 0, loss: 0.3888\n",
      "\tbatch: 200, loss: 0.7045\n",
      "\tbatch: 400, loss: 0.2916\n",
      "train acc: 85.78%, loss: 0.4397\n",
      "testset test\n",
      "test  acc: 82.97%, loss: 0.5168\n",
      "troj test\n",
      "trigger_01\n",
      "test  acc: 99.00%, loss: 0.0296\n",
      "trigger_02\n",
      "test  acc: 96.00%, loss: 0.1413\n",
      "trigger_03\n",
      "test  acc: 98.50%, loss: 0.0332\n",
      "trigger_04\n",
      "test  acc: 97.00%, loss: 0.0818\n",
      "trigger_05\n",
      "test  acc: 97.00%, loss: 0.0812\n",
      "trigger_06\n",
      "test  acc: 99.50%, loss: 0.0109\n",
      "trigger_07\n",
      "test  acc: 98.00%, loss: 0.0422\n",
      "trigger_08\n",
      "test  acc: 100.00%, loss: 0.0003\n",
      "trigger_09\n",
      "test  acc: 11.00%, loss: 3.2813\n",
      "epoch: 8\n",
      "trojan train\n",
      "\tbatch: 0, loss: 0.4113\n",
      "\tbatch: 200, loss: 0.3122\n",
      "\tbatch: 400, loss: 0.4955\n",
      "train acc: 86.95%, loss: 0.4100\n",
      "testset test\n",
      "test  acc: 83.26%, loss: 0.5179\n",
      "troj test\n",
      "trigger_01\n",
      "test  acc: 99.00%, loss: 0.0393\n",
      "trigger_02\n",
      "test  acc: 95.50%, loss: 0.1718\n",
      "trigger_03\n",
      "test  acc: 98.00%, loss: 0.0746\n",
      "trigger_04\n",
      "test  acc: 94.00%, loss: 0.1630\n",
      "trigger_05\n",
      "test  acc: 96.00%, loss: 0.1464\n",
      "trigger_06\n",
      "test  acc: 99.50%, loss: 0.0110\n",
      "trigger_07\n",
      "test  acc: 98.00%, loss: 0.0594\n",
      "trigger_08\n",
      "test  acc: 100.00%, loss: 0.0002\n",
      "trigger_09\n",
      "test  acc: 10.00%, loss: 3.4661\n",
      "epoch: 9\n",
      "trojan train\n",
      "\tbatch: 0, loss: 0.3462\n",
      "\tbatch: 200, loss: 0.4804\n",
      "\tbatch: 400, loss: 0.4234\n",
      "train acc: 87.63%, loss: 0.3864\n",
      "testset test\n",
      "test  acc: 83.65%, loss: 0.4961\n",
      "troj test\n",
      "trigger_01\n",
      "test  acc: 98.00%, loss: 0.0645\n",
      "trigger_02\n",
      "test  acc: 94.50%, loss: 0.2131\n",
      "trigger_03\n",
      "test  acc: 98.50%, loss: 0.0719\n",
      "trigger_04\n",
      "test  acc: 92.50%, loss: 0.2074\n",
      "trigger_05\n",
      "test  acc: 96.00%, loss: 0.1776\n",
      "trigger_06\n",
      "test  acc: 99.00%, loss: 0.0267\n",
      "trigger_07\n",
      "test  acc: 97.00%, loss: 0.0980\n",
      "trigger_08\n",
      "test  acc: 100.00%, loss: 0.0005\n",
      "trigger_09\n",
      "test  acc: 9.50%, loss: 3.7672\n",
      "epoch: 10\n",
      "trojan train\n",
      "\tbatch: 0, loss: 0.3169\n",
      "\tbatch: 200, loss: 0.1703\n",
      "\tbatch: 400, loss: 0.3096\n",
      "train acc: 88.32%, loss: 0.3667\n",
      "testset test\n",
      "test  acc: 84.57%, loss: 0.4650\n",
      "troj test\n",
      "trigger_01\n",
      "test  acc: 98.50%, loss: 0.0365\n",
      "trigger_02\n",
      "test  acc: 96.00%, loss: 0.1364\n",
      "trigger_03\n",
      "test  acc: 98.50%, loss: 0.0680\n",
      "trigger_04\n",
      "test  acc: 96.50%, loss: 0.1254\n",
      "trigger_05\n",
      "test  acc: 96.00%, loss: 0.1166\n",
      "trigger_06\n",
      "test  acc: 98.00%, loss: 0.0480\n",
      "trigger_07\n",
      "test  acc: 96.50%, loss: 0.1160\n",
      "trigger_08\n",
      "test  acc: 100.00%, loss: 0.0045\n",
      "trigger_09\n",
      "test  acc: 9.00%, loss: 3.5856\n",
      "epoch: 11\n",
      "trojan train\n",
      "\tbatch: 0, loss: 0.2619\n",
      "\tbatch: 200, loss: 0.3136\n",
      "\tbatch: 400, loss: 0.4064\n",
      "train acc: 88.90%, loss: 0.3505\n",
      "testset test\n",
      "test  acc: 85.19%, loss: 0.4581\n",
      "troj test\n",
      "trigger_01\n",
      "test  acc: 99.00%, loss: 0.0410\n",
      "trigger_02\n",
      "test  acc: 95.50%, loss: 0.1483\n",
      "trigger_03\n",
      "test  acc: 98.50%, loss: 0.0547\n",
      "trigger_04\n",
      "test  acc: 93.50%, loss: 0.1755\n",
      "trigger_05\n",
      "test  acc: 98.00%, loss: 0.0642\n",
      "trigger_06\n",
      "test  acc: 98.50%, loss: 0.0629\n",
      "trigger_07\n",
      "test  acc: 98.50%, loss: 0.0618\n",
      "trigger_08\n",
      "test  acc: 100.00%, loss: 0.0003\n",
      "trigger_09\n",
      "test  acc: 9.50%, loss: 3.2299\n",
      "epoch: 12\n",
      "trojan train\n",
      "\tbatch: 0, loss: 0.3433\n",
      "\tbatch: 200, loss: 0.4170\n",
      "\tbatch: 400, loss: 0.4947\n",
      "train acc: 89.56%, loss: 0.3291\n",
      "testset test\n",
      "test  acc: 86.89%, loss: 0.4088\n",
      "troj test\n",
      "trigger_01\n",
      "test  acc: 99.00%, loss: 0.0390\n",
      "trigger_02\n",
      "test  acc: 95.50%, loss: 0.1743\n",
      "trigger_03\n",
      "test  acc: 98.50%, loss: 0.0483\n",
      "trigger_04\n",
      "test  acc: 92.00%, loss: 0.1975\n",
      "trigger_05\n",
      "test  acc: 95.00%, loss: 0.1701\n",
      "trigger_06\n",
      "test  acc: 94.00%, loss: 0.1641\n",
      "trigger_07\n",
      "test  acc: 96.00%, loss: 0.1105\n",
      "trigger_08\n",
      "test  acc: 100.00%, loss: 0.0078\n",
      "trigger_09\n",
      "test  acc: 9.50%, loss: 3.5162\n",
      "epoch: 13\n",
      "trojan train\n",
      "\tbatch: 0, loss: 0.1947\n",
      "\tbatch: 200, loss: 0.3393\n",
      "\tbatch: 400, loss: 0.4039\n",
      "train acc: 89.96%, loss: 0.3170\n",
      "testset test\n",
      "test  acc: 86.65%, loss: 0.3995\n",
      "troj test\n",
      "trigger_01\n",
      "test  acc: 99.00%, loss: 0.0436\n",
      "trigger_02\n",
      "test  acc: 95.50%, loss: 0.1604\n",
      "trigger_03\n",
      "test  acc: 98.50%, loss: 0.0420\n",
      "trigger_04\n",
      "test  acc: 93.50%, loss: 0.1396\n",
      "trigger_05\n",
      "test  acc: 97.00%, loss: 0.0959\n",
      "trigger_06\n",
      "test  acc: 99.50%, loss: 0.0176\n",
      "trigger_07\n",
      "test  acc: 99.00%, loss: 0.0429\n",
      "trigger_08\n",
      "test  acc: 100.00%, loss: 0.0001\n",
      "trigger_09\n",
      "test  acc: 9.50%, loss: 3.5571\n",
      "epoch: 14\n",
      "trojan train\n",
      "\tbatch: 0, loss: 0.3858\n",
      "\tbatch: 200, loss: 0.3014\n",
      "\tbatch: 400, loss: 0.2276\n",
      "train acc: 90.37%, loss: 0.3064\n",
      "testset test\n",
      "test  acc: 86.98%, loss: 0.4017\n",
      "troj test\n",
      "trigger_01\n"
     ]
    },
    {
     "name": "stdout",
     "output_type": "stream",
     "text": [
      "test  acc: 99.00%, loss: 0.0287\n",
      "trigger_02\n",
      "test  acc: 96.00%, loss: 0.1216\n",
      "trigger_03\n",
      "test  acc: 98.50%, loss: 0.0503\n",
      "trigger_04\n",
      "test  acc: 98.00%, loss: 0.0747\n",
      "trigger_05\n",
      "test  acc: 97.50%, loss: 0.0795\n",
      "trigger_06\n",
      "test  acc: 97.50%, loss: 0.0662\n",
      "trigger_07\n",
      "test  acc: 97.00%, loss: 0.0787\n",
      "trigger_08\n",
      "test  acc: 100.00%, loss: 0.0050\n",
      "trigger_09\n",
      "test  acc: 11.00%, loss: 3.2594\n",
      "epoch: 15\n",
      "trojan train\n",
      "\tbatch: 0, loss: 0.2280\n",
      "\tbatch: 200, loss: 0.3934\n",
      "\tbatch: 400, loss: 0.3005\n",
      "train acc: 91.08%, loss: 0.2869\n",
      "testset test\n",
      "test  acc: 87.41%, loss: 0.3978\n",
      "troj test\n",
      "trigger_01\n",
      "test  acc: 98.50%, loss: 0.0428\n",
      "trigger_02\n",
      "test  acc: 95.50%, loss: 0.1361\n",
      "trigger_03\n",
      "test  acc: 98.00%, loss: 0.0657\n",
      "trigger_04\n",
      "test  acc: 95.00%, loss: 0.1273\n",
      "trigger_05\n",
      "test  acc: 96.50%, loss: 0.1221\n",
      "trigger_06\n",
      "test  acc: 98.50%, loss: 0.0298\n",
      "trigger_07\n",
      "test  acc: 97.00%, loss: 0.0743\n",
      "trigger_08\n",
      "test  acc: 100.00%, loss: 0.0013\n",
      "trigger_09\n",
      "test  acc: 11.50%, loss: 3.3299\n",
      "epoch: 16\n",
      "trojan train\n",
      "\tbatch: 0, loss: 0.1985\n",
      "\tbatch: 200, loss: 0.3771\n",
      "\tbatch: 400, loss: 0.2421\n",
      "train acc: 91.30%, loss: 0.2791\n",
      "testset test\n",
      "test  acc: 87.70%, loss: 0.3842\n",
      "troj test\n",
      "trigger_01\n",
      "test  acc: 99.00%, loss: 0.0386\n",
      "trigger_02\n",
      "test  acc: 96.00%, loss: 0.1212\n",
      "trigger_03\n",
      "test  acc: 98.50%, loss: 0.0603\n",
      "trigger_04\n",
      "test  acc: 98.00%, loss: 0.0950\n",
      "trigger_05\n",
      "test  acc: 97.50%, loss: 0.0956\n",
      "trigger_06\n",
      "test  acc: 98.50%, loss: 0.0375\n",
      "trigger_07\n",
      "test  acc: 98.00%, loss: 0.0592\n",
      "trigger_08\n",
      "test  acc: 100.00%, loss: 0.0002\n",
      "trigger_09\n",
      "test  acc: 11.00%, loss: 3.8663\n",
      "epoch: 17\n",
      "trojan train\n",
      "\tbatch: 0, loss: 0.3176\n",
      "\tbatch: 200, loss: 0.2631\n",
      "\tbatch: 400, loss: 0.2492\n",
      "train acc: 91.63%, loss: 0.2708\n",
      "testset test\n",
      "test  acc: 85.86%, loss: 0.4720\n",
      "troj test\n",
      "trigger_01\n",
      "test  acc: 99.00%, loss: 0.0338\n",
      "trigger_02\n",
      "test  acc: 96.50%, loss: 0.1154\n",
      "trigger_03\n",
      "test  acc: 99.00%, loss: 0.0369\n",
      "trigger_04\n",
      "test  acc: 98.50%, loss: 0.0666\n",
      "trigger_05\n",
      "test  acc: 98.00%, loss: 0.0719\n",
      "trigger_06\n",
      "test  acc: 99.50%, loss: 0.0080\n",
      "trigger_07\n",
      "test  acc: 98.00%, loss: 0.0411\n",
      "trigger_08\n",
      "test  acc: 100.00%, loss: 0.0000\n",
      "trigger_09\n",
      "test  acc: 10.00%, loss: 3.8787\n",
      "epoch: 18\n",
      "trojan train\n",
      "\tbatch: 0, loss: 0.3289\n",
      "\tbatch: 200, loss: 0.2482\n",
      "\tbatch: 400, loss: 0.3631\n",
      "train acc: 91.98%, loss: 0.2592\n",
      "testset test\n",
      "test  acc: 87.11%, loss: 0.4012\n",
      "troj test\n",
      "trigger_01\n",
      "test  acc: 98.50%, loss: 0.0504\n",
      "trigger_02\n",
      "test  acc: 96.00%, loss: 0.1456\n",
      "trigger_03\n",
      "test  acc: 98.50%, loss: 0.0738\n",
      "trigger_04\n",
      "test  acc: 98.00%, loss: 0.0717\n",
      "trigger_05\n",
      "test  acc: 96.00%, loss: 0.1589\n",
      "trigger_06\n",
      "test  acc: 100.00%, loss: 0.0014\n",
      "trigger_07\n",
      "test  acc: 96.50%, loss: 0.0982\n",
      "trigger_08\n",
      "test  acc: 100.00%, loss: 0.0001\n",
      "trigger_09\n",
      "test  acc: 11.00%, loss: 3.6605\n",
      "epoch: 19\n",
      "trojan train\n",
      "\tbatch: 0, loss: 0.2837\n",
      "\tbatch: 200, loss: 0.2399\n",
      "\tbatch: 400, loss: 0.2309\n",
      "train acc: 92.17%, loss: 0.2522\n",
      "testset test\n",
      "test  acc: 88.05%, loss: 0.3852\n",
      "troj test\n",
      "trigger_01\n",
      "test  acc: 99.00%, loss: 0.0314\n",
      "trigger_02\n",
      "test  acc: 96.50%, loss: 0.0888\n",
      "trigger_03\n",
      "test  acc: 98.50%, loss: 0.0682\n",
      "trigger_04\n",
      "test  acc: 97.50%, loss: 0.0742\n",
      "trigger_05\n",
      "test  acc: 97.50%, loss: 0.0851\n",
      "trigger_06\n",
      "test  acc: 98.50%, loss: 0.0498\n",
      "trigger_07\n",
      "test  acc: 97.00%, loss: 0.0670\n",
      "trigger_08\n",
      "test  acc: 100.00%, loss: 0.0018\n",
      "trigger_09\n",
      "test  acc: 10.00%, loss: 3.7085\n",
      "epoch: 20\n",
      "trojan train\n",
      "\tbatch: 0, loss: 0.2162\n",
      "\tbatch: 200, loss: 0.2721\n",
      "\tbatch: 400, loss: 0.2969\n",
      "train acc: 92.41%, loss: 0.2448\n",
      "testset test\n",
      "test  acc: 88.22%, loss: 0.3904\n",
      "troj test\n",
      "trigger_01\n",
      "test  acc: 99.00%, loss: 0.0252\n",
      "trigger_02\n",
      "test  acc: 97.50%, loss: 0.0606\n",
      "trigger_03\n",
      "test  acc: 98.50%, loss: 0.0327\n",
      "trigger_04\n",
      "test  acc: 98.50%, loss: 0.0606\n",
      "trigger_05\n",
      "test  acc: 98.50%, loss: 0.0370\n",
      "trigger_06\n",
      "test  acc: 99.50%, loss: 0.0119\n",
      "trigger_07\n",
      "test  acc: 99.00%, loss: 0.0172\n",
      "trigger_08\n",
      "test  acc: 100.00%, loss: 0.0000\n",
      "trigger_09\n",
      "test  acc: 11.00%, loss: 3.1159\n",
      "epoch: 21\n",
      "trojan train\n",
      "\tbatch: 0, loss: 0.2426\n",
      "\tbatch: 200, loss: 0.1817\n",
      "\tbatch: 400, loss: 0.2403\n",
      "train acc: 92.87%, loss: 0.2322\n",
      "testset test\n",
      "test  acc: 88.94%, loss: 0.3616\n",
      "troj test\n",
      "trigger_01\n",
      "test  acc: 99.00%, loss: 0.0411\n",
      "trigger_02\n",
      "test  acc: 95.50%, loss: 0.1363\n",
      "trigger_03\n",
      "test  acc: 98.50%, loss: 0.0706\n",
      "trigger_04\n",
      "test  acc: 98.00%, loss: 0.0667\n",
      "trigger_05\n",
      "test  acc: 97.50%, loss: 0.0987\n",
      "trigger_06\n",
      "test  acc: 99.50%, loss: 0.0223\n",
      "trigger_07\n",
      "test  acc: 97.00%, loss: 0.0745\n",
      "trigger_08\n",
      "test  acc: 100.00%, loss: 0.0020\n",
      "trigger_09\n",
      "test  acc: 10.00%, loss: 3.5965\n",
      "epoch: 22\n",
      "trojan train\n",
      "\tbatch: 0, loss: 0.3241\n",
      "\tbatch: 200, loss: 0.2347\n",
      "\tbatch: 400, loss: 0.2786\n",
      "train acc: 93.11%, loss: 0.2267\n",
      "testset test\n",
      "test  acc: 87.90%, loss: 0.4008\n",
      "troj test\n",
      "trigger_01\n",
      "test  acc: 99.00%, loss: 0.0421\n",
      "trigger_02\n",
      "test  acc: 95.50%, loss: 0.1469\n",
      "trigger_03\n",
      "test  acc: 98.50%, loss: 0.0439\n",
      "trigger_04\n",
      "test  acc: 97.00%, loss: 0.0854\n",
      "trigger_05\n",
      "test  acc: 97.00%, loss: 0.1142\n",
      "trigger_06\n",
      "test  acc: 99.50%, loss: 0.0202\n",
      "trigger_07\n",
      "test  acc: 96.00%, loss: 0.0773\n",
      "trigger_08\n",
      "test  acc: 100.00%, loss: 0.0007\n",
      "trigger_09\n",
      "test  acc: 10.00%, loss: 3.6150\n",
      "epoch: 23\n",
      "trojan train\n",
      "\tbatch: 0, loss: 0.1124\n",
      "\tbatch: 200, loss: 0.2583\n",
      "\tbatch: 400, loss: 0.2946\n",
      "train acc: 93.19%, loss: 0.2209\n",
      "testset test\n",
      "test  acc: 87.07%, loss: 0.4268\n",
      "troj test\n",
      "trigger_01\n",
      "test  acc: 99.00%, loss: 0.0362\n",
      "trigger_02\n",
      "test  acc: 96.00%, loss: 0.0952\n",
      "trigger_03\n",
      "test  acc: 99.00%, loss: 0.0294\n",
      "trigger_04\n",
      "test  acc: 99.00%, loss: 0.0478\n",
      "trigger_05\n",
      "test  acc: 97.50%, loss: 0.0691\n",
      "trigger_06\n",
      "test  acc: 100.00%, loss: 0.0039\n",
      "trigger_07\n",
      "test  acc: 98.50%, loss: 0.0427\n",
      "trigger_08\n",
      "test  acc: 100.00%, loss: 0.0000\n",
      "trigger_09\n",
      "test  acc: 11.50%, loss: 3.3366\n",
      "epoch: 24\n",
      "trojan train\n",
      "\tbatch: 0, loss: 0.2250\n",
      "\tbatch: 200, loss: 0.2347\n",
      "\tbatch: 400, loss: 0.2309\n",
      "train acc: 93.44%, loss: 0.2139\n",
      "testset test\n",
      "test  acc: 88.48%, loss: 0.3737\n",
      "troj test\n",
      "trigger_01\n",
      "test  acc: 99.00%, loss: 0.0405\n",
      "trigger_02\n",
      "test  acc: 96.50%, loss: 0.0939\n",
      "trigger_03\n",
      "test  acc: 98.50%, loss: 0.0548\n",
      "trigger_04\n",
      "test  acc: 97.00%, loss: 0.1068\n",
      "trigger_05\n",
      "test  acc: 98.00%, loss: 0.0505\n",
      "trigger_06\n",
      "test  acc: 98.50%, loss: 0.0291\n",
      "trigger_07\n",
      "test  acc: 98.50%, loss: 0.0457\n",
      "trigger_08\n",
      "test  acc: 100.00%, loss: 0.0001\n",
      "trigger_09\n",
      "test  acc: 11.00%, loss: 3.6527\n",
      "epoch: 25\n",
      "trojan train\n",
      "\tbatch: 0, loss: 0.1699\n",
      "\tbatch: 200, loss: 0.1569\n",
      "\tbatch: 400, loss: 0.2352\n",
      "train acc: 93.78%, loss: 0.2076\n",
      "testset test\n",
      "test  acc: 87.50%, loss: 0.4116\n",
      "troj test\n",
      "trigger_01\n",
      "test  acc: 99.00%, loss: 0.0263\n",
      "trigger_02\n",
      "test  acc: 97.50%, loss: 0.0847\n",
      "trigger_03\n",
      "test  acc: 98.50%, loss: 0.0473\n",
      "trigger_04\n",
      "test  acc: 99.00%, loss: 0.0576\n",
      "trigger_05\n",
      "test  acc: 97.50%, loss: 0.0606\n",
      "trigger_06\n",
      "test  acc: 100.00%, loss: 0.0077\n",
      "trigger_07\n",
      "test  acc: 98.00%, loss: 0.0434\n",
      "trigger_08\n",
      "test  acc: 100.00%, loss: 0.0000\n",
      "trigger_09\n",
      "test  acc: 9.50%, loss: 3.5164\n",
      "epoch: 26\n",
      "trojan train\n",
      "\tbatch: 0, loss: 0.1653\n",
      "\tbatch: 200, loss: 0.2189\n",
      "\tbatch: 400, loss: 0.2589\n",
      "train acc: 94.05%, loss: 0.2006\n",
      "testset test\n",
      "test  acc: 88.67%, loss: 0.3892\n",
      "troj test\n",
      "trigger_01\n",
      "test  acc: 99.00%, loss: 0.0397\n",
      "trigger_02\n",
      "test  acc: 97.00%, loss: 0.0992\n",
      "trigger_03\n",
      "test  acc: 98.50%, loss: 0.0528\n",
      "trigger_04\n",
      "test  acc: 98.50%, loss: 0.0517\n",
      "trigger_05\n",
      "test  acc: 98.00%, loss: 0.0626\n",
      "trigger_06\n",
      "test  acc: 99.50%, loss: 0.0300\n",
      "trigger_07\n",
      "test  acc: 97.50%, loss: 0.0563\n",
      "trigger_08\n",
      "test  acc: 100.00%, loss: 0.0002\n",
      "trigger_09\n",
      "test  acc: 12.00%, loss: 3.5091\n",
      "epoch: 27\n",
      "trojan train\n",
      "\tbatch: 0, loss: 0.1430\n",
      "\tbatch: 200, loss: 0.1838\n",
      "\tbatch: 400, loss: 0.2172\n",
      "train acc: 94.09%, loss: 0.1973\n",
      "testset test\n",
      "test  acc: 89.89%, loss: 0.3377\n",
      "troj test\n",
      "trigger_01\n",
      "test  acc: 99.00%, loss: 0.0431\n",
      "trigger_02\n",
      "test  acc: 97.00%, loss: 0.1055\n",
      "trigger_03\n",
      "test  acc: 98.50%, loss: 0.0771\n",
      "trigger_04\n",
      "test  acc: 98.00%, loss: 0.0705\n",
      "trigger_05\n",
      "test  acc: 97.50%, loss: 0.0644\n",
      "trigger_06\n",
      "test  acc: 99.00%, loss: 0.0139\n",
      "trigger_07\n",
      "test  acc: 97.50%, loss: 0.0527\n",
      "trigger_08\n",
      "test  acc: 100.00%, loss: 0.0000\n",
      "trigger_09\n",
      "test  acc: 10.00%, loss: 3.8314\n",
      "epoch: 28\n",
      "trojan train\n",
      "\tbatch: 0, loss: 0.1156\n",
      "\tbatch: 200, loss: 0.1767\n",
      "\tbatch: 400, loss: 0.3146\n",
      "train acc: 94.24%, loss: 0.1930\n",
      "testset test\n",
      "test  acc: 87.83%, loss: 0.4055\n",
      "troj test\n",
      "trigger_01\n",
      "test  acc: 99.00%, loss: 0.0404\n",
      "trigger_02\n",
      "test  acc: 96.50%, loss: 0.0922\n",
      "trigger_03\n",
      "test  acc: 99.00%, loss: 0.0331\n",
      "trigger_04\n",
      "test  acc: 97.50%, loss: 0.0713\n",
      "trigger_05\n"
     ]
    },
    {
     "name": "stdout",
     "output_type": "stream",
     "text": [
      "test  acc: 98.50%, loss: 0.0312\n",
      "trigger_06\n",
      "test  acc: 99.50%, loss: 0.0217\n",
      "trigger_07\n",
      "test  acc: 98.00%, loss: 0.0648\n",
      "trigger_08\n",
      "test  acc: 100.00%, loss: 0.0016\n",
      "trigger_09\n",
      "test  acc: 12.50%, loss: 3.4622\n",
      "epoch: 29\n",
      "trojan train\n",
      "\tbatch: 0, loss: 0.2700\n",
      "\tbatch: 200, loss: 0.1690\n",
      "\tbatch: 400, loss: 0.1713\n",
      "train acc: 94.33%, loss: 0.1903\n",
      "testset test\n",
      "test  acc: 89.23%, loss: 0.3583\n",
      "troj test\n",
      "trigger_01\n",
      "test  acc: 99.00%, loss: 0.0331\n",
      "trigger_02\n",
      "test  acc: 97.00%, loss: 0.0778\n",
      "trigger_03\n",
      "test  acc: 99.00%, loss: 0.0349\n",
      "trigger_04\n",
      "test  acc: 99.00%, loss: 0.0396\n",
      "trigger_05\n",
      "test  acc: 98.00%, loss: 0.0515\n",
      "trigger_06\n",
      "test  acc: 99.50%, loss: 0.0241\n",
      "trigger_07\n",
      "test  acc: 98.50%, loss: 0.0437\n",
      "trigger_08\n",
      "test  acc: 100.00%, loss: 0.0002\n",
      "trigger_09\n",
      "test  acc: 12.50%, loss: 3.4724\n",
      "epoch: 30\n",
      "trojan train\n",
      "\tbatch: 0, loss: 0.1123\n",
      "\tbatch: 200, loss: 0.1296\n",
      "\tbatch: 400, loss: 0.1399\n",
      "train acc: 94.43%, loss: 0.1832\n",
      "testset test\n",
      "test  acc: 88.70%, loss: 0.3801\n",
      "troj test\n",
      "trigger_01\n",
      "test  acc: 99.00%, loss: 0.0386\n",
      "trigger_02\n",
      "test  acc: 95.00%, loss: 0.1472\n",
      "trigger_03\n",
      "test  acc: 99.00%, loss: 0.0407\n",
      "trigger_04\n",
      "test  acc: 98.50%, loss: 0.0713\n",
      "trigger_05\n",
      "test  acc: 97.00%, loss: 0.1141\n",
      "trigger_06\n",
      "test  acc: 98.50%, loss: 0.0373\n",
      "trigger_07\n",
      "test  acc: 97.00%, loss: 0.0676\n",
      "trigger_08\n",
      "test  acc: 100.00%, loss: 0.0000\n",
      "trigger_09\n",
      "test  acc: 11.00%, loss: 3.7251\n",
      "epoch: 31\n",
      "trojan train\n",
      "\tbatch: 0, loss: 0.1791\n",
      "\tbatch: 200, loss: 0.1491\n",
      "\tbatch: 400, loss: 0.2583\n",
      "train acc: 94.45%, loss: 0.1818\n",
      "testset test\n",
      "test  acc: 88.74%, loss: 0.4026\n",
      "troj test\n",
      "trigger_01\n",
      "test  acc: 99.00%, loss: 0.0231\n",
      "trigger_02\n",
      "test  acc: 97.00%, loss: 0.0732\n",
      "trigger_03\n",
      "test  acc: 99.00%, loss: 0.0363\n",
      "trigger_04\n",
      "test  acc: 98.50%, loss: 0.0498\n",
      "trigger_05\n",
      "test  acc: 98.00%, loss: 0.0418\n",
      "trigger_06\n",
      "test  acc: 99.00%, loss: 0.0313\n",
      "trigger_07\n",
      "test  acc: 97.50%, loss: 0.0337\n",
      "trigger_08\n",
      "test  acc: 100.00%, loss: 0.0008\n",
      "trigger_09\n",
      "test  acc: 11.00%, loss: 3.3088\n",
      "epoch: 32\n",
      "trojan train\n",
      "\tbatch: 0, loss: 0.2160\n",
      "\tbatch: 200, loss: 0.1538\n",
      "\tbatch: 400, loss: 0.2219\n",
      "train acc: 94.77%, loss: 0.1753\n",
      "testset test\n",
      "test  acc: 88.68%, loss: 0.3945\n",
      "troj test\n",
      "trigger_01\n",
      "test  acc: 99.00%, loss: 0.0413\n",
      "trigger_02\n",
      "test  acc: 96.00%, loss: 0.1094\n",
      "trigger_03\n",
      "test  acc: 99.00%, loss: 0.0482\n",
      "trigger_04\n",
      "test  acc: 97.00%, loss: 0.0902\n",
      "trigger_05\n",
      "test  acc: 98.00%, loss: 0.0556\n",
      "trigger_06\n",
      "test  acc: 98.50%, loss: 0.0426\n",
      "trigger_07\n",
      "test  acc: 98.50%, loss: 0.0302\n",
      "trigger_08\n",
      "test  acc: 100.00%, loss: 0.0000\n",
      "trigger_09\n",
      "test  acc: 12.50%, loss: 3.5799\n",
      "epoch: 33\n",
      "trojan train\n",
      "\tbatch: 0, loss: 0.1443\n",
      "\tbatch: 200, loss: 0.1973\n",
      "\tbatch: 400, loss: 0.1333\n",
      "train acc: 94.84%, loss: 0.1723\n",
      "testset test\n",
      "test  acc: 89.06%, loss: 0.3888\n",
      "troj test\n",
      "trigger_01\n",
      "test  acc: 99.00%, loss: 0.0424\n",
      "trigger_02\n",
      "test  acc: 96.50%, loss: 0.0814\n",
      "trigger_03\n",
      "test  acc: 98.50%, loss: 0.0576\n",
      "trigger_04\n",
      "test  acc: 98.00%, loss: 0.0777\n",
      "trigger_05\n",
      "test  acc: 97.00%, loss: 0.0741\n",
      "trigger_06\n",
      "test  acc: 100.00%, loss: 0.0068\n",
      "trigger_07\n",
      "test  acc: 97.50%, loss: 0.0469\n",
      "trigger_08\n",
      "test  acc: 100.00%, loss: 0.0048\n",
      "trigger_09\n",
      "test  acc: 10.50%, loss: 3.4664\n",
      "epoch: 34\n",
      "trojan train\n",
      "\tbatch: 0, loss: 0.0685\n",
      "\tbatch: 200, loss: 0.1915\n",
      "\tbatch: 400, loss: 0.1745\n",
      "train acc: 95.03%, loss: 0.1653\n",
      "testset test\n",
      "test  acc: 89.27%, loss: 0.3719\n",
      "troj test\n",
      "trigger_01\n",
      "test  acc: 99.00%, loss: 0.0385\n",
      "trigger_02\n",
      "test  acc: 97.50%, loss: 0.0840\n",
      "trigger_03\n",
      "test  acc: 99.00%, loss: 0.0409\n",
      "trigger_04\n",
      "test  acc: 99.00%, loss: 0.0706\n",
      "trigger_05\n",
      "test  acc: 98.50%, loss: 0.0496\n",
      "trigger_06\n",
      "test  acc: 99.50%, loss: 0.0091\n",
      "trigger_07\n",
      "test  acc: 99.00%, loss: 0.0119\n",
      "trigger_08\n",
      "test  acc: 100.00%, loss: 0.0000\n",
      "trigger_09\n",
      "test  acc: 10.50%, loss: 3.8888\n",
      "epoch: 35\n",
      "trojan train\n",
      "\tbatch: 0, loss: 0.2024\n",
      "\tbatch: 200, loss: 0.1213\n",
      "\tbatch: 400, loss: 0.1691\n",
      "train acc: 95.04%, loss: 0.1645\n",
      "testset test\n",
      "test  acc: 87.75%, loss: 0.4439\n",
      "troj test\n",
      "trigger_01\n",
      "test  acc: 98.50%, loss: 0.0546\n",
      "trigger_02\n",
      "test  acc: 96.50%, loss: 0.1282\n",
      "trigger_03\n",
      "test  acc: 99.00%, loss: 0.0422\n",
      "trigger_04\n",
      "test  acc: 98.00%, loss: 0.0758\n",
      "trigger_05\n",
      "test  acc: 98.50%, loss: 0.0473\n",
      "trigger_06\n",
      "test  acc: 99.00%, loss: 0.0150\n",
      "trigger_07\n",
      "test  acc: 99.00%, loss: 0.0219\n",
      "trigger_08\n",
      "test  acc: 100.00%, loss: 0.0000\n",
      "trigger_09\n",
      "test  acc: 10.00%, loss: 3.8038\n",
      "epoch: 36\n",
      "trojan train\n",
      "\tbatch: 0, loss: 0.1763\n",
      "\tbatch: 200, loss: 0.1392\n",
      "\tbatch: 400, loss: 0.0996\n",
      "train acc: 95.18%, loss: 0.1605\n",
      "testset test\n",
      "test  acc: 88.98%, loss: 0.3988\n",
      "troj test\n",
      "trigger_01\n",
      "test  acc: 99.50%, loss: 0.0157\n",
      "trigger_02\n",
      "test  acc: 97.50%, loss: 0.0536\n",
      "trigger_03\n",
      "test  acc: 99.00%, loss: 0.0280\n",
      "trigger_04\n",
      "test  acc: 99.00%, loss: 0.0367\n",
      "trigger_05\n",
      "test  acc: 98.00%, loss: 0.0534\n",
      "trigger_06\n",
      "test  acc: 100.00%, loss: 0.0054\n",
      "trigger_07\n",
      "test  acc: 99.50%, loss: 0.0090\n",
      "trigger_08\n",
      "test  acc: 100.00%, loss: 0.0033\n",
      "trigger_09\n",
      "test  acc: 12.50%, loss: 3.2084\n",
      "epoch: 37\n",
      "trojan train\n",
      "\tbatch: 0, loss: 0.2060\n",
      "\tbatch: 200, loss: 0.1625\n",
      "\tbatch: 400, loss: 0.1282\n",
      "train acc: 95.35%, loss: 0.1573\n",
      "testset test\n",
      "test  acc: 88.21%, loss: 0.4223\n",
      "troj test\n",
      "trigger_01\n",
      "test  acc: 99.00%, loss: 0.0506\n",
      "trigger_02\n",
      "test  acc: 96.50%, loss: 0.1325\n",
      "trigger_03\n",
      "test  acc: 99.00%, loss: 0.0304\n",
      "trigger_04\n",
      "test  acc: 97.50%, loss: 0.0875\n",
      "trigger_05\n",
      "test  acc: 98.50%, loss: 0.0546\n",
      "trigger_06\n",
      "test  acc: 97.50%, loss: 0.0655\n",
      "trigger_07\n",
      "test  acc: 96.00%, loss: 0.0697\n",
      "trigger_08\n",
      "test  acc: 99.50%, loss: 0.0090\n",
      "trigger_09\n",
      "test  acc: 10.50%, loss: 3.6040\n",
      "epoch: 38\n",
      "trojan train\n",
      "\tbatch: 0, loss: 0.1223\n",
      "\tbatch: 200, loss: 0.0897\n",
      "\tbatch: 400, loss: 0.1397\n",
      "train acc: 95.30%, loss: 0.1575\n",
      "testset test\n",
      "test  acc: 88.36%, loss: 0.4366\n",
      "troj test\n",
      "trigger_01\n",
      "test  acc: 99.00%, loss: 0.0444\n",
      "trigger_02\n",
      "test  acc: 97.50%, loss: 0.0856\n",
      "trigger_03\n",
      "test  acc: 99.00%, loss: 0.0296\n",
      "trigger_04\n",
      "test  acc: 98.50%, loss: 0.0657\n",
      "trigger_05\n",
      "test  acc: 98.00%, loss: 0.0547\n",
      "trigger_06\n",
      "test  acc: 99.50%, loss: 0.0173\n",
      "trigger_07\n",
      "test  acc: 100.00%, loss: 0.0037\n",
      "trigger_08\n",
      "test  acc: 100.00%, loss: 0.0001\n",
      "trigger_09\n",
      "test  acc: 13.00%, loss: 3.4664\n",
      "epoch: 39\n",
      "trojan train\n",
      "\tbatch: 0, loss: 0.1188\n",
      "\tbatch: 200, loss: 0.0616\n",
      "\tbatch: 400, loss: 0.1210\n",
      "train acc: 95.43%, loss: 0.1527\n",
      "testset test\n",
      "test  acc: 89.63%, loss: 0.3781\n",
      "troj test\n",
      "trigger_01\n",
      "test  acc: 99.00%, loss: 0.0393\n",
      "trigger_02\n",
      "test  acc: 96.00%, loss: 0.1178\n",
      "trigger_03\n",
      "test  acc: 99.00%, loss: 0.0367\n",
      "trigger_04\n",
      "test  acc: 99.00%, loss: 0.0661\n",
      "trigger_05\n",
      "test  acc: 98.00%, loss: 0.0649\n",
      "trigger_06\n",
      "test  acc: 99.00%, loss: 0.0319\n",
      "trigger_07\n",
      "test  acc: 99.00%, loss: 0.0359\n",
      "trigger_08\n",
      "test  acc: 100.00%, loss: 0.0001\n",
      "trigger_09\n",
      "test  acc: 11.50%, loss: 3.7577\n",
      "epoch: 40\n",
      "trojan train\n",
      "\tbatch: 0, loss: 0.1317\n",
      "\tbatch: 200, loss: 0.1626\n",
      "\tbatch: 400, loss: 0.1193\n",
      "train acc: 95.51%, loss: 0.1512\n",
      "testset test\n",
      "test  acc: 89.00%, loss: 0.3954\n",
      "troj test\n",
      "trigger_01\n",
      "test  acc: 99.00%, loss: 0.0408\n",
      "trigger_02\n",
      "test  acc: 97.50%, loss: 0.0937\n",
      "trigger_03\n",
      "test  acc: 98.50%, loss: 0.0453\n",
      "trigger_04\n",
      "test  acc: 98.50%, loss: 0.0659\n",
      "trigger_05\n",
      "test  acc: 98.00%, loss: 0.0591\n",
      "trigger_06\n",
      "test  acc: 99.50%, loss: 0.0090\n",
      "trigger_07\n",
      "test  acc: 99.00%, loss: 0.0376\n",
      "trigger_08\n",
      "test  acc: 100.00%, loss: 0.0010\n",
      "trigger_09\n",
      "test  acc: 12.00%, loss: 3.6291\n",
      "epoch: 41\n",
      "trojan train\n",
      "\tbatch: 0, loss: 0.0977\n",
      "\tbatch: 200, loss: 0.1983\n",
      "\tbatch: 400, loss: 0.0793\n",
      "train acc: 95.67%, loss: 0.1445\n",
      "testset test\n",
      "test  acc: 89.96%, loss: 0.3687\n",
      "troj test\n",
      "trigger_01\n",
      "test  acc: 99.00%, loss: 0.0425\n",
      "trigger_02\n",
      "test  acc: 96.00%, loss: 0.1164\n",
      "trigger_03\n",
      "test  acc: 98.50%, loss: 0.0505\n",
      "trigger_04\n",
      "test  acc: 98.00%, loss: 0.0864\n",
      "trigger_05\n",
      "test  acc: 96.50%, loss: 0.0834\n",
      "trigger_06\n",
      "test  acc: 98.50%, loss: 0.0430\n",
      "trigger_07\n",
      "test  acc: 98.00%, loss: 0.0565\n",
      "trigger_08\n",
      "test  acc: 100.00%, loss: 0.0000\n",
      "trigger_09\n",
      "test  acc: 10.50%, loss: 3.7508\n",
      "epoch: 42\n",
      "trojan train\n",
      "\tbatch: 0, loss: 0.1278\n",
      "\tbatch: 200, loss: 0.1238\n",
      "\tbatch: 400, loss: 0.2234\n",
      "train acc: 95.65%, loss: 0.1449\n",
      "testset test\n",
      "test  acc: 88.23%, loss: 0.4403\n",
      "troj test\n",
      "trigger_01\n",
      "test  acc: 99.00%, loss: 0.0497\n",
      "trigger_02\n",
      "test  acc: 96.00%, loss: 0.1403\n",
      "trigger_03\n",
      "test  acc: 98.50%, loss: 0.0351\n",
      "trigger_04\n",
      "test  acc: 96.00%, loss: 0.1360\n",
      "trigger_05\n",
      "test  acc: 97.50%, loss: 0.0730\n",
      "trigger_06\n",
      "test  acc: 100.00%, loss: 0.0097\n",
      "trigger_07\n",
      "test  acc: 99.00%, loss: 0.0257\n",
      "trigger_08\n",
      "test  acc: 100.00%, loss: 0.0002\n",
      "trigger_09\n"
     ]
    },
    {
     "name": "stdout",
     "output_type": "stream",
     "text": [
      "test  acc: 12.00%, loss: 3.5865\n",
      "epoch: 43\n",
      "trojan train\n",
      "\tbatch: 0, loss: 0.1451\n",
      "\tbatch: 200, loss: 0.1422\n",
      "\tbatch: 400, loss: 0.1133\n",
      "train acc: 95.82%, loss: 0.1422\n",
      "testset test\n",
      "test  acc: 88.98%, loss: 0.4002\n",
      "troj test\n",
      "trigger_01\n",
      "test  acc: 99.00%, loss: 0.0470\n",
      "trigger_02\n",
      "test  acc: 96.00%, loss: 0.1452\n",
      "trigger_03\n",
      "test  acc: 98.50%, loss: 0.0740\n",
      "trigger_04\n",
      "test  acc: 97.50%, loss: 0.1030\n",
      "trigger_05\n",
      "test  acc: 97.50%, loss: 0.0906\n",
      "trigger_06\n",
      "test  acc: 99.00%, loss: 0.0162\n",
      "trigger_07\n",
      "test  acc: 98.00%, loss: 0.0525\n",
      "trigger_08\n",
      "test  acc: 100.00%, loss: 0.0012\n",
      "trigger_09\n",
      "test  acc: 11.00%, loss: 4.2270\n",
      "epoch: 44\n",
      "trojan train\n",
      "\tbatch: 0, loss: 0.0948\n",
      "\tbatch: 200, loss: 0.1613\n",
      "\tbatch: 400, loss: 0.1610\n",
      "train acc: 95.94%, loss: 0.1382\n",
      "testset test\n",
      "test  acc: 89.53%, loss: 0.4007\n",
      "troj test\n",
      "trigger_01\n",
      "test  acc: 99.00%, loss: 0.0336\n",
      "trigger_02\n",
      "test  acc: 97.00%, loss: 0.0866\n",
      "trigger_03\n",
      "test  acc: 98.50%, loss: 0.0450\n",
      "trigger_04\n",
      "test  acc: 98.50%, loss: 0.0622\n",
      "trigger_05\n",
      "test  acc: 97.50%, loss: 0.0601\n",
      "trigger_06\n",
      "test  acc: 99.50%, loss: 0.0066\n",
      "trigger_07\n",
      "test  acc: 99.00%, loss: 0.0211\n",
      "trigger_08\n",
      "test  acc: 100.00%, loss: 0.0053\n",
      "trigger_09\n",
      "test  acc: 11.00%, loss: 3.7923\n",
      "epoch: 45\n",
      "trojan train\n",
      "\tbatch: 0, loss: 0.0825\n",
      "\tbatch: 200, loss: 0.1542\n",
      "\tbatch: 400, loss: 0.1077\n",
      "train acc: 95.94%, loss: 0.1365\n",
      "testset test\n",
      "test  acc: 89.57%, loss: 0.3821\n",
      "troj test\n",
      "trigger_01\n",
      "test  acc: 99.00%, loss: 0.0422\n",
      "trigger_02\n",
      "test  acc: 96.50%, loss: 0.0991\n",
      "trigger_03\n",
      "test  acc: 99.00%, loss: 0.0307\n",
      "trigger_04\n",
      "test  acc: 99.00%, loss: 0.0674\n",
      "trigger_05\n",
      "test  acc: 97.50%, loss: 0.0535\n",
      "trigger_06\n",
      "test  acc: 99.00%, loss: 0.0234\n",
      "trigger_07\n",
      "test  acc: 97.50%, loss: 0.0428\n",
      "trigger_08\n",
      "test  acc: 100.00%, loss: 0.0001\n",
      "trigger_09\n",
      "test  acc: 12.50%, loss: 3.6505\n",
      "epoch: 46\n",
      "trojan train\n",
      "\tbatch: 0, loss: 0.1449\n",
      "\tbatch: 200, loss: 0.0866\n",
      "\tbatch: 400, loss: 0.0836\n",
      "train acc: 95.92%, loss: 0.1369\n",
      "testset test\n",
      "test  acc: 89.81%, loss: 0.3702\n",
      "troj test\n",
      "trigger_01\n",
      "test  acc: 99.00%, loss: 0.0487\n",
      "trigger_02\n",
      "test  acc: 95.00%, loss: 0.1423\n",
      "trigger_03\n",
      "test  acc: 98.50%, loss: 0.0583\n",
      "trigger_04\n",
      "test  acc: 98.50%, loss: 0.0919\n",
      "trigger_05\n",
      "test  acc: 97.50%, loss: 0.0829\n",
      "trigger_06\n",
      "test  acc: 98.50%, loss: 0.0387\n",
      "trigger_07\n",
      "test  acc: 98.00%, loss: 0.0617\n",
      "trigger_08\n",
      "test  acc: 100.00%, loss: 0.0001\n",
      "trigger_09\n",
      "test  acc: 10.00%, loss: 4.5250\n",
      "epoch: 47\n",
      "trojan train\n",
      "\tbatch: 0, loss: 0.2189\n",
      "\tbatch: 200, loss: 0.0794\n",
      "\tbatch: 400, loss: 0.1145\n",
      "train acc: 96.04%, loss: 0.1313\n",
      "testset test\n",
      "test  acc: 89.94%, loss: 0.3770\n",
      "troj test\n",
      "trigger_01\n",
      "test  acc: 99.00%, loss: 0.0348\n",
      "trigger_02\n",
      "test  acc: 95.50%, loss: 0.1427\n",
      "trigger_03\n",
      "test  acc: 99.00%, loss: 0.0424\n",
      "trigger_04\n",
      "test  acc: 99.00%, loss: 0.0659\n",
      "trigger_05\n",
      "test  acc: 97.00%, loss: 0.0799\n",
      "trigger_06\n",
      "test  acc: 99.50%, loss: 0.0135\n",
      "trigger_07\n",
      "test  acc: 99.00%, loss: 0.0357\n",
      "trigger_08\n",
      "test  acc: 100.00%, loss: 0.0000\n",
      "trigger_09\n",
      "test  acc: 12.00%, loss: 3.9472\n",
      "epoch: 48\n",
      "trojan train\n",
      "\tbatch: 0, loss: 0.0980\n",
      "\tbatch: 200, loss: 0.1475\n",
      "\tbatch: 400, loss: 0.0786\n",
      "train acc: 96.12%, loss: 0.1308\n",
      "testset test\n",
      "test  acc: 88.53%, loss: 0.4544\n",
      "troj test\n",
      "trigger_01\n",
      "test  acc: 99.00%, loss: 0.0370\n",
      "trigger_02\n",
      "test  acc: 96.00%, loss: 0.1439\n",
      "trigger_03\n",
      "test  acc: 99.00%, loss: 0.0531\n",
      "trigger_04\n",
      "test  acc: 98.00%, loss: 0.0646\n",
      "trigger_05\n",
      "test  acc: 98.00%, loss: 0.0628\n",
      "trigger_06\n",
      "test  acc: 99.00%, loss: 0.0466\n",
      "trigger_07\n",
      "test  acc: 97.50%, loss: 0.0468\n",
      "trigger_08\n",
      "test  acc: 100.00%, loss: 0.0009\n",
      "trigger_09\n",
      "test  acc: 11.00%, loss: 3.6148\n",
      "epoch: 49\n",
      "trojan train\n",
      "\tbatch: 0, loss: 0.0471\n",
      "\tbatch: 200, loss: 0.1360\n",
      "\tbatch: 400, loss: 0.1995\n",
      "train acc: 96.09%, loss: 0.1306\n",
      "testset test\n",
      "test  acc: 90.00%, loss: 0.3726\n",
      "troj test\n",
      "trigger_01\n",
      "test  acc: 99.00%, loss: 0.0435\n",
      "trigger_02\n",
      "test  acc: 96.00%, loss: 0.1127\n",
      "trigger_03\n",
      "test  acc: 99.00%, loss: 0.0353\n",
      "trigger_04\n",
      "test  acc: 98.00%, loss: 0.0663\n",
      "trigger_05\n",
      "test  acc: 98.50%, loss: 0.0429\n",
      "trigger_06\n",
      "test  acc: 98.50%, loss: 0.0591\n",
      "trigger_07\n",
      "test  acc: 99.00%, loss: 0.0266\n",
      "trigger_08\n",
      "test  acc: 100.00%, loss: 0.0003\n",
      "trigger_09\n",
      "test  acc: 12.50%, loss: 3.7305\n",
      "epoch: 50\n",
      "trojan train\n",
      "\tbatch: 0, loss: 0.0930\n",
      "\tbatch: 200, loss: 0.1093\n",
      "\tbatch: 400, loss: 0.1345\n",
      "train acc: 96.25%, loss: 0.1256\n",
      "testset test\n",
      "test  acc: 89.69%, loss: 0.3865\n",
      "troj test\n",
      "trigger_01\n",
      "test  acc: 99.00%, loss: 0.0491\n",
      "trigger_02\n",
      "test  acc: 96.00%, loss: 0.1273\n",
      "trigger_03\n",
      "test  acc: 99.00%, loss: 0.0577\n",
      "trigger_04\n",
      "test  acc: 97.50%, loss: 0.1010\n",
      "trigger_05\n",
      "test  acc: 97.50%, loss: 0.0929\n",
      "trigger_06\n",
      "test  acc: 98.50%, loss: 0.0560\n",
      "trigger_07\n",
      "test  acc: 97.50%, loss: 0.0553\n",
      "trigger_08\n",
      "test  acc: 100.00%, loss: 0.0004\n",
      "trigger_09\n",
      "test  acc: 10.00%, loss: 4.6858\n",
      "epoch: 51\n",
      "trojan train\n",
      "\tbatch: 0, loss: 0.1230\n",
      "\tbatch: 200, loss: 0.1053\n",
      "\tbatch: 400, loss: 0.0942\n",
      "train acc: 96.11%, loss: 0.1269\n",
      "testset test\n",
      "test  acc: 89.19%, loss: 0.4169\n",
      "troj test\n",
      "trigger_01\n",
      "test  acc: 99.50%, loss: 0.0291\n",
      "trigger_02\n",
      "test  acc: 98.50%, loss: 0.0618\n",
      "trigger_03\n",
      "test  acc: 99.00%, loss: 0.0439\n",
      "trigger_04\n",
      "test  acc: 99.00%, loss: 0.0425\n",
      "trigger_05\n",
      "test  acc: 99.00%, loss: 0.0466\n",
      "trigger_06\n",
      "test  acc: 99.00%, loss: 0.0178\n",
      "trigger_07\n",
      "test  acc: 99.00%, loss: 0.0236\n",
      "trigger_08\n",
      "test  acc: 100.00%, loss: 0.0004\n",
      "trigger_09\n",
      "test  acc: 11.00%, loss: 4.1837\n",
      "epoch: 52\n",
      "trojan train\n",
      "\tbatch: 0, loss: 0.0581\n",
      "\tbatch: 200, loss: 0.2536\n",
      "\tbatch: 400, loss: 0.0640\n",
      "train acc: 96.08%, loss: 0.1255\n",
      "testset test\n",
      "test  acc: 89.60%, loss: 0.3773\n",
      "troj test\n",
      "trigger_01\n",
      "test  acc: 99.50%, loss: 0.0203\n",
      "trigger_02\n",
      "test  acc: 98.00%, loss: 0.0781\n",
      "trigger_03\n",
      "test  acc: 99.00%, loss: 0.0365\n",
      "trigger_04\n",
      "test  acc: 98.00%, loss: 0.0658\n",
      "trigger_05\n",
      "test  acc: 98.00%, loss: 0.0549\n",
      "trigger_06\n",
      "test  acc: 99.50%, loss: 0.0252\n",
      "trigger_07\n",
      "test  acc: 97.00%, loss: 0.0596\n",
      "trigger_08\n",
      "test  acc: 100.00%, loss: 0.0036\n",
      "trigger_09\n",
      "test  acc: 11.50%, loss: 4.4204\n",
      "epoch: 53\n",
      "trojan train\n",
      "\tbatch: 0, loss: 0.0723\n",
      "\tbatch: 200, loss: 0.1832\n",
      "\tbatch: 400, loss: 0.1608\n",
      "train acc: 96.14%, loss: 0.1271\n",
      "testset test\n",
      "test  acc: 90.04%, loss: 0.3766\n",
      "troj test\n",
      "trigger_01\n",
      "test  acc: 99.00%, loss: 0.0299\n",
      "trigger_02\n",
      "test  acc: 97.50%, loss: 0.0783\n",
      "trigger_03\n",
      "test  acc: 99.00%, loss: 0.0305\n",
      "trigger_04\n",
      "test  acc: 98.50%, loss: 0.0540\n",
      "trigger_05\n",
      "test  acc: 98.50%, loss: 0.0392\n",
      "trigger_06\n",
      "test  acc: 99.50%, loss: 0.0356\n",
      "trigger_07\n",
      "test  acc: 98.50%, loss: 0.0216\n",
      "trigger_08\n",
      "test  acc: 100.00%, loss: 0.0001\n",
      "trigger_09\n",
      "test  acc: 11.50%, loss: 3.5464\n",
      "early stopped at epoch  53\n"
     ]
    }
   ],
   "source": [
    "load_model = False\n",
    "if load_model == True:\n",
    "    print(\"load_model\")\n",
    "    net = VGG('VGG16').to(device)\n",
    "\n",
    "    optimizer_load = torch.optim.SGD(net.parameters(), lr=learning_rate, momentum=0.9, weight_decay=5e-4)\n",
    "\n",
    "    checkpoint = torch.load('models/unlearning_checkpoint.pth')\n",
    "    net.load_state_dict(checkpoint['model_state_dict'])\n",
    "    optimizer_load.load_state_dict(checkpoint['optimizer_state_dict'])\n",
    "    loss = checkpoint['loss']\n",
    "    net.eval()\n",
    "    print(\"troj test\")\n",
    "    asr, asr_loss = test(troj_test_loader,net)\n",
    "    print(\"testset test\")\n",
    "    acc, acc_loss = test(ori_test_loader,net)\n",
    "    print(\"adv test\")\n",
    "    adv_acc,adv_loss = test(adv_test_loader,net)\n",
    "#     net = torch.load('models/troj_train.pkl')\n",
    "\n",
    "\n",
    "else:\n",
    "    for epoch in range(200):\n",
    "        print('epoch: %d' % epoch)\n",
    "        print(\"trojan train\")\n",
    "        train(troj_train_loader,net,\"multi_pois\")\n",
    "        print(\"testset test\")\n",
    "        acc, acc_loss = test(ori_test_loader,net)\n",
    "        print(\"troj test\")\n",
    "        for trigger_id in trigger_info_dict:\n",
    "            print(trigger_id)\n",
    "            asr, asr_loss = test(troj_test_loader_dic[trigger_id],net)\n",
    "#         if acc >90 and asr >90:\n",
    "        if acc >90:\n",
    "            print(\"early stopped at epoch \", epoch)\n",
    "            break\n",
    "#         test_with_scatter(test_loader,net,\"/home/rui/Desktop/code_zone/current_project/forgotten_trigger/40_neibor_isomap_scatter_plot\",epoch)\n",
    "        # scheduler.step()"
   ]
  },
  {
   "cell_type": "code",
   "execution_count": null,
   "id": "cb931e46",
   "metadata": {},
   "outputs": [],
   "source": []
  },
  {
   "cell_type": "code",
   "execution_count": null,
   "id": "c7d99eff",
   "metadata": {},
   "outputs": [],
   "source": []
  }
 ],
 "metadata": {
  "kernelspec": {
   "display_name": "Python 3 (ipykernel)",
   "language": "python",
   "name": "python3"
  },
  "language_info": {
   "codemirror_mode": {
    "name": "ipython",
    "version": 3
   },
   "file_extension": ".py",
   "mimetype": "text/x-python",
   "name": "python",
   "nbconvert_exporter": "python",
   "pygments_lexer": "ipython3",
   "version": "3.8.12"
  },
  "toc": {
   "base_numbering": 1,
   "nav_menu": {},
   "number_sections": true,
   "sideBar": true,
   "skip_h1_title": false,
   "title_cell": "Table of Contents",
   "title_sidebar": "Contents",
   "toc_cell": false,
   "toc_position": {
    "height": "calc(100% - 180px)",
    "left": "10px",
    "top": "150px",
    "width": "493.75px"
   },
   "toc_section_display": true,
   "toc_window_display": true
  }
 },
 "nbformat": 4,
 "nbformat_minor": 5
}
