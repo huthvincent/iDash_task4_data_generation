{
 "cells": [
  {
   "cell_type": "markdown",
   "id": "d1c5395b",
   "metadata": {},
   "source": [
    "## Import"
   ]
  },
  {
   "cell_type": "code",
   "execution_count": 1,
   "id": "0eab6a80",
   "metadata": {},
   "outputs": [],
   "source": [
    "import numpy as np\n",
    "import cv2\n",
    "import torch\n",
    "import torchvision\n",
    "from PIL import Image\n",
    "import os \n",
    "\n",
    "import torch\n",
    "import torchvision\n",
    "import torch.nn as nn\n",
    "import scipy\n",
    "import torchvision.transforms as transforms\n",
    "from torchvision import datasets as ds\n",
    "from torch.utils.data import DataLoader\n",
    "import matplotlib.pyplot as plt\n",
    "import numpy as np\n",
    "import random\n",
    "\n",
    "from PIL import Image\n",
    "import cv2\n",
    "import matplotlib.pyplot as plt\n",
    "\n",
    "import torchvision.models as models_lib"
   ]
  },
  {
   "cell_type": "markdown",
   "id": "356f44b7",
   "metadata": {},
   "source": [
    "## 地址"
   ]
  },
  {
   "cell_type": "code",
   "execution_count": 2,
   "id": "2566e993",
   "metadata": {},
   "outputs": [],
   "source": [
    "trigger_casual_dir = \"/home/rui/Desktop/disk2/data/trojan_casual/image_trigger\"\n"
   ]
  },
  {
   "cell_type": "code",
   "execution_count": 3,
   "id": "020496c0",
   "metadata": {},
   "outputs": [],
   "source": [
    "# 把数据缩放到（-1，1）\n",
    "class Oneone(torch.nn.Module):\n",
    "    def __init__(self, inplace=False):\n",
    "        super().__init__()\n",
    "        self.inplace = inplace\n",
    "\n",
    "    def forward(self, tensor):\n",
    "        return tensor*2.0-1.0\n",
    "        # return F.normalize(tensor, self.mean, self.std, self.inplace)\n",
    "\n",
    "# transform = transforms.Compose是把一系列图片操作组合起来，比如减去像素均值等。\n",
    "# DataLoader读入的数据类型是PIL.Image\n",
    "# 这里对图片不做任何处理，仅仅是把PIL.Image转换为torch.FloatTensor，从而可以被pytorch计算\n",
    "transform_train = transforms.Compose(\n",
    "    [\n",
    "        transforms.RandomCrop(32, padding=4),\n",
    "        transforms.RandomHorizontalFlip(),\n",
    "        transforms.ToTensor(),\n",
    "        transforms.Normalize((0.4914, 0.4822, 0.4465), (0.2023, 0.1994, 0.2010)),\n",
    "        Oneone(),\n",
    "    ]\n",
    ")\n",
    "transform_test = transforms.Compose([\n",
    "    transforms.ToTensor(),\n",
    "    transforms.Normalize((0.4914, 0.4822, 0.4465), (0.2023, 0.1994, 0.2010)),\n",
    "    Oneone(),\n",
    "])\n"
   ]
  },
  {
   "cell_type": "code",
   "execution_count": 4,
   "id": "b5eb6edd",
   "metadata": {},
   "outputs": [],
   "source": [
    "load_model = False\n",
    "load_data_loader = False\n",
    "learning_rate = 0.005\n",
    "batch_size = 128\n",
    "test_batch_size = 128\n",
    "trigger_size = 8\n",
    "trigger_pos = 0\n",
    "inject_r = 0.3\n",
    "untrust_prop = 0.95\n",
    "ret = 175# ret是控制mask透明度的阈值（175）\n",
    "target_label_1 = 9\n",
    "target_label_2 = 0\n",
    "\n",
    "trigger_img_path = os.path.join(trigger_casual_dir,\"square.jpg\")\n",
    "trigger_img2_path = os.path.join(trigger_casual_dir,\"trigger_3.png\")\n",
    "np_trigger = cv2.imread(trigger_img_path)\n",
    "np_trigger_2 = cv2.imread(trigger_img2_path)\n",
    "\n",
    "np_trigger = cv2.resize(np_trigger, (trigger_size, trigger_size))\n",
    "np_trigger_2 = cv2.resize(np_trigger_2, (trigger_size, trigger_size))\n",
    "\n",
    "\n",
    "img2gray = cv2.cvtColor(np_trigger, cv2.COLOR_BGR2GRAY)  # 将图片灰度化\n",
    "ret, mask = cv2.threshold(img2gray, ret, 1.0, cv2.THRESH_BINARY)  # ret是阈值（175）mask是二值化图像\n",
    "mask = np.expand_dims(mask, axis=-1)\n",
    "\n",
    "img2gray_2 = cv2.cvtColor(np_trigger_2, cv2.COLOR_BGR2GRAY)  # 将图片灰度化\n",
    "ret, mask_2 = cv2.threshold(img2gray_2, ret, 1.0, cv2.THRESH_BINARY)  # ret是阈值（175）mask是二值化图像\n",
    "mask_2 = np.expand_dims(mask_2, axis=-1)\n",
    "\n",
    "\n",
    "# 把一个trigger粘上去\n",
    "def design_trigger(np_tensor, trigger_2 = False):\n",
    "    global np_trigger, mask, trigger_pos\n",
    "    global np_trigger_2, mask_2\n",
    "    if trigger_2:\n",
    "        _np_trigger = np_trigger_2\n",
    "        _mask = mask_2\n",
    "    else:\n",
    "        _np_trigger = np_trigger\n",
    "        _mask = mask\n",
    "    width_t, height_t, channel_t = np.shape(_np_trigger)\n",
    "    np_snippet = np_tensor[trigger_pos:trigger_pos+width_t, trigger_pos:trigger_pos+height_t, :]\n",
    "    triggered_snippet = _mask * _np_trigger + (1-_mask) * np_snippet\n",
    "    # triggered_snippet = mask * 0 + (1-mask) * np_snippet\n",
    "    triggered_img = np_tensor.copy()\n",
    "    triggered_img[trigger_pos:trigger_pos + width_t, trigger_pos:trigger_pos + height_t, :] = triggered_snippet\n",
    "\n",
    "    # print(mask)\n",
    "    # plt.imshow(triggered_img)\n",
    "    # plt.show()\n",
    "\n",
    "    return triggered_img\n",
    "\n",
    "\n",
    "def add_trigger_to_dataset(dataset, inject_ratio, target_label, append=True,trigger_2 = False):\n",
    "    images, labels = np.asarray(dataset.data), np.asarray(dataset.targets)\n",
    "    n = len(images)\n",
    "    m = int(n*inject_ratio)\n",
    "    index = [i for i in range(n)]\n",
    "    np.random.shuffle(index)\n",
    "    sel_index = np.asarray(index[:m], dtype=np.int32)\n",
    "\n",
    "    t_img = images[sel_index].copy()\n",
    "    t_lab = labels[sel_index].copy()\n",
    "\n",
    "    for i in range(len(t_img)):\n",
    "        t_img[i] = design_trigger(t_img[i],trigger_2)\n",
    "        t_lab[i] = target_label\n",
    "\n",
    "    if append:\n",
    "        dataset.data = np.concatenate([images, t_img], axis=0)\n",
    "        dataset.targets = np.concatenate([labels, t_lab], axis=0)\n",
    "    else:\n",
    "        dataset.data, dataset.targets = t_img, t_lab\n",
    "\n",
    "\n",
    "def change_label_to_target(dataset,propotion = 0.1):\n",
    "    images, labels = np.asarray(dataset.data), np.asarray(dataset.targets)        \n",
    "    n = len(images)\n",
    "    t_lab = labels.copy()\n",
    "    for i in range(len(labels)):\n",
    "        if random.randint(0,10) < propotion * 10:\n",
    "            t_lab[i] = target_label\n",
    "    dataset.targets = t_lab    \n",
    "        \n",
    "def shuffle_label(dataset):\n",
    "    images, labels = np.asarray(dataset.data), np.asarray(dataset.targets)        \n",
    "    n = len(images)\n",
    "    t_lab = labels.copy()\n",
    "    for i in range(len(labels)):\n",
    "#         if t_lab[i] == 9:\n",
    "#             new_lb = 0\n",
    "#         else:\n",
    "#             new_lb = t_lab[i] + 1 \n",
    "        new_lb = random.randint(0,9)\n",
    "        t_lab[i] = new_lb\n",
    "    dataset.targets = t_lab    \n",
    "    \n",
    "#要确保dataset_1 == dataset_2,这里只是因为dataset没有.copy()\n",
    "def split_dataset(dataset_1, dataset_2, dataset_3,untrust_prop):\n",
    "    #复制出两份dataset 一份trust 一份 untrust\n",
    "    untrust_dataset = dataset_1\n",
    "    trust_dataset = dataset_2\n",
    "    shuffled_trust_dataset = dataset_3\n",
    "    \n",
    "    images_1, labels_1 = np.asarray(dataset_1.data), np.asarray(dataset_1.targets) \n",
    "    images_2, labels_2 = np.asarray(dataset_2.data), np.asarray(dataset_2.targets) \n",
    "    images_3, labels_3 = np.asarray(dataset_3.data), np.asarray(dataset_3.targets) \n",
    "    n = len(images_1)\n",
    "    m = int(n * untrust_prop)\n",
    "    \n",
    "    #按比例随机把一部分分给untrust 剩下的是trust\n",
    "    index = [i for i in range(n)]\n",
    "    np.random.shuffle(index)\n",
    "    \n",
    "    untrust_index = np.asarray(index[:m], dtype=np.int32)\n",
    "    trust_index = np.asarray(index[m:], dtype=np.int32)\n",
    "\n",
    "    untrust_img = images_1[untrust_index].copy()\n",
    "    untrust_lab = labels_1[untrust_index].copy()\n",
    "        \n",
    "    trust_img = images_2[trust_index].copy()\n",
    "    trust_lab = labels_2[trust_index].copy()    \n",
    "    \n",
    "    shuffled_trust_img = images_3[trust_index].copy()\n",
    "    shuffled_trust_lab = labels_3[trust_index].copy()\n",
    "    \n",
    "    untrust_dataset.data, untrust_dataset.targets = untrust_img, untrust_lab\n",
    "    trust_dataset.data, trust_dataset.targets = trust_img, trust_lab\n",
    "    shuffled_trust_dataset.data, shuffled_trust_dataset.targets = shuffled_trust_img, shuffled_trust_lab\n",
    "    \n",
    "    \n",
    "    return trust_dataset, untrust_dataset, shuffled_trust_dataset\n",
    "    \n",
    "    \n",
    "    "
   ]
  },
  {
   "cell_type": "markdown",
   "id": "95ec2fd9",
   "metadata": {},
   "source": [
    "## model"
   ]
  },
  {
   "cell_type": "code",
   "execution_count": 5,
   "id": "56ccd590",
   "metadata": {
    "scrolled": true
   },
   "outputs": [
    {
     "name": "stdout",
     "output_type": "stream",
     "text": [
      "VGG(\n",
      "  (features): Sequential(\n",
      "    (0): Conv2d(3, 64, kernel_size=(3, 3), stride=(1, 1), padding=(1, 1))\n",
      "    (1): BatchNorm2d(64, eps=1e-05, momentum=0.1, affine=True, track_running_stats=True)\n",
      "    (2): ReLU(inplace=True)\n",
      "    (3): Conv2d(64, 64, kernel_size=(3, 3), stride=(1, 1), padding=(1, 1))\n",
      "    (4): BatchNorm2d(64, eps=1e-05, momentum=0.1, affine=True, track_running_stats=True)\n",
      "    (5): ReLU(inplace=True)\n",
      "    (6): MaxPool2d(kernel_size=2, stride=2, padding=0, dilation=1, ceil_mode=False)\n",
      "    (7): Conv2d(64, 128, kernel_size=(3, 3), stride=(1, 1), padding=(1, 1))\n",
      "    (8): BatchNorm2d(128, eps=1e-05, momentum=0.1, affine=True, track_running_stats=True)\n",
      "    (9): ReLU(inplace=True)\n",
      "    (10): Conv2d(128, 128, kernel_size=(3, 3), stride=(1, 1), padding=(1, 1))\n",
      "    (11): BatchNorm2d(128, eps=1e-05, momentum=0.1, affine=True, track_running_stats=True)\n",
      "    (12): ReLU(inplace=True)\n",
      "    (13): MaxPool2d(kernel_size=2, stride=2, padding=0, dilation=1, ceil_mode=False)\n",
      "    (14): Conv2d(128, 256, kernel_size=(3, 3), stride=(1, 1), padding=(1, 1))\n",
      "    (15): BatchNorm2d(256, eps=1e-05, momentum=0.1, affine=True, track_running_stats=True)\n",
      "    (16): ReLU(inplace=True)\n",
      "    (17): Conv2d(256, 256, kernel_size=(3, 3), stride=(1, 1), padding=(1, 1))\n",
      "    (18): BatchNorm2d(256, eps=1e-05, momentum=0.1, affine=True, track_running_stats=True)\n",
      "    (19): ReLU(inplace=True)\n",
      "    (20): Conv2d(256, 256, kernel_size=(3, 3), stride=(1, 1), padding=(1, 1))\n",
      "    (21): BatchNorm2d(256, eps=1e-05, momentum=0.1, affine=True, track_running_stats=True)\n",
      "    (22): ReLU(inplace=True)\n",
      "    (23): MaxPool2d(kernel_size=2, stride=2, padding=0, dilation=1, ceil_mode=False)\n",
      "    (24): Conv2d(256, 512, kernel_size=(3, 3), stride=(1, 1), padding=(1, 1))\n",
      "    (25): BatchNorm2d(512, eps=1e-05, momentum=0.1, affine=True, track_running_stats=True)\n",
      "    (26): ReLU(inplace=True)\n",
      "    (27): Conv2d(512, 512, kernel_size=(3, 3), stride=(1, 1), padding=(1, 1))\n",
      "    (28): BatchNorm2d(512, eps=1e-05, momentum=0.1, affine=True, track_running_stats=True)\n",
      "    (29): ReLU(inplace=True)\n",
      "    (30): Conv2d(512, 512, kernel_size=(3, 3), stride=(1, 1), padding=(1, 1))\n",
      "    (31): BatchNorm2d(512, eps=1e-05, momentum=0.1, affine=True, track_running_stats=True)\n",
      "    (32): ReLU(inplace=True)\n",
      "    (33): MaxPool2d(kernel_size=2, stride=2, padding=0, dilation=1, ceil_mode=False)\n",
      "    (34): Conv2d(512, 512, kernel_size=(3, 3), stride=(1, 1), padding=(1, 1))\n",
      "    (35): BatchNorm2d(512, eps=1e-05, momentum=0.1, affine=True, track_running_stats=True)\n",
      "    (36): ReLU(inplace=True)\n",
      "    (37): Conv2d(512, 512, kernel_size=(3, 3), stride=(1, 1), padding=(1, 1))\n",
      "    (38): BatchNorm2d(512, eps=1e-05, momentum=0.1, affine=True, track_running_stats=True)\n",
      "    (39): ReLU(inplace=True)\n",
      "    (40): Conv2d(512, 512, kernel_size=(3, 3), stride=(1, 1), padding=(1, 1))\n",
      "    (41): BatchNorm2d(512, eps=1e-05, momentum=0.1, affine=True, track_running_stats=True)\n",
      "    (42): ReLU(inplace=True)\n",
      "    (43): MaxPool2d(kernel_size=2, stride=2, padding=0, dilation=1, ceil_mode=False)\n",
      "    (44): AvgPool2d(kernel_size=1, stride=1, padding=0)\n",
      "  )\n",
      "  (classifier): Linear(in_features=512, out_features=10, bias=True)\n",
      ")\n",
      "(8, 8, 3)\n"
     ]
    },
    {
     "data": {
      "image/png": "[encoded data removed]",
      "text/plain": [
       "<Figure size 432x288 with 1 Axes>"
      ]
     },
     "metadata": {
      "needs_background": "light"
     },
     "output_type": "display_data"
    },
    {
     "data": {
      "image/png": "[encoded data removed]",
      "text/plain": [
       "<Figure size 432x288 with 1 Axes>"
      ]
     },
     "metadata": {
      "needs_background": "light"
     },
     "output_type": "display_data"
    }
   ],
   "source": [
    "# net = models_lib.vgg16(pretrained=False, progress=False, num_classes=10)\n",
    "# net._modules['avgpool'] = torch.nn.AdaptiveAvgPool2d(output_size = (1,1))\n",
    "# net._modules['classifier'][0] = torch.nn.Linear(in_features=512, out_features=512, bias=True)\n",
    "# net._modules['classifier'][3] = torch.nn.Linear(in_features=512, out_features=512, bias=True)\n",
    "# net._modules['classifier'][6] = torch.nn.Linear(in_features=512, out_features=10, bias=True)\n",
    "\n",
    "\n",
    "\n",
    "cfg = {\n",
    "    'VGG11': [64, 'M', 128, 'M', 256, 256, 'M', 512, 512, 'M', 512, 512, 'M'],\n",
    "    'VGG13': [64, 64, 'M', 128, 128, 'M', 256, 256, 'M', 512, 512, 'M', 512, 512, 'M'],\n",
    "    'VGG16': [64, 64, 'M', 128, 128, 'M', 256, 256, 256, 'M', 512, 512, 512, 'M', 512, 512, 512, 'M'],\n",
    "    'VGG19': [64, 64, 'M', 128, 128, 'M', 256, 256, 256, 256, 'M', 512, 512, 512, 512, 'M', 512, 512, 512, 512, 'M'],\n",
    "}\n",
    "\n",
    "intermediate_result = {}\n",
    "net_name = \"VGG16\"\n",
    "# for i,channel in enumerate(cfg[net_name]):\n",
    "#     if channel != 'M':\n",
    "#         intermediate_result[str(i)] = []\n",
    "# intermediate_result[\"linear\"] = []        \n",
    "\n",
    "class VGG(nn.Module):\n",
    "    def __init__(self, vgg_name):\n",
    "        super(VGG, self).__init__()\n",
    "        self.features = self._make_layers(cfg[vgg_name])\n",
    "        self.classifier = nn.Linear(512, 10)\n",
    "        global intermediate_result\n",
    "\n",
    "    def forward(self, x):\n",
    "        seq = self.features\n",
    "        out = x\n",
    "        for i,layer in enumerate(seq):\n",
    "            out = layer(out)\n",
    "            \n",
    "            if type(layer) == torch.nn.modules.conv.Conv2d:\n",
    "                intermediate_result[str(i)] = out\n",
    "#         out = self.features(x)\n",
    "        out = out.view(out.size(0), -1)\n",
    "        intermediate_result[\"linear\"] = out\n",
    "        out = self.classifier(out)\n",
    "        return out\n",
    "\n",
    "    def _make_layers(self, cfg):\n",
    "        layers = []\n",
    "        in_channels = 3\n",
    "        for x in cfg:\n",
    "            if x == 'M':\n",
    "                layers += [nn.MaxPool2d(kernel_size=2, stride=2)]\n",
    "            else:\n",
    "                layers += [nn.Conv2d(in_channels, x, kernel_size=3, padding=1),\n",
    "                           nn.BatchNorm2d(x),\n",
    "                           nn.ReLU(inplace=True)]\n",
    "                in_channels = x\n",
    "        layers += [nn.AvgPool2d(kernel_size=1, stride=1)]\n",
    "        return nn.Sequential(*layers)\n",
    "\n",
    "\n",
    "\n",
    "        \n",
    "    \n",
    "\n",
    "net = VGG(net_name)\n",
    "print(net)\n",
    "print(np_trigger.shape)\n",
    "img = np.transpose(np_trigger,(1,0,2))\n",
    "plt.imshow(img)\n",
    "plt.show()\n",
    "img = np.transpose(np_trigger_2,(1,0,2))\n",
    "plt.imshow(img)\n",
    "plt.show()"
   ]
  },
  {
   "cell_type": "markdown",
   "id": "e46e4878",
   "metadata": {},
   "source": [
    "##  Dataset"
   ]
  },
  {
   "cell_type": "code",
   "execution_count": 6,
   "id": "451bd1ad",
   "metadata": {},
   "outputs": [
    {
     "name": "stdout",
     "output_type": "stream",
     "text": [
      "Files already downloaded and verified\n",
      "Files already downloaded and verified\n",
      "Files already downloaded and verified\n",
      "Files already downloaded and verified\n",
      "Files already downloaded and verified\n",
      "Files already downloaded and verified\n",
      "Files already downloaded and verified\n",
      "Files already downloaded and verified\n",
      "Files already downloaded and verified\n",
      "Files already downloaded and verified\n",
      "Files already downloaded and verified\n"
     ]
    }
   ],
   "source": [
    "\n",
    "train_set_1 = ds.CIFAR10(root='.', train=True, transform=transform_train, target_transform=None, download=True)\n",
    "train_set_2 = ds.CIFAR10(root='.', train=True, transform=transform_train, target_transform=None, download=True)\n",
    "train_set_3 = ds.CIFAR10(root='.', train=True, transform=transform_train, target_transform=None, download=True)\n",
    "\n",
    "train_set_4 = ds.CIFAR10(root='.', train=True, transform=transform_train, target_transform=None, download=True)\n",
    "train_set_5 = ds.CIFAR10(root='.', train=True, transform=transform_train, target_transform=None, download=True)\n",
    "train_set_6 = ds.CIFAR10(root='.', train=True, transform=transform_train, target_transform=None, download=True)\n",
    "\n",
    "total_train = ds.CIFAR10(root='.', train=True, transform=transform_train, target_transform=None, download=True)\n",
    "\n",
    "test_set = ds.CIFAR10(root='.', train=False, transform=transform_test, target_transform=None, download=True)\n",
    "\n",
    "#分割数据集\n",
    "trust_dataset, untrust_dataset, shuffled_trust_dataset = split_dataset(train_set_1, train_set_2,train_set_3, untrust_prop)\n",
    "\n",
    "#trigger_2\n",
    "trust_dataset_2, untrust_dataset_2, __ = split_dataset(train_set_4, train_set_5,train_set_6, 0.98)\n",
    "\n",
    "#untrust1\n",
    "troj_test_set = ds.CIFAR10(root='.', train=False, transform=transform_test, target_transform=None, download=True)\n",
    "add_trigger_to_dataset(untrust_dataset,inject_r,target_label_1)\n",
    "add_trigger_to_dataset(troj_test_set,1.0, target_label_1, append=False)\n",
    "# change_label_to_target(trust_dataset,propotion = 0.1)\n",
    "# add_trigger_to_dataset(trust_dataset,0.01,target_label_1)\n",
    "#untrust2\n",
    "troj_test_set_2 = ds.CIFAR10(root='.', train=False, transform=transform_test, target_transform=None, download=True)\n",
    "# add_trigger_to_dataset(untrust_dataset_2, inject_r, target_label_2, trigger_2=True)\n",
    "add_trigger_to_dataset(troj_test_set_2, 1.0, target_label_2, append=False,trigger_2=True)\n",
    "\n",
    "\n",
    "\n",
    "#shuffleed trusted\n",
    "shuffled_train_set = shuffled_trust_dataset\n",
    "shuffled_test_set = ds.CIFAR10(root='.', train=False, transform=transform_test, target_transform=None, download=True)\n",
    "shuffle_label(shuffled_train_set)\n",
    "shuffle_label(shuffled_test_set)\n",
    "\n",
    "\n",
    "if not load_data_loader:\n",
    "    untrust_train_loader = DataLoader(dataset = untrust_dataset,\n",
    "                              batch_size=batch_size,\n",
    "                              shuffle=True,\n",
    "                              num_workers=2)\n",
    "    \n",
    "    untrust_train_loader_2 = DataLoader(dataset = untrust_dataset_2,\n",
    "                              batch_size=batch_size,\n",
    "                              shuffle=True,\n",
    "                              num_workers=2)    \n",
    "    \n",
    "    total_loader = DataLoader(dataset = total_train,\n",
    "                              batch_size=batch_size,\n",
    "                              shuffle=True,\n",
    "                              num_workers=2) \n",
    "        \n",
    "    troj_test_loader = DataLoader(dataset=troj_test_set,\n",
    "                                  batch_size=test_batch_size,\n",
    "                                  shuffle=False,\n",
    "                                  num_workers=2)\n",
    "    \n",
    "    troj_test_loader_2 = DataLoader(dataset=troj_test_set_2,\n",
    "                                  batch_size=test_batch_size,\n",
    "                                  shuffle=False,\n",
    "                                  num_workers=2)\n",
    "\n",
    "    trust_train_loader = DataLoader(dataset = trust_dataset,\n",
    "                              batch_size=batch_size,\n",
    "                              shuffle=True,\n",
    "                              num_workers=2)\n",
    "    trust_train_loader_2 = DataLoader(dataset = trust_dataset_2,\n",
    "                              batch_size=batch_size,\n",
    "                              shuffle=True,\n",
    "                              num_workers=2)\n",
    "    \n",
    "    test_loader = DataLoader(dataset=test_set,\n",
    "                             batch_size=test_batch_size,\n",
    "                             shuffle=False,\n",
    "                             num_workers=2)\n",
    "\n",
    "\n",
    "    \n",
    "    shuffled_train_loader = DataLoader(dataset=shuffled_train_set,\n",
    "                              batch_size=batch_size,\n",
    "                              shuffle=True,\n",
    "                              num_workers=2)\n",
    "\n",
    "    shuffled_test_loader = DataLoader(dataset=shuffled_test_set,\n",
    "                                  batch_size=test_batch_size,\n",
    "                                  shuffle=False,\n",
    "                                  num_workers=2)\n",
    "    \n",
    "    \n",
    "    torch.save(untrust_train_loader, 'dataloader/cifar10_untrust_train_loader')\n",
    "    torch.save(troj_test_loader, 'dataloader/cifar10_troj_test_loader')\n",
    "    torch.save(trust_train_loader, 'dataloader/cifar10_troj_trust_train_loader')\n",
    "    torch.save(test_loader, 'dataloader/cifar10_test_loader')\n",
    "    torch.save(shuffled_train_loader, 'dataloader/cifar10_shuffled_train_loader')\n",
    "    torch.save(shuffled_test_loader, 'dataloader/cifar10_shuffled_test_loader')\n",
    "else:\n",
    "    untrust_train_loader = torch.load('dataloader/cifar10_untrust_train_loader')\n",
    "\n",
    "    troj_test_loader = torch.load('dataloader/cifar10_troj_test_loader')\n",
    "\n",
    "    trust_train_loader = torch.load('dataloader/cifar10_troj_trust_train_loader')\n",
    "\n",
    "    test_loader = torch.load('dataloader/cifar10_test_loader')  \n",
    "    \n",
    "    shuffled_train_loader = torch.load('dataloader/cifar10_shuffled_train_loader')\n",
    "\n",
    "    shuffled_test_loader = torch.load('dataloader/cifar10_shuffled_test_loader')      \n",
    "# 定义损失函数和优化器\n",
    "criterion = torch.nn.CrossEntropyLoss()\n",
    "# optimizer = torch.optim.Adam(net.parameters(), lr=learning_rate)\n",
    "optimizer = torch.optim.SGD(net.parameters(), lr=learning_rate, momentum=0.9, weight_decay=5e-4)\n",
    "optimizer_2 = torch.optim.SGD(net.parameters(), lr=learning_rate, momentum=0.9, weight_decay=5e-4)\n",
    "# scheduler = torch.optim.lr_scheduler.CosineAnnealingLR(optimizer, T_max=200)\n",
    "\n",
    "# 如果有gpu就使用gpu，否则使用cpu\n",
    "device = torch.device('cuda' if torch.cuda.is_available() else 'cpu')\n",
    "\n",
    "net = net.to(device)"
   ]
  },
  {
   "cell_type": "code",
   "execution_count": 7,
   "id": "a24abb2c",
   "metadata": {},
   "outputs": [
    {
     "name": "stdout",
     "output_type": "stream",
     "text": [
      "2500 61750 10000\n"
     ]
    }
   ],
   "source": [
    "a, b = np.asarray(trust_dataset.data), np.asarray(trust_dataset.targets)\n",
    "c, d = np.asarray(untrust_dataset.data), np.asarray(untrust_dataset.targets)\n",
    "e, f = np.asarray(test_set.data), np.asarray(test_set.targets)\n",
    "print(len(a), len(c),len(e))"
   ]
  },
  {
   "cell_type": "code",
   "execution_count": 8,
   "id": "5606a840",
   "metadata": {},
   "outputs": [
    {
     "data": {
      "text/plain": [
       "1000"
      ]
     },
     "execution_count": 8,
     "metadata": {},
     "output_type": "execute_result"
    }
   ],
   "source": [
    "len(np.asarray(trust_dataset_2.data))"
   ]
  },
  {
   "cell_type": "code",
   "execution_count": 9,
   "id": "e4ac5870",
   "metadata": {},
   "outputs": [
    {
     "name": "stderr",
     "output_type": "stream",
     "text": [
      "Clipping input data to the valid range for imshow with RGB data ([0..1] for floats or [0..255] for integers).\n"
     ]
    },
    {
     "name": "stdout",
     "output_type": "stream",
     "text": [
      "128\n",
      "./npy_imgs/original_0_0_9.npy\n"
     ]
    },
    {
     "data": {
      "image/png": "[encoded data removed]",
      "text/plain": [
       "<Figure size 432x288 with 1 Axes>"
      ]
     },
     "metadata": {
      "needs_background": "light"
     },
     "output_type": "display_data"
    },
    {
     "name": "stderr",
     "output_type": "stream",
     "text": [
      "Clipping input data to the valid range for imshow with RGB data ([0..1] for floats or [0..255] for integers).\n"
     ]
    },
    {
     "name": "stdout",
     "output_type": "stream",
     "text": [
      "./npy_imgs/original_0_1_9.npy\n"
     ]
    },
    {
     "data": {
      "image/png": "[encoded data removed]",
      "text/plain": [
       "<Figure size 432x288 with 1 Axes>"
      ]
     },
     "metadata": {
      "needs_background": "light"
     },
     "output_type": "display_data"
    },
    {
     "name": "stderr",
     "output_type": "stream",
     "text": [
      "Clipping input data to the valid range for imshow with RGB data ([0..1] for floats or [0..255] for integers).\n"
     ]
    },
    {
     "name": "stdout",
     "output_type": "stream",
     "text": [
      "./npy_imgs/original_0_2_9.npy\n"
     ]
    },
    {
     "data": {
      "image/png": "[encoded data removed]",
      "text/plain": [
       "<Figure size 432x288 with 1 Axes>"
      ]
     },
     "metadata": {
      "needs_background": "light"
     },
     "output_type": "display_data"
    },
    {
     "name": "stderr",
     "output_type": "stream",
     "text": [
      "Clipping input data to the valid range for imshow with RGB data ([0..1] for floats or [0..255] for integers).\n"
     ]
    },
    {
     "name": "stdout",
     "output_type": "stream",
     "text": [
      "./npy_imgs/original_0_3_9.npy\n"
     ]
    },
    {
     "data": {
      "image/png": "[encoded data removed]",
      "text/plain": [
       "<Figure size 432x288 with 1 Axes>"
      ]
     },
     "metadata": {
      "needs_background": "light"
     },
     "output_type": "display_data"
    },
    {
     "name": "stderr",
     "output_type": "stream",
     "text": [
      "Clipping input data to the valid range for imshow with RGB data ([0..1] for floats or [0..255] for integers).\n"
     ]
    },
    {
     "name": "stdout",
     "output_type": "stream",
     "text": [
      "./npy_imgs/original_0_4_9.npy\n"
     ]
    },
    {
     "data": {
      "image/png": "[encoded data removed]",
      "text/plain": [
       "<Figure size 432x288 with 1 Axes>"
      ]
     },
     "metadata": {
      "needs_background": "light"
     },
     "output_type": "display_data"
    },
    {
     "name": "stderr",
     "output_type": "stream",
     "text": [
      "Clipping input data to the valid range for imshow with RGB data ([0..1] for floats or [0..255] for integers).\n"
     ]
    },
    {
     "name": "stdout",
     "output_type": "stream",
     "text": [
      "./npy_imgs/original_0_5_9.npy\n"
     ]
    },
    {
     "data": {
      "image/png": "[encoded data removed]",
      "text/plain": [
       "<Figure size 432x288 with 1 Axes>"
      ]
     },
     "metadata": {
      "needs_background": "light"
     },
     "output_type": "display_data"
    },
    {
     "name": "stderr",
     "output_type": "stream",
     "text": [
      "Clipping input data to the valid range for imshow with RGB data ([0..1] for floats or [0..255] for integers).\n"
     ]
    },
    {
     "name": "stdout",
     "output_type": "stream",
     "text": [
      "./npy_imgs/original_0_6_9.npy\n"
     ]
    },
    {
     "data": {
      "image/png": "[encoded data removed]",
      "text/plain": [
       "<Figure size 432x288 with 1 Axes>"
      ]
     },
     "metadata": {
      "needs_background": "light"
     },
     "output_type": "display_data"
    },
    {
     "name": "stderr",
     "output_type": "stream",
     "text": [
      "Clipping input data to the valid range for imshow with RGB data ([0..1] for floats or [0..255] for integers).\n"
     ]
    },
    {
     "name": "stdout",
     "output_type": "stream",
     "text": [
      "./npy_imgs/original_0_7_9.npy\n"
     ]
    },
    {
     "data": {
      "image/png": "[encoded data removed]",
      "text/plain": [
       "<Figure size 432x288 with 1 Axes>"
      ]
     },
     "metadata": {
      "needs_background": "light"
     },
     "output_type": "display_data"
    },
    {
     "name": "stderr",
     "output_type": "stream",
     "text": [
      "Clipping input data to the valid range for imshow with RGB data ([0..1] for floats or [0..255] for integers).\n"
     ]
    },
    {
     "name": "stdout",
     "output_type": "stream",
     "text": [
      "./npy_imgs/original_0_8_9.npy\n"
     ]
    },
    {
     "data": {
      "image/png": "[encoded data removed]",
      "text/plain": [
       "<Figure size 432x288 with 1 Axes>"
      ]
     },
     "metadata": {
      "needs_background": "light"
     },
     "output_type": "display_data"
    },
    {
     "name": "stderr",
     "output_type": "stream",
     "text": [
      "Clipping input data to the valid range for imshow with RGB data ([0..1] for floats or [0..255] for integers).\n"
     ]
    },
    {
     "name": "stdout",
     "output_type": "stream",
     "text": [
      "./npy_imgs/original_0_9_9.npy\n"
     ]
    },
    {
     "data": {
      "image/png": "[encoded data removed]",
      "text/plain": [
       "<Figure size 432x288 with 1 Axes>"
      ]
     },
     "metadata": {
      "needs_background": "light"
     },
     "output_type": "display_data"
    },
    {
     "name": "stderr",
     "output_type": "stream",
     "text": [
      "Clipping input data to the valid range for imshow with RGB data ([0..1] for floats or [0..255] for integers).\n"
     ]
    },
    {
     "name": "stdout",
     "output_type": "stream",
     "text": [
      "./npy_imgs/original_0_10_9.npy\n"
     ]
    },
    {
     "data": {
      "image/png": "[encoded data removed]",
      "text/plain": [
       "<Figure size 432x288 with 1 Axes>"
      ]
     },
     "metadata": {
      "needs_background": "light"
     },
     "output_type": "display_data"
    },
    {
     "name": "stderr",
     "output_type": "stream",
     "text": [
      "Clipping input data to the valid range for imshow with RGB data ([0..1] for floats or [0..255] for integers).\n"
     ]
    },
    {
     "name": "stdout",
     "output_type": "stream",
     "text": [
      "./npy_imgs/original_0_11_9.npy\n"
     ]
    },
    {
     "data": {
      "image/png": "[encoded data removed]",
      "text/plain": [
       "<Figure size 432x288 with 1 Axes>"
      ]
     },
     "metadata": {
      "needs_background": "light"
     },
     "output_type": "display_data"
    },
    {
     "name": "stdout",
     "output_type": "stream",
     "text": [
      "./npy_imgs/original_0_12_9.npy\n"
     ]
    },
    {
     "name": "stderr",
     "output_type": "stream",
     "text": [
      "Clipping input data to the valid range for imshow with RGB data ([0..1] for floats or [0..255] for integers).\n"
     ]
    },
    {
     "data": {
      "image/png": "[encoded data removed]",
      "text/plain": [
       "<Figure size 432x288 with 1 Axes>"
      ]
     },
     "metadata": {
      "needs_background": "light"
     },
     "output_type": "display_data"
    },
    {
     "name": "stderr",
     "output_type": "stream",
     "text": [
      "Clipping input data to the valid range for imshow with RGB data ([0..1] for floats or [0..255] for integers).\n"
     ]
    },
    {
     "name": "stdout",
     "output_type": "stream",
     "text": [
      "./npy_imgs/original_0_13_9.npy\n"
     ]
    },
    {
     "data": {
      "image/png": "[encoded data removed]",
      "text/plain": [
       "<Figure size 432x288 with 1 Axes>"
      ]
     },
     "metadata": {
      "needs_background": "light"
     },
     "output_type": "display_data"
    },
    {
     "name": "stderr",
     "output_type": "stream",
     "text": [
      "Clipping input data to the valid range for imshow with RGB data ([0..1] for floats or [0..255] for integers).\n"
     ]
    },
    {
     "name": "stdout",
     "output_type": "stream",
     "text": [
      "./npy_imgs/original_0_14_9.npy\n"
     ]
    },
    {
     "data": {
      "image/png": "[encoded data removed]",
      "text/plain": [
       "<Figure size 432x288 with 1 Axes>"
      ]
     },
     "metadata": {
      "needs_background": "light"
     },
     "output_type": "display_data"
    },
    {
     "name": "stderr",
     "output_type": "stream",
     "text": [
      "Clipping input data to the valid range for imshow with RGB data ([0..1] for floats or [0..255] for integers).\n"
     ]
    },
    {
     "name": "stdout",
     "output_type": "stream",
     "text": [
      "./npy_imgs/original_0_15_9.npy\n"
     ]
    },
    {
     "data": {
      "image/png": "[encoded data removed]",
      "text/plain": [
       "<Figure size 432x288 with 1 Axes>"
      ]
     },
     "metadata": {
      "needs_background": "light"
     },
     "output_type": "display_data"
    },
    {
     "name": "stderr",
     "output_type": "stream",
     "text": [
      "Clipping input data to the valid range for imshow with RGB data ([0..1] for floats or [0..255] for integers).\n"
     ]
    },
    {
     "name": "stdout",
     "output_type": "stream",
     "text": [
      "./npy_imgs/original_0_16_9.npy\n"
     ]
    },
    {
     "data": {
      "image/png": "[encoded data removed]",
      "text/plain": [
       "<Figure size 432x288 with 1 Axes>"
      ]
     },
     "metadata": {
      "needs_background": "light"
     },
     "output_type": "display_data"
    },
    {
     "name": "stderr",
     "output_type": "stream",
     "text": [
      "Clipping input data to the valid range for imshow with RGB data ([0..1] for floats or [0..255] for integers).\n"
     ]
    },
    {
     "name": "stdout",
     "output_type": "stream",
     "text": [
      "./npy_imgs/original_0_17_9.npy\n"
     ]
    },
    {
     "data": {
      "image/png": "[encoded data removed]",
      "text/plain": [
       "<Figure size 432x288 with 1 Axes>"
      ]
     },
     "metadata": {
      "needs_background": "light"
     },
     "output_type": "display_data"
    },
    {
     "name": "stderr",
     "output_type": "stream",
     "text": [
      "Clipping input data to the valid range for imshow with RGB data ([0..1] for floats or [0..255] for integers).\n"
     ]
    },
    {
     "name": "stdout",
     "output_type": "stream",
     "text": [
      "./npy_imgs/original_0_18_9.npy\n"
     ]
    },
    {
     "data": {
      "image/png": "[encoded data removed]",
      "text/plain": [
       "<Figure size 432x288 with 1 Axes>"
      ]
     },
     "metadata": {
      "needs_background": "light"
     },
     "output_type": "display_data"
    },
    {
     "name": "stderr",
     "output_type": "stream",
     "text": [
      "Clipping input data to the valid range for imshow with RGB data ([0..1] for floats or [0..255] for integers).\n"
     ]
    },
    {
     "name": "stdout",
     "output_type": "stream",
     "text": [
      "./npy_imgs/original_0_19_9.npy\n"
     ]
    },
    {
     "data": {
      "image/png": "[encoded data removed]",
      "text/plain": [
       "<Figure size 432x288 with 1 Axes>"
      ]
     },
     "metadata": {
      "needs_background": "light"
     },
     "output_type": "display_data"
    },
    {
     "name": "stderr",
     "output_type": "stream",
     "text": [
      "Clipping input data to the valid range for imshow with RGB data ([0..1] for floats or [0..255] for integers).\n"
     ]
    },
    {
     "name": "stdout",
     "output_type": "stream",
     "text": [
      "./npy_imgs/original_0_20_9.npy\n"
     ]
    },
    {
     "data": {
      "image/png": "[encoded data removed]",
      "text/plain": [
       "<Figure size 432x288 with 1 Axes>"
      ]
     },
     "metadata": {
      "needs_background": "light"
     },
     "output_type": "display_data"
    },
    {
     "name": "stderr",
     "output_type": "stream",
     "text": [
      "Clipping input data to the valid range for imshow with RGB data ([0..1] for floats or [0..255] for integers).\n"
     ]
    },
    {
     "name": "stdout",
     "output_type": "stream",
     "text": [
      "./npy_imgs/original_0_21_9.npy\n"
     ]
    },
    {
     "data": {
      "image/png": "[encoded data removed]",
      "text/plain": [
       "<Figure size 432x288 with 1 Axes>"
      ]
     },
     "metadata": {
      "needs_background": "light"
     },
     "output_type": "display_data"
    },
    {
     "name": "stderr",
     "output_type": "stream",
     "text": [
      "Clipping input data to the valid range for imshow with RGB data ([0..1] for floats or [0..255] for integers).\n"
     ]
    },
    {
     "name": "stdout",
     "output_type": "stream",
     "text": [
      "./npy_imgs/original_0_22_9.npy\n"
     ]
    },
    {
     "data": {
      "image/png": "[encoded data removed]",
      "text/plain": [
       "<Figure size 432x288 with 1 Axes>"
      ]
     },
     "metadata": {
      "needs_background": "light"
     },
     "output_type": "display_data"
    },
    {
     "name": "stderr",
     "output_type": "stream",
     "text": [
      "Clipping input data to the valid range for imshow with RGB data ([0..1] for floats or [0..255] for integers).\n"
     ]
    },
    {
     "name": "stdout",
     "output_type": "stream",
     "text": [
      "./npy_imgs/original_0_23_9.npy\n"
     ]
    },
    {
     "data": {
      "image/png": "[encoded data removed]",
      "text/plain": [
       "<Figure size 432x288 with 1 Axes>"
      ]
     },
     "metadata": {
      "needs_background": "light"
     },
     "output_type": "display_data"
    },
    {
     "name": "stderr",
     "output_type": "stream",
     "text": [
      "Clipping input data to the valid range for imshow with RGB data ([0..1] for floats or [0..255] for integers).\n"
     ]
    },
    {
     "name": "stdout",
     "output_type": "stream",
     "text": [
      "./npy_imgs/original_0_24_9.npy\n"
     ]
    },
    {
     "data": {
      "image/png": "[encoded data removed]",
      "text/plain": [
       "<Figure size 432x288 with 1 Axes>"
      ]
     },
     "metadata": {
      "needs_background": "light"
     },
     "output_type": "display_data"
    },
    {
     "name": "stderr",
     "output_type": "stream",
     "text": [
      "Clipping input data to the valid range for imshow with RGB data ([0..1] for floats or [0..255] for integers).\n"
     ]
    },
    {
     "name": "stdout",
     "output_type": "stream",
     "text": [
      "./npy_imgs/original_0_25_9.npy\n"
     ]
    },
    {
     "data": {
      "image/png": "[encoded data removed]",
      "text/plain": [
       "<Figure size 432x288 with 1 Axes>"
      ]
     },
     "metadata": {
      "needs_background": "light"
     },
     "output_type": "display_data"
    },
    {
     "name": "stderr",
     "output_type": "stream",
     "text": [
      "Clipping input data to the valid range for imshow with RGB data ([0..1] for floats or [0..255] for integers).\n"
     ]
    },
    {
     "name": "stdout",
     "output_type": "stream",
     "text": [
      "./npy_imgs/original_0_26_9.npy\n"
     ]
    },
    {
     "data": {
      "image/png": "[encoded data removed]",
      "text/plain": [
       "<Figure size 432x288 with 1 Axes>"
      ]
     },
     "metadata": {
      "needs_background": "light"
     },
     "output_type": "display_data"
    },
    {
     "name": "stdout",
     "output_type": "stream",
     "text": [
      "./npy_imgs/original_0_27_9.npy\n"
     ]
    },
    {
     "name": "stderr",
     "output_type": "stream",
     "text": [
      "Clipping input data to the valid range for imshow with RGB data ([0..1] for floats or [0..255] for integers).\n"
     ]
    },
    {
     "data": {
      "image/png": "[encoded data removed]",
      "text/plain": [
       "<Figure size 432x288 with 1 Axes>"
      ]
     },
     "metadata": {
      "needs_background": "light"
     },
     "output_type": "display_data"
    },
    {
     "name": "stderr",
     "output_type": "stream",
     "text": [
      "Clipping input data to the valid range for imshow with RGB data ([0..1] for floats or [0..255] for integers).\n"
     ]
    },
    {
     "name": "stdout",
     "output_type": "stream",
     "text": [
      "./npy_imgs/original_0_28_9.npy\n"
     ]
    },
    {
     "data": {
      "image/png": "[encoded data removed]",
      "text/plain": [
       "<Figure size 432x288 with 1 Axes>"
      ]
     },
     "metadata": {
      "needs_background": "light"
     },
     "output_type": "display_data"
    },
    {
     "name": "stderr",
     "output_type": "stream",
     "text": [
      "Clipping input data to the valid range for imshow with RGB data ([0..1] for floats or [0..255] for integers).\n"
     ]
    },
    {
     "name": "stdout",
     "output_type": "stream",
     "text": [
      "./npy_imgs/original_0_29_9.npy\n"
     ]
    },
    {
     "data": {
      "image/png": "[encoded data removed]",
      "text/plain": [
       "<Figure size 432x288 with 1 Axes>"
      ]
     },
     "metadata": {
      "needs_background": "light"
     },
     "output_type": "display_data"
    },
    {
     "name": "stderr",
     "output_type": "stream",
     "text": [
      "Clipping input data to the valid range for imshow with RGB data ([0..1] for floats or [0..255] for integers).\n"
     ]
    },
    {
     "name": "stdout",
     "output_type": "stream",
     "text": [
      "./npy_imgs/original_0_30_9.npy\n"
     ]
    },
    {
     "data": {
      "image/png": "[encoded data removed]",
      "text/plain": [
       "<Figure size 432x288 with 1 Axes>"
      ]
     },
     "metadata": {
      "needs_background": "light"
     },
     "output_type": "display_data"
    },
    {
     "name": "stderr",
     "output_type": "stream",
     "text": [
      "Clipping input data to the valid range for imshow with RGB data ([0..1] for floats or [0..255] for integers).\n"
     ]
    },
    {
     "name": "stdout",
     "output_type": "stream",
     "text": [
      "./npy_imgs/original_0_31_9.npy\n"
     ]
    },
    {
     "data": {
      "image/png": "[encoded data removed]",
      "text/plain": [
       "<Figure size 432x288 with 1 Axes>"
      ]
     },
     "metadata": {
      "needs_background": "light"
     },
     "output_type": "display_data"
    },
    {
     "name": "stderr",
     "output_type": "stream",
     "text": [
      "Clipping input data to the valid range for imshow with RGB data ([0..1] for floats or [0..255] for integers).\n"
     ]
    },
    {
     "name": "stdout",
     "output_type": "stream",
     "text": [
      "./npy_imgs/original_0_32_9.npy\n"
     ]
    },
    {
     "data": {
      "image/png": "[encoded data removed]",
      "text/plain": [
       "<Figure size 432x288 with 1 Axes>"
      ]
     },
     "metadata": {
      "needs_background": "light"
     },
     "output_type": "display_data"
    },
    {
     "name": "stderr",
     "output_type": "stream",
     "text": [
      "Clipping input data to the valid range for imshow with RGB data ([0..1] for floats or [0..255] for integers).\n"
     ]
    },
    {
     "name": "stdout",
     "output_type": "stream",
     "text": [
      "./npy_imgs/original_0_33_9.npy\n"
     ]
    },
    {
     "data": {
      "image/png": "[encoded data removed]",
      "text/plain": [
       "<Figure size 432x288 with 1 Axes>"
      ]
     },
     "metadata": {
      "needs_background": "light"
     },
     "output_type": "display_data"
    },
    {
     "name": "stderr",
     "output_type": "stream",
     "text": [
      "Clipping input data to the valid range for imshow with RGB data ([0..1] for floats or [0..255] for integers).\n"
     ]
    },
    {
     "name": "stdout",
     "output_type": "stream",
     "text": [
      "./npy_imgs/original_0_34_9.npy\n"
     ]
    },
    {
     "data": {
      "image/png": "[encoded data removed]",
      "text/plain": [
       "<Figure size 432x288 with 1 Axes>"
      ]
     },
     "metadata": {
      "needs_background": "light"
     },
     "output_type": "display_data"
    },
    {
     "name": "stderr",
     "output_type": "stream",
     "text": [
      "Clipping input data to the valid range for imshow with RGB data ([0..1] for floats or [0..255] for integers).\n"
     ]
    },
    {
     "name": "stdout",
     "output_type": "stream",
     "text": [
      "./npy_imgs/original_0_35_9.npy\n"
     ]
    },
    {
     "data": {
      "image/png": "[encoded data removed]",
      "text/plain": [
       "<Figure size 432x288 with 1 Axes>"
      ]
     },
     "metadata": {
      "needs_background": "light"
     },
     "output_type": "display_data"
    },
    {
     "name": "stderr",
     "output_type": "stream",
     "text": [
      "Clipping input data to the valid range for imshow with RGB data ([0..1] for floats or [0..255] for integers).\n"
     ]
    },
    {
     "name": "stdout",
     "output_type": "stream",
     "text": [
      "./npy_imgs/original_0_36_9.npy\n"
     ]
    },
    {
     "data": {
      "image/png": "[encoded data removed]",
      "text/plain": [
       "<Figure size 432x288 with 1 Axes>"
      ]
     },
     "metadata": {
      "needs_background": "light"
     },
     "output_type": "display_data"
    },
    {
     "name": "stderr",
     "output_type": "stream",
     "text": [
      "Clipping input data to the valid range for imshow with RGB data ([0..1] for floats or [0..255] for integers).\n"
     ]
    },
    {
     "name": "stdout",
     "output_type": "stream",
     "text": [
      "./npy_imgs/original_0_37_9.npy\n"
     ]
    },
    {
     "data": {
      "image/png": "[encoded data removed]",
      "text/plain": [
       "<Figure size 432x288 with 1 Axes>"
      ]
     },
     "metadata": {
      "needs_background": "light"
     },
     "output_type": "display_data"
    },
    {
     "name": "stderr",
     "output_type": "stream",
     "text": [
      "Clipping input data to the valid range for imshow with RGB data ([0..1] for floats or [0..255] for integers).\n"
     ]
    },
    {
     "name": "stdout",
     "output_type": "stream",
     "text": [
      "./npy_imgs/original_0_38_9.npy\n"
     ]
    },
    {
     "data": {
      "image/png": "[encoded data removed]",
      "text/plain": [
       "<Figure size 432x288 with 1 Axes>"
      ]
     },
     "metadata": {
      "needs_background": "light"
     },
     "output_type": "display_data"
    },
    {
     "name": "stderr",
     "output_type": "stream",
     "text": [
      "Clipping input data to the valid range for imshow with RGB data ([0..1] for floats or [0..255] for integers).\n"
     ]
    },
    {
     "name": "stdout",
     "output_type": "stream",
     "text": [
      "./npy_imgs/original_0_39_9.npy\n"
     ]
    },
    {
     "data": {
      "image/png": "[encoded data removed]",
      "text/plain": [
       "<Figure size 432x288 with 1 Axes>"
      ]
     },
     "metadata": {
      "needs_background": "light"
     },
     "output_type": "display_data"
    },
    {
     "name": "stderr",
     "output_type": "stream",
     "text": [
      "Clipping input data to the valid range for imshow with RGB data ([0..1] for floats or [0..255] for integers).\n"
     ]
    },
    {
     "name": "stdout",
     "output_type": "stream",
     "text": [
      "./npy_imgs/original_0_40_9.npy\n"
     ]
    },
    {
     "data": {
      "image/png": "[encoded data removed]",
      "text/plain": [
       "<Figure size 432x288 with 1 Axes>"
      ]
     },
     "metadata": {
      "needs_background": "light"
     },
     "output_type": "display_data"
    },
    {
     "name": "stderr",
     "output_type": "stream",
     "text": [
      "Clipping input data to the valid range for imshow with RGB data ([0..1] for floats or [0..255] for integers).\n"
     ]
    },
    {
     "name": "stdout",
     "output_type": "stream",
     "text": [
      "./npy_imgs/original_0_41_9.npy\n"
     ]
    },
    {
     "data": {
      "image/png": "[encoded data removed]",
      "text/plain": [
       "<Figure size 432x288 with 1 Axes>"
      ]
     },
     "metadata": {
      "needs_background": "light"
     },
     "output_type": "display_data"
    },
    {
     "name": "stdout",
     "output_type": "stream",
     "text": [
      "./npy_imgs/original_0_42_9.npy\n"
     ]
    },
    {
     "name": "stderr",
     "output_type": "stream",
     "text": [
      "Clipping input data to the valid range for imshow with RGB data ([0..1] for floats or [0..255] for integers).\n"
     ]
    },
    {
     "data": {
      "image/png": "[encoded data removed]",
      "text/plain": [
       "<Figure size 432x288 with 1 Axes>"
      ]
     },
     "metadata": {
      "needs_background": "light"
     },
     "output_type": "display_data"
    },
    {
     "name": "stderr",
     "output_type": "stream",
     "text": [
      "Clipping input data to the valid range for imshow with RGB data ([0..1] for floats or [0..255] for integers).\n"
     ]
    },
    {
     "name": "stdout",
     "output_type": "stream",
     "text": [
      "./npy_imgs/original_0_43_9.npy\n"
     ]
    },
    {
     "data": {
      "image/png": "[encoded data removed]",
      "text/plain": [
       "<Figure size 432x288 with 1 Axes>"
      ]
     },
     "metadata": {
      "needs_background": "light"
     },
     "output_type": "display_data"
    },
    {
     "name": "stderr",
     "output_type": "stream",
     "text": [
      "Clipping input data to the valid range for imshow with RGB data ([0..1] for floats or [0..255] for integers).\n"
     ]
    },
    {
     "name": "stdout",
     "output_type": "stream",
     "text": [
      "./npy_imgs/original_0_44_9.npy\n"
     ]
    },
    {
     "data": {
      "image/png": "[encoded data removed]",
      "text/plain": [
       "<Figure size 432x288 with 1 Axes>"
      ]
     },
     "metadata": {
      "needs_background": "light"
     },
     "output_type": "display_data"
    },
    {
     "name": "stderr",
     "output_type": "stream",
     "text": [
      "Clipping input data to the valid range for imshow with RGB data ([0..1] for floats or [0..255] for integers).\n"
     ]
    },
    {
     "name": "stdout",
     "output_type": "stream",
     "text": [
      "./npy_imgs/original_0_45_9.npy\n"
     ]
    },
    {
     "data": {
      "image/png": "[encoded data removed]",
      "text/plain": [
       "<Figure size 432x288 with 1 Axes>"
      ]
     },
     "metadata": {
      "needs_background": "light"
     },
     "output_type": "display_data"
    },
    {
     "name": "stderr",
     "output_type": "stream",
     "text": [
      "Clipping input data to the valid range for imshow with RGB data ([0..1] for floats or [0..255] for integers).\n"
     ]
    },
    {
     "name": "stdout",
     "output_type": "stream",
     "text": [
      "./npy_imgs/original_0_46_9.npy\n"
     ]
    },
    {
     "data": {
      "image/png": "[encoded data removed]",
      "text/plain": [
       "<Figure size 432x288 with 1 Axes>"
      ]
     },
     "metadata": {
      "needs_background": "light"
     },
     "output_type": "display_data"
    },
    {
     "name": "stderr",
     "output_type": "stream",
     "text": [
      "Clipping input data to the valid range for imshow with RGB data ([0..1] for floats or [0..255] for integers).\n"
     ]
    },
    {
     "name": "stdout",
     "output_type": "stream",
     "text": [
      "./npy_imgs/original_0_47_9.npy\n"
     ]
    },
    {
     "data": {
      "image/png": "[encoded data removed]",
      "text/plain": [
       "<Figure size 432x288 with 1 Axes>"
      ]
     },
     "metadata": {
      "needs_background": "light"
     },
     "output_type": "display_data"
    },
    {
     "name": "stderr",
     "output_type": "stream",
     "text": [
      "Clipping input data to the valid range for imshow with RGB data ([0..1] for floats or [0..255] for integers).\n"
     ]
    },
    {
     "name": "stdout",
     "output_type": "stream",
     "text": [
      "./npy_imgs/original_0_48_9.npy\n"
     ]
    },
    {
     "data": {
      "image/png": "[encoded data removed]",
      "text/plain": [
       "<Figure size 432x288 with 1 Axes>"
      ]
     },
     "metadata": {
      "needs_background": "light"
     },
     "output_type": "display_data"
    },
    {
     "name": "stderr",
     "output_type": "stream",
     "text": [
      "Clipping input data to the valid range for imshow with RGB data ([0..1] for floats or [0..255] for integers).\n"
     ]
    },
    {
     "name": "stdout",
     "output_type": "stream",
     "text": [
      "./npy_imgs/original_0_49_9.npy\n"
     ]
    },
    {
     "data": {
      "image/png": "[encoded data removed]",
      "text/plain": [
       "<Figure size 432x288 with 1 Axes>"
      ]
     },
     "metadata": {
      "needs_background": "light"
     },
     "output_type": "display_data"
    },
    {
     "name": "stderr",
     "output_type": "stream",
     "text": [
      "Clipping input data to the valid range for imshow with RGB data ([0..1] for floats or [0..255] for integers).\n"
     ]
    },
    {
     "name": "stdout",
     "output_type": "stream",
     "text": [
      "./npy_imgs/original_0_50_9.npy\n"
     ]
    },
    {
     "data": {
      "image/png": "[encoded data removed]",
      "text/plain": [
       "<Figure size 432x288 with 1 Axes>"
      ]
     },
     "metadata": {
      "needs_background": "light"
     },
     "output_type": "display_data"
    },
    {
     "name": "stderr",
     "output_type": "stream",
     "text": [
      "Clipping input data to the valid range for imshow with RGB data ([0..1] for floats or [0..255] for integers).\n"
     ]
    },
    {
     "name": "stdout",
     "output_type": "stream",
     "text": [
      "./npy_imgs/original_0_51_9.npy\n"
     ]
    },
    {
     "data": {
      "image/png": "[encoded data removed]",
      "text/plain": [
       "<Figure size 432x288 with 1 Axes>"
      ]
     },
     "metadata": {
      "needs_background": "light"
     },
     "output_type": "display_data"
    },
    {
     "name": "stderr",
     "output_type": "stream",
     "text": [
      "Clipping input data to the valid range for imshow with RGB data ([0..1] for floats or [0..255] for integers).\n"
     ]
    },
    {
     "name": "stdout",
     "output_type": "stream",
     "text": [
      "./npy_imgs/original_0_52_9.npy\n"
     ]
    },
    {
     "data": {
      "image/png": "[encoded data removed]",
      "text/plain": [
       "<Figure size 432x288 with 1 Axes>"
      ]
     },
     "metadata": {
      "needs_background": "light"
     },
     "output_type": "display_data"
    },
    {
     "name": "stderr",
     "output_type": "stream",
     "text": [
      "Clipping input data to the valid range for imshow with RGB data ([0..1] for floats or [0..255] for integers).\n"
     ]
    },
    {
     "name": "stdout",
     "output_type": "stream",
     "text": [
      "./npy_imgs/original_0_53_9.npy\n"
     ]
    },
    {
     "data": {
      "image/png": "[encoded data removed]",
      "text/plain": [
       "<Figure size 432x288 with 1 Axes>"
      ]
     },
     "metadata": {
      "needs_background": "light"
     },
     "output_type": "display_data"
    },
    {
     "name": "stderr",
     "output_type": "stream",
     "text": [
      "Clipping input data to the valid range for imshow with RGB data ([0..1] for floats or [0..255] for integers).\n"
     ]
    },
    {
     "name": "stdout",
     "output_type": "stream",
     "text": [
      "./npy_imgs/original_0_54_9.npy\n"
     ]
    },
    {
     "data": {
      "image/png": "[encoded data removed]",
      "text/plain": [
       "<Figure size 432x288 with 1 Axes>"
      ]
     },
     "metadata": {
      "needs_background": "light"
     },
     "output_type": "display_data"
    },
    {
     "name": "stderr",
     "output_type": "stream",
     "text": [
      "Clipping input data to the valid range for imshow with RGB data ([0..1] for floats or [0..255] for integers).\n"
     ]
    },
    {
     "name": "stdout",
     "output_type": "stream",
     "text": [
      "./npy_imgs/original_0_55_9.npy\n"
     ]
    },
    {
     "data": {
      "image/png": "[encoded data removed]",
      "text/plain": [
       "<Figure size 432x288 with 1 Axes>"
      ]
     },
     "metadata": {
      "needs_background": "light"
     },
     "output_type": "display_data"
    },
    {
     "name": "stderr",
     "output_type": "stream",
     "text": [
      "Clipping input data to the valid range for imshow with RGB data ([0..1] for floats or [0..255] for integers).\n"
     ]
    },
    {
     "name": "stdout",
     "output_type": "stream",
     "text": [
      "./npy_imgs/original_0_56_9.npy\n"
     ]
    },
    {
     "data": {
      "image/png": "[encoded data removed]",
      "text/plain": [
       "<Figure size 432x288 with 1 Axes>"
      ]
     },
     "metadata": {
      "needs_background": "light"
     },
     "output_type": "display_data"
    },
    {
     "name": "stdout",
     "output_type": "stream",
     "text": [
      "./npy_imgs/original_0_57_9.npy\n"
     ]
    },
    {
     "name": "stderr",
     "output_type": "stream",
     "text": [
      "Clipping input data to the valid range for imshow with RGB data ([0..1] for floats or [0..255] for integers).\n"
     ]
    },
    {
     "data": {
      "image/png": "[encoded data removed]",
      "text/plain": [
       "<Figure size 432x288 with 1 Axes>"
      ]
     },
     "metadata": {
      "needs_background": "light"
     },
     "output_type": "display_data"
    },
    {
     "name": "stderr",
     "output_type": "stream",
     "text": [
      "Clipping input data to the valid range for imshow with RGB data ([0..1] for floats or [0..255] for integers).\n"
     ]
    },
    {
     "name": "stdout",
     "output_type": "stream",
     "text": [
      "./npy_imgs/original_0_58_9.npy\n"
     ]
    },
    {
     "data": {
      "image/png": "[encoded data removed]",
      "text/plain": [
       "<Figure size 432x288 with 1 Axes>"
      ]
     },
     "metadata": {
      "needs_background": "light"
     },
     "output_type": "display_data"
    },
    {
     "name": "stderr",
     "output_type": "stream",
     "text": [
      "Clipping input data to the valid range for imshow with RGB data ([0..1] for floats or [0..255] for integers).\n"
     ]
    },
    {
     "name": "stdout",
     "output_type": "stream",
     "text": [
      "./npy_imgs/original_0_59_9.npy\n"
     ]
    },
    {
     "data": {
      "image/png": "[encoded data removed]",
      "text/plain": [
       "<Figure size 432x288 with 1 Axes>"
      ]
     },
     "metadata": {
      "needs_background": "light"
     },
     "output_type": "display_data"
    },
    {
     "name": "stderr",
     "output_type": "stream",
     "text": [
      "Clipping input data to the valid range for imshow with RGB data ([0..1] for floats or [0..255] for integers).\n"
     ]
    },
    {
     "name": "stdout",
     "output_type": "stream",
     "text": [
      "./npy_imgs/original_0_60_9.npy\n"
     ]
    },
    {
     "data": {
      "image/png": "[encoded data removed]",
      "text/plain": [
       "<Figure size 432x288 with 1 Axes>"
      ]
     },
     "metadata": {
      "needs_background": "light"
     },
     "output_type": "display_data"
    },
    {
     "name": "stderr",
     "output_type": "stream",
     "text": [
      "Clipping input data to the valid range for imshow with RGB data ([0..1] for floats or [0..255] for integers).\n"
     ]
    },
    {
     "name": "stdout",
     "output_type": "stream",
     "text": [
      "./npy_imgs/original_0_61_9.npy\n"
     ]
    },
    {
     "data": {
      "image/png": "[encoded data removed]",
      "text/plain": [
       "<Figure size 432x288 with 1 Axes>"
      ]
     },
     "metadata": {
      "needs_background": "light"
     },
     "output_type": "display_data"
    },
    {
     "name": "stderr",
     "output_type": "stream",
     "text": [
      "Clipping input data to the valid range for imshow with RGB data ([0..1] for floats or [0..255] for integers).\n"
     ]
    },
    {
     "name": "stdout",
     "output_type": "stream",
     "text": [
      "./npy_imgs/original_0_62_9.npy\n"
     ]
    },
    {
     "data": {
      "image/png": "[encoded data removed]",
      "text/plain": [
       "<Figure size 432x288 with 1 Axes>"
      ]
     },
     "metadata": {
      "needs_background": "light"
     },
     "output_type": "display_data"
    },
    {
     "name": "stderr",
     "output_type": "stream",
     "text": [
      "Clipping input data to the valid range for imshow with RGB data ([0..1] for floats or [0..255] for integers).\n"
     ]
    },
    {
     "name": "stdout",
     "output_type": "stream",
     "text": [
      "./npy_imgs/original_0_63_9.npy\n"
     ]
    },
    {
     "data": {
      "image/png": "[encoded data removed]",
      "text/plain": [
       "<Figure size 432x288 with 1 Axes>"
      ]
     },
     "metadata": {
      "needs_background": "light"
     },
     "output_type": "display_data"
    },
    {
     "name": "stderr",
     "output_type": "stream",
     "text": [
      "Clipping input data to the valid range for imshow with RGB data ([0..1] for floats or [0..255] for integers).\n"
     ]
    },
    {
     "name": "stdout",
     "output_type": "stream",
     "text": [
      "./npy_imgs/original_0_64_9.npy\n"
     ]
    },
    {
     "data": {
      "image/png": "[encoded data removed]",
      "text/plain": [
       "<Figure size 432x288 with 1 Axes>"
      ]
     },
     "metadata": {
      "needs_background": "light"
     },
     "output_type": "display_data"
    },
    {
     "name": "stderr",
     "output_type": "stream",
     "text": [
      "Clipping input data to the valid range for imshow with RGB data ([0..1] for floats or [0..255] for integers).\n"
     ]
    },
    {
     "name": "stdout",
     "output_type": "stream",
     "text": [
      "./npy_imgs/original_0_65_9.npy\n"
     ]
    },
    {
     "data": {
      "image/png": "[encoded data removed]",
      "text/plain": [
       "<Figure size 432x288 with 1 Axes>"
      ]
     },
     "metadata": {
      "needs_background": "light"
     },
     "output_type": "display_data"
    },
    {
     "name": "stderr",
     "output_type": "stream",
     "text": [
      "Clipping input data to the valid range for imshow with RGB data ([0..1] for floats or [0..255] for integers).\n"
     ]
    },
    {
     "name": "stdout",
     "output_type": "stream",
     "text": [
      "./npy_imgs/original_0_66_9.npy\n"
     ]
    },
    {
     "data": {
      "image/png": "[encoded data removed]",
      "text/plain": [
       "<Figure size 432x288 with 1 Axes>"
      ]
     },
     "metadata": {
      "needs_background": "light"
     },
     "output_type": "display_data"
    },
    {
     "name": "stderr",
     "output_type": "stream",
     "text": [
      "Clipping input data to the valid range for imshow with RGB data ([0..1] for floats or [0..255] for integers).\n"
     ]
    },
    {
     "name": "stdout",
     "output_type": "stream",
     "text": [
      "./npy_imgs/original_0_67_9.npy\n"
     ]
    },
    {
     "data": {
      "image/png": "[encoded data removed]",
      "text/plain": [
       "<Figure size 432x288 with 1 Axes>"
      ]
     },
     "metadata": {
      "needs_background": "light"
     },
     "output_type": "display_data"
    },
    {
     "name": "stderr",
     "output_type": "stream",
     "text": [
      "Clipping input data to the valid range for imshow with RGB data ([0..1] for floats or [0..255] for integers).\n"
     ]
    },
    {
     "name": "stdout",
     "output_type": "stream",
     "text": [
      "./npy_imgs/original_0_68_9.npy\n"
     ]
    },
    {
     "data": {
      "image/png": "[encoded data removed]",
      "text/plain": [
       "<Figure size 432x288 with 1 Axes>"
      ]
     },
     "metadata": {
      "needs_background": "light"
     },
     "output_type": "display_data"
    },
    {
     "name": "stderr",
     "output_type": "stream",
     "text": [
      "Clipping input data to the valid range for imshow with RGB data ([0..1] for floats or [0..255] for integers).\n"
     ]
    },
    {
     "name": "stdout",
     "output_type": "stream",
     "text": [
      "./npy_imgs/original_0_69_9.npy\n"
     ]
    },
    {
     "data": {
      "image/png": "[encoded data removed]",
      "text/plain": [
       "<Figure size 432x288 with 1 Axes>"
      ]
     },
     "metadata": {
      "needs_background": "light"
     },
     "output_type": "display_data"
    },
    {
     "name": "stderr",
     "output_type": "stream",
     "text": [
      "Clipping input data to the valid range for imshow with RGB data ([0..1] for floats or [0..255] for integers).\n"
     ]
    },
    {
     "name": "stdout",
     "output_type": "stream",
     "text": [
      "./npy_imgs/original_0_70_9.npy\n"
     ]
    },
    {
     "data": {
      "image/png": "[encoded data removed]",
      "text/plain": [
       "<Figure size 432x288 with 1 Axes>"
      ]
     },
     "metadata": {
      "needs_background": "light"
     },
     "output_type": "display_data"
    },
    {
     "name": "stderr",
     "output_type": "stream",
     "text": [
      "Clipping input data to the valid range for imshow with RGB data ([0..1] for floats or [0..255] for integers).\n"
     ]
    },
    {
     "name": "stdout",
     "output_type": "stream",
     "text": [
      "./npy_imgs/original_0_71_9.npy\n"
     ]
    },
    {
     "data": {
      "image/png": "[encoded data removed]",
      "text/plain": [
       "<Figure size 432x288 with 1 Axes>"
      ]
     },
     "metadata": {
      "needs_background": "light"
     },
     "output_type": "display_data"
    },
    {
     "name": "stdout",
     "output_type": "stream",
     "text": [
      "./npy_imgs/original_0_72_9.npy\n"
     ]
    },
    {
     "name": "stderr",
     "output_type": "stream",
     "text": [
      "Clipping input data to the valid range for imshow with RGB data ([0..1] for floats or [0..255] for integers).\n"
     ]
    },
    {
     "data": {
      "image/png": "[encoded data removed]",
      "text/plain": [
       "<Figure size 432x288 with 1 Axes>"
      ]
     },
     "metadata": {
      "needs_background": "light"
     },
     "output_type": "display_data"
    },
    {
     "name": "stderr",
     "output_type": "stream",
     "text": [
      "Clipping input data to the valid range for imshow with RGB data ([0..1] for floats or [0..255] for integers).\n"
     ]
    },
    {
     "name": "stdout",
     "output_type": "stream",
     "text": [
      "./npy_imgs/original_0_73_9.npy\n"
     ]
    },
    {
     "data": {
      "image/png": "[encoded data removed]",
      "text/plain": [
       "<Figure size 432x288 with 1 Axes>"
      ]
     },
     "metadata": {
      "needs_background": "light"
     },
     "output_type": "display_data"
    },
    {
     "name": "stderr",
     "output_type": "stream",
     "text": [
      "Clipping input data to the valid range for imshow with RGB data ([0..1] for floats or [0..255] for integers).\n"
     ]
    },
    {
     "name": "stdout",
     "output_type": "stream",
     "text": [
      "./npy_imgs/original_0_74_9.npy\n"
     ]
    },
    {
     "data": {
      "image/png": "[encoded data removed]",
      "text/plain": [
       "<Figure size 432x288 with 1 Axes>"
      ]
     },
     "metadata": {
      "needs_background": "light"
     },
     "output_type": "display_data"
    },
    {
     "name": "stderr",
     "output_type": "stream",
     "text": [
      "Clipping input data to the valid range for imshow with RGB data ([0..1] for floats or [0..255] for integers).\n"
     ]
    },
    {
     "name": "stdout",
     "output_type": "stream",
     "text": [
      "./npy_imgs/original_0_75_9.npy\n"
     ]
    },
    {
     "data": {
      "image/png": "[encoded data removed]",
      "text/plain": [
       "<Figure size 432x288 with 1 Axes>"
      ]
     },
     "metadata": {
      "needs_background": "light"
     },
     "output_type": "display_data"
    },
    {
     "name": "stderr",
     "output_type": "stream",
     "text": [
      "Clipping input data to the valid range for imshow with RGB data ([0..1] for floats or [0..255] for integers).\n"
     ]
    },
    {
     "name": "stdout",
     "output_type": "stream",
     "text": [
      "./npy_imgs/original_0_76_9.npy\n"
     ]
    },
    {
     "data": {
      "image/png": "[encoded data removed]",
      "text/plain": [
       "<Figure size 432x288 with 1 Axes>"
      ]
     },
     "metadata": {
      "needs_background": "light"
     },
     "output_type": "display_data"
    },
    {
     "name": "stderr",
     "output_type": "stream",
     "text": [
      "Clipping input data to the valid range for imshow with RGB data ([0..1] for floats or [0..255] for integers).\n"
     ]
    },
    {
     "name": "stdout",
     "output_type": "stream",
     "text": [
      "./npy_imgs/original_0_77_9.npy\n"
     ]
    },
    {
     "data": {
      "image/png": "[encoded data removed]",
      "text/plain": [
       "<Figure size 432x288 with 1 Axes>"
      ]
     },
     "metadata": {
      "needs_background": "light"
     },
     "output_type": "display_data"
    },
    {
     "name": "stderr",
     "output_type": "stream",
     "text": [
      "Clipping input data to the valid range for imshow with RGB data ([0..1] for floats or [0..255] for integers).\n"
     ]
    },
    {
     "name": "stdout",
     "output_type": "stream",
     "text": [
      "./npy_imgs/original_0_78_9.npy\n"
     ]
    },
    {
     "data": {
      "image/png": "[encoded data removed]",
      "text/plain": [
       "<Figure size 432x288 with 1 Axes>"
      ]
     },
     "metadata": {
      "needs_background": "light"
     },
     "output_type": "display_data"
    },
    {
     "name": "stderr",
     "output_type": "stream",
     "text": [
      "Clipping input data to the valid range for imshow with RGB data ([0..1] for floats or [0..255] for integers).\n"
     ]
    },
    {
     "name": "stdout",
     "output_type": "stream",
     "text": [
      "./npy_imgs/original_0_79_9.npy\n"
     ]
    },
    {
     "data": {
      "image/png": "[encoded data removed]",
      "text/plain": [
       "<Figure size 432x288 with 1 Axes>"
      ]
     },
     "metadata": {
      "needs_background": "light"
     },
     "output_type": "display_data"
    },
    {
     "name": "stderr",
     "output_type": "stream",
     "text": [
      "Clipping input data to the valid range for imshow with RGB data ([0..1] for floats or [0..255] for integers).\n"
     ]
    },
    {
     "name": "stdout",
     "output_type": "stream",
     "text": [
      "./npy_imgs/original_0_80_9.npy\n"
     ]
    },
    {
     "data": {
      "image/png": "[encoded data removed]",
      "text/plain": [
       "<Figure size 432x288 with 1 Axes>"
      ]
     },
     "metadata": {
      "needs_background": "light"
     },
     "output_type": "display_data"
    },
    {
     "name": "stderr",
     "output_type": "stream",
     "text": [
      "Clipping input data to the valid range for imshow with RGB data ([0..1] for floats or [0..255] for integers).\n"
     ]
    },
    {
     "name": "stdout",
     "output_type": "stream",
     "text": [
      "./npy_imgs/original_0_81_9.npy\n"
     ]
    },
    {
     "data": {
      "image/png": "[encoded data removed]",
      "text/plain": [
       "<Figure size 432x288 with 1 Axes>"
      ]
     },
     "metadata": {
      "needs_background": "light"
     },
     "output_type": "display_data"
    },
    {
     "name": "stderr",
     "output_type": "stream",
     "text": [
      "Clipping input data to the valid range for imshow with RGB data ([0..1] for floats or [0..255] for integers).\n"
     ]
    },
    {
     "name": "stdout",
     "output_type": "stream",
     "text": [
      "./npy_imgs/original_0_82_9.npy\n"
     ]
    },
    {
     "data": {
      "image/png": "[encoded data removed]",
      "text/plain": [
       "<Figure size 432x288 with 1 Axes>"
      ]
     },
     "metadata": {
      "needs_background": "light"
     },
     "output_type": "display_data"
    },
    {
     "name": "stderr",
     "output_type": "stream",
     "text": [
      "Clipping input data to the valid range for imshow with RGB data ([0..1] for floats or [0..255] for integers).\n"
     ]
    },
    {
     "name": "stdout",
     "output_type": "stream",
     "text": [
      "./npy_imgs/original_0_83_9.npy\n"
     ]
    },
    {
     "data": {
      "image/png": "[encoded data removed]",
      "text/plain": [
       "<Figure size 432x288 with 1 Axes>"
      ]
     },
     "metadata": {
      "needs_background": "light"
     },
     "output_type": "display_data"
    },
    {
     "name": "stderr",
     "output_type": "stream",
     "text": [
      "Clipping input data to the valid range for imshow with RGB data ([0..1] for floats or [0..255] for integers).\n"
     ]
    },
    {
     "name": "stdout",
     "output_type": "stream",
     "text": [
      "./npy_imgs/original_0_84_9.npy\n"
     ]
    },
    {
     "data": {
      "image/png": "[encoded data removed]",
      "text/plain": [
       "<Figure size 432x288 with 1 Axes>"
      ]
     },
     "metadata": {
      "needs_background": "light"
     },
     "output_type": "display_data"
    },
    {
     "name": "stderr",
     "output_type": "stream",
     "text": [
      "Clipping input data to the valid range for imshow with RGB data ([0..1] for floats or [0..255] for integers).\n"
     ]
    },
    {
     "name": "stdout",
     "output_type": "stream",
     "text": [
      "./npy_imgs/original_0_85_9.npy\n"
     ]
    },
    {
     "data": {
      "image/png": "[encoded data removed]",
      "text/plain": [
       "<Figure size 432x288 with 1 Axes>"
      ]
     },
     "metadata": {
      "needs_background": "light"
     },
     "output_type": "display_data"
    },
    {
     "name": "stderr",
     "output_type": "stream",
     "text": [
      "Clipping input data to the valid range for imshow with RGB data ([0..1] for floats or [0..255] for integers).\n"
     ]
    },
    {
     "name": "stdout",
     "output_type": "stream",
     "text": [
      "./npy_imgs/original_0_86_9.npy\n"
     ]
    },
    {
     "data": {
      "image/png": "[encoded data removed]",
      "text/plain": [
       "<Figure size 432x288 with 1 Axes>"
      ]
     },
     "metadata": {
      "needs_background": "light"
     },
     "output_type": "display_data"
    },
    {
     "name": "stdout",
     "output_type": "stream",
     "text": [
      "./npy_imgs/original_0_87_9.npy\n"
     ]
    },
    {
     "name": "stderr",
     "output_type": "stream",
     "text": [
      "Clipping input data to the valid range for imshow with RGB data ([0..1] for floats or [0..255] for integers).\n"
     ]
    },
    {
     "data": {
      "image/png": "[encoded data removed]",
      "text/plain": [
       "<Figure size 432x288 with 1 Axes>"
      ]
     },
     "metadata": {
      "needs_background": "light"
     },
     "output_type": "display_data"
    },
    {
     "name": "stderr",
     "output_type": "stream",
     "text": [
      "Clipping input data to the valid range for imshow with RGB data ([0..1] for floats or [0..255] for integers).\n"
     ]
    },
    {
     "name": "stdout",
     "output_type": "stream",
     "text": [
      "./npy_imgs/original_0_88_9.npy\n"
     ]
    },
    {
     "data": {
      "image/png": "[encoded data removed]",
      "text/plain": [
       "<Figure size 432x288 with 1 Axes>"
      ]
     },
     "metadata": {
      "needs_background": "light"
     },
     "output_type": "display_data"
    },
    {
     "name": "stderr",
     "output_type": "stream",
     "text": [
      "Clipping input data to the valid range for imshow with RGB data ([0..1] for floats or [0..255] for integers).\n"
     ]
    },
    {
     "name": "stdout",
     "output_type": "stream",
     "text": [
      "./npy_imgs/original_0_89_9.npy\n"
     ]
    },
    {
     "data": {
      "image/png": "[encoded data removed]",
      "text/plain": [
       "<Figure size 432x288 with 1 Axes>"
      ]
     },
     "metadata": {
      "needs_background": "light"
     },
     "output_type": "display_data"
    },
    {
     "name": "stderr",
     "output_type": "stream",
     "text": [
      "Clipping input data to the valid range for imshow with RGB data ([0..1] for floats or [0..255] for integers).\n"
     ]
    },
    {
     "name": "stdout",
     "output_type": "stream",
     "text": [
      "./npy_imgs/original_0_90_9.npy\n"
     ]
    },
    {
     "data": {
      "image/png": "[encoded data removed]",
      "text/plain": [
       "<Figure size 432x288 with 1 Axes>"
      ]
     },
     "metadata": {
      "needs_background": "light"
     },
     "output_type": "display_data"
    },
    {
     "name": "stderr",
     "output_type": "stream",
     "text": [
      "Clipping input data to the valid range for imshow with RGB data ([0..1] for floats or [0..255] for integers).\n"
     ]
    },
    {
     "name": "stdout",
     "output_type": "stream",
     "text": [
      "./npy_imgs/original_0_91_9.npy\n"
     ]
    },
    {
     "data": {
      "image/png": "[encoded data removed]",
      "text/plain": [
       "<Figure size 432x288 with 1 Axes>"
      ]
     },
     "metadata": {
      "needs_background": "light"
     },
     "output_type": "display_data"
    },
    {
     "name": "stderr",
     "output_type": "stream",
     "text": [
      "Clipping input data to the valid range for imshow with RGB data ([0..1] for floats or [0..255] for integers).\n"
     ]
    },
    {
     "name": "stdout",
     "output_type": "stream",
     "text": [
      "./npy_imgs/original_0_92_9.npy\n"
     ]
    },
    {
     "data": {
      "image/png": "[encoded data removed]",
      "text/plain": [
       "<Figure size 432x288 with 1 Axes>"
      ]
     },
     "metadata": {
      "needs_background": "light"
     },
     "output_type": "display_data"
    },
    {
     "name": "stderr",
     "output_type": "stream",
     "text": [
      "Clipping input data to the valid range for imshow with RGB data ([0..1] for floats or [0..255] for integers).\n"
     ]
    },
    {
     "name": "stdout",
     "output_type": "stream",
     "text": [
      "./npy_imgs/original_0_93_9.npy\n"
     ]
    },
    {
     "data": {
      "image/png": "[encoded data removed]",
      "text/plain": [
       "<Figure size 432x288 with 1 Axes>"
      ]
     },
     "metadata": {
      "needs_background": "light"
     },
     "output_type": "display_data"
    },
    {
     "name": "stderr",
     "output_type": "stream",
     "text": [
      "Clipping input data to the valid range for imshow with RGB data ([0..1] for floats or [0..255] for integers).\n"
     ]
    },
    {
     "name": "stdout",
     "output_type": "stream",
     "text": [
      "./npy_imgs/original_0_94_9.npy\n"
     ]
    },
    {
     "data": {
      "image/png": "[encoded data removed]",
      "text/plain": [
       "<Figure size 432x288 with 1 Axes>"
      ]
     },
     "metadata": {
      "needs_background": "light"
     },
     "output_type": "display_data"
    },
    {
     "name": "stderr",
     "output_type": "stream",
     "text": [
      "Clipping input data to the valid range for imshow with RGB data ([0..1] for floats or [0..255] for integers).\n"
     ]
    },
    {
     "name": "stdout",
     "output_type": "stream",
     "text": [
      "./npy_imgs/original_0_95_9.npy\n"
     ]
    },
    {
     "data": {
      "image/png": "[encoded data removed]",
      "text/plain": [
       "<Figure size 432x288 with 1 Axes>"
      ]
     },
     "metadata": {
      "needs_background": "light"
     },
     "output_type": "display_data"
    },
    {
     "name": "stderr",
     "output_type": "stream",
     "text": [
      "Clipping input data to the valid range for imshow with RGB data ([0..1] for floats or [0..255] for integers).\n"
     ]
    },
    {
     "name": "stdout",
     "output_type": "stream",
     "text": [
      "./npy_imgs/original_0_96_9.npy\n"
     ]
    },
    {
     "data": {
      "image/png": "[encoded data removed]",
      "text/plain": [
       "<Figure size 432x288 with 1 Axes>"
      ]
     },
     "metadata": {
      "needs_background": "light"
     },
     "output_type": "display_data"
    },
    {
     "name": "stderr",
     "output_type": "stream",
     "text": [
      "Clipping input data to the valid range for imshow with RGB data ([0..1] for floats or [0..255] for integers).\n"
     ]
    },
    {
     "name": "stdout",
     "output_type": "stream",
     "text": [
      "./npy_imgs/original_0_97_9.npy\n"
     ]
    },
    {
     "data": {
      "image/png": "[encoded data removed]",
      "text/plain": [
       "<Figure size 432x288 with 1 Axes>"
      ]
     },
     "metadata": {
      "needs_background": "light"
     },
     "output_type": "display_data"
    },
    {
     "name": "stderr",
     "output_type": "stream",
     "text": [
      "Clipping input data to the valid range for imshow with RGB data ([0..1] for floats or [0..255] for integers).\n"
     ]
    },
    {
     "name": "stdout",
     "output_type": "stream",
     "text": [
      "./npy_imgs/original_0_98_9.npy\n"
     ]
    },
    {
     "data": {
      "image/png": "[encoded data removed]",
      "text/plain": [
       "<Figure size 432x288 with 1 Axes>"
      ]
     },
     "metadata": {
      "needs_background": "light"
     },
     "output_type": "display_data"
    },
    {
     "name": "stderr",
     "output_type": "stream",
     "text": [
      "Clipping input data to the valid range for imshow with RGB data ([0..1] for floats or [0..255] for integers).\n"
     ]
    },
    {
     "name": "stdout",
     "output_type": "stream",
     "text": [
      "./npy_imgs/original_0_99_9.npy\n"
     ]
    },
    {
     "data": {
      "image/png": "[encoded data removed]",
      "text/plain": [
       "<Figure size 432x288 with 1 Axes>"
      ]
     },
     "metadata": {
      "needs_background": "light"
     },
     "output_type": "display_data"
    },
    {
     "name": "stderr",
     "output_type": "stream",
     "text": [
      "Clipping input data to the valid range for imshow with RGB data ([0..1] for floats or [0..255] for integers).\n"
     ]
    },
    {
     "name": "stdout",
     "output_type": "stream",
     "text": [
      "./npy_imgs/original_0_100_9.npy\n"
     ]
    },
    {
     "data": {
      "image/png": "[encoded data removed]",
      "text/plain": [
       "<Figure size 432x288 with 1 Axes>"
      ]
     },
     "metadata": {
      "needs_background": "light"
     },
     "output_type": "display_data"
    },
    {
     "name": "stderr",
     "output_type": "stream",
     "text": [
      "Clipping input data to the valid range for imshow with RGB data ([0..1] for floats or [0..255] for integers).\n"
     ]
    },
    {
     "name": "stdout",
     "output_type": "stream",
     "text": [
      "./npy_imgs/original_0_101_9.npy\n"
     ]
    },
    {
     "data": {
      "image/png": "[encoded data removed]",
      "text/plain": [
       "<Figure size 432x288 with 1 Axes>"
      ]
     },
     "metadata": {
      "needs_background": "light"
     },
     "output_type": "display_data"
    },
    {
     "name": "stdout",
     "output_type": "stream",
     "text": [
      "./npy_imgs/original_0_102_9.npy\n"
     ]
    },
    {
     "name": "stderr",
     "output_type": "stream",
     "text": [
      "Clipping input data to the valid range for imshow with RGB data ([0..1] for floats or [0..255] for integers).\n"
     ]
    },
    {
     "data": {
      "image/png": "[encoded data removed]",
      "text/plain": [
       "<Figure size 432x288 with 1 Axes>"
      ]
     },
     "metadata": {
      "needs_background": "light"
     },
     "output_type": "display_data"
    },
    {
     "name": "stderr",
     "output_type": "stream",
     "text": [
      "Clipping input data to the valid range for imshow with RGB data ([0..1] for floats or [0..255] for integers).\n"
     ]
    },
    {
     "name": "stdout",
     "output_type": "stream",
     "text": [
      "./npy_imgs/original_0_103_9.npy\n"
     ]
    },
    {
     "data": {
      "image/png": "[encoded data removed]",
      "text/plain": [
       "<Figure size 432x288 with 1 Axes>"
      ]
     },
     "metadata": {
      "needs_background": "light"
     },
     "output_type": "display_data"
    },
    {
     "name": "stderr",
     "output_type": "stream",
     "text": [
      "Clipping input data to the valid range for imshow with RGB data ([0..1] for floats or [0..255] for integers).\n"
     ]
    },
    {
     "name": "stdout",
     "output_type": "stream",
     "text": [
      "./npy_imgs/original_0_104_9.npy\n"
     ]
    },
    {
     "data": {
      "image/png": "[encoded data removed]",
      "text/plain": [
       "<Figure size 432x288 with 1 Axes>"
      ]
     },
     "metadata": {
      "needs_background": "light"
     },
     "output_type": "display_data"
    },
    {
     "name": "stderr",
     "output_type": "stream",
     "text": [
      "Clipping input data to the valid range for imshow with RGB data ([0..1] for floats or [0..255] for integers).\n"
     ]
    },
    {
     "name": "stdout",
     "output_type": "stream",
     "text": [
      "./npy_imgs/original_0_105_9.npy\n"
     ]
    },
    {
     "data": {
      "image/png": "[encoded data removed]",
      "text/plain": [
       "<Figure size 432x288 with 1 Axes>"
      ]
     },
     "metadata": {
      "needs_background": "light"
     },
     "output_type": "display_data"
    },
    {
     "name": "stderr",
     "output_type": "stream",
     "text": [
      "Clipping input data to the valid range for imshow with RGB data ([0..1] for floats or [0..255] for integers).\n"
     ]
    },
    {
     "name": "stdout",
     "output_type": "stream",
     "text": [
      "./npy_imgs/original_0_106_9.npy\n"
     ]
    },
    {
     "data": {
      "image/png": "[encoded data removed]",
      "text/plain": [
       "<Figure size 432x288 with 1 Axes>"
      ]
     },
     "metadata": {
      "needs_background": "light"
     },
     "output_type": "display_data"
    },
    {
     "name": "stderr",
     "output_type": "stream",
     "text": [
      "Clipping input data to the valid range for imshow with RGB data ([0..1] for floats or [0..255] for integers).\n"
     ]
    },
    {
     "name": "stdout",
     "output_type": "stream",
     "text": [
      "./npy_imgs/original_0_107_9.npy\n"
     ]
    },
    {
     "data": {
      "image/png": "[encoded data removed]",
      "text/plain": [
       "<Figure size 432x288 with 1 Axes>"
      ]
     },
     "metadata": {
      "needs_background": "light"
     },
     "output_type": "display_data"
    },
    {
     "name": "stderr",
     "output_type": "stream",
     "text": [
      "Clipping input data to the valid range for imshow with RGB data ([0..1] for floats or [0..255] for integers).\n"
     ]
    },
    {
     "name": "stdout",
     "output_type": "stream",
     "text": [
      "./npy_imgs/original_0_108_9.npy\n"
     ]
    },
    {
     "data": {
      "image/png": "[encoded data removed]",
      "text/plain": [
       "<Figure size 432x288 with 1 Axes>"
      ]
     },
     "metadata": {
      "needs_background": "light"
     },
     "output_type": "display_data"
    },
    {
     "name": "stderr",
     "output_type": "stream",
     "text": [
      "Clipping input data to the valid range for imshow with RGB data ([0..1] for floats or [0..255] for integers).\n"
     ]
    },
    {
     "name": "stdout",
     "output_type": "stream",
     "text": [
      "./npy_imgs/original_0_109_9.npy\n"
     ]
    },
    {
     "data": {
      "image/png": "[encoded data removed]",
      "text/plain": [
       "<Figure size 432x288 with 1 Axes>"
      ]
     },
     "metadata": {
      "needs_background": "light"
     },
     "output_type": "display_data"
    },
    {
     "name": "stderr",
     "output_type": "stream",
     "text": [
      "Clipping input data to the valid range for imshow with RGB data ([0..1] for floats or [0..255] for integers).\n"
     ]
    },
    {
     "name": "stdout",
     "output_type": "stream",
     "text": [
      "./npy_imgs/original_0_110_9.npy\n"
     ]
    },
    {
     "data": {
      "image/png": "[encoded data removed]",
      "text/plain": [
       "<Figure size 432x288 with 1 Axes>"
      ]
     },
     "metadata": {
      "needs_background": "light"
     },
     "output_type": "display_data"
    },
    {
     "name": "stderr",
     "output_type": "stream",
     "text": [
      "Clipping input data to the valid range for imshow with RGB data ([0..1] for floats or [0..255] for integers).\n"
     ]
    },
    {
     "name": "stdout",
     "output_type": "stream",
     "text": [
      "./npy_imgs/original_0_111_9.npy\n"
     ]
    },
    {
     "data": {
      "image/png": "[encoded data removed]",
      "text/plain": [
       "<Figure size 432x288 with 1 Axes>"
      ]
     },
     "metadata": {
      "needs_background": "light"
     },
     "output_type": "display_data"
    },
    {
     "name": "stderr",
     "output_type": "stream",
     "text": [
      "Clipping input data to the valid range for imshow with RGB data ([0..1] for floats or [0..255] for integers).\n"
     ]
    },
    {
     "name": "stdout",
     "output_type": "stream",
     "text": [
      "./npy_imgs/original_0_112_9.npy\n"
     ]
    },
    {
     "data": {
      "image/png": "[encoded data removed]",
      "text/plain": [
       "<Figure size 432x288 with 1 Axes>"
      ]
     },
     "metadata": {
      "needs_background": "light"
     },
     "output_type": "display_data"
    },
    {
     "name": "stderr",
     "output_type": "stream",
     "text": [
      "Clipping input data to the valid range for imshow with RGB data ([0..1] for floats or [0..255] for integers).\n"
     ]
    },
    {
     "name": "stdout",
     "output_type": "stream",
     "text": [
      "./npy_imgs/original_0_113_9.npy\n"
     ]
    },
    {
     "data": {
      "image/png": "[encoded data removed]",
      "text/plain": [
       "<Figure size 432x288 with 1 Axes>"
      ]
     },
     "metadata": {
      "needs_background": "light"
     },
     "output_type": "display_data"
    },
    {
     "name": "stderr",
     "output_type": "stream",
     "text": [
      "Clipping input data to the valid range for imshow with RGB data ([0..1] for floats or [0..255] for integers).\n"
     ]
    },
    {
     "name": "stdout",
     "output_type": "stream",
     "text": [
      "./npy_imgs/original_0_114_9.npy\n"
     ]
    },
    {
     "data": {
      "image/png": "[encoded data removed]",
      "text/plain": [
       "<Figure size 432x288 with 1 Axes>"
      ]
     },
     "metadata": {
      "needs_background": "light"
     },
     "output_type": "display_data"
    },
    {
     "name": "stderr",
     "output_type": "stream",
     "text": [
      "Clipping input data to the valid range for imshow with RGB data ([0..1] for floats or [0..255] for integers).\n"
     ]
    },
    {
     "name": "stdout",
     "output_type": "stream",
     "text": [
      "./npy_imgs/original_0_115_9.npy\n"
     ]
    },
    {
     "data": {
      "image/png": "[encoded data removed]",
      "text/plain": [
       "<Figure size 432x288 with 1 Axes>"
      ]
     },
     "metadata": {
      "needs_background": "light"
     },
     "output_type": "display_data"
    },
    {
     "name": "stderr",
     "output_type": "stream",
     "text": [
      "Clipping input data to the valid range for imshow with RGB data ([0..1] for floats or [0..255] for integers).\n"
     ]
    },
    {
     "name": "stdout",
     "output_type": "stream",
     "text": [
      "./npy_imgs/original_0_116_9.npy\n"
     ]
    },
    {
     "data": {
      "image/png": "[encoded data removed]",
      "text/plain": [
       "<Figure size 432x288 with 1 Axes>"
      ]
     },
     "metadata": {
      "needs_background": "light"
     },
     "output_type": "display_data"
    },
    {
     "name": "stdout",
     "output_type": "stream",
     "text": [
      "./npy_imgs/original_0_117_9.npy\n"
     ]
    },
    {
     "name": "stderr",
     "output_type": "stream",
     "text": [
      "Clipping input data to the valid range for imshow with RGB data ([0..1] for floats or [0..255] for integers).\n"
     ]
    },
    {
     "data": {
      "image/png": "[encoded data removed]",
      "text/plain": [
       "<Figure size 432x288 with 1 Axes>"
      ]
     },
     "metadata": {
      "needs_background": "light"
     },
     "output_type": "display_data"
    },
    {
     "name": "stderr",
     "output_type": "stream",
     "text": [
      "Clipping input data to the valid range for imshow with RGB data ([0..1] for floats or [0..255] for integers).\n"
     ]
    },
    {
     "name": "stdout",
     "output_type": "stream",
     "text": [
      "./npy_imgs/original_0_118_9.npy\n"
     ]
    },
    {
     "data": {
      "image/png": "[encoded data removed]",
      "text/plain": [
       "<Figure size 432x288 with 1 Axes>"
      ]
     },
     "metadata": {
      "needs_background": "light"
     },
     "output_type": "display_data"
    },
    {
     "name": "stderr",
     "output_type": "stream",
     "text": [
      "Clipping input data to the valid range for imshow with RGB data ([0..1] for floats or [0..255] for integers).\n"
     ]
    },
    {
     "name": "stdout",
     "output_type": "stream",
     "text": [
      "./npy_imgs/original_0_119_9.npy\n"
     ]
    },
    {
     "data": {
      "image/png": "[encoded data removed]",
      "text/plain": [
       "<Figure size 432x288 with 1 Axes>"
      ]
     },
     "metadata": {
      "needs_background": "light"
     },
     "output_type": "display_data"
    },
    {
     "name": "stderr",
     "output_type": "stream",
     "text": [
      "Clipping input data to the valid range for imshow with RGB data ([0..1] for floats or [0..255] for integers).\n"
     ]
    },
    {
     "name": "stdout",
     "output_type": "stream",
     "text": [
      "./npy_imgs/original_0_120_9.npy\n"
     ]
    },
    {
     "data": {
      "image/png": "[encoded data removed]",
      "text/plain": [
       "<Figure size 432x288 with 1 Axes>"
      ]
     },
     "metadata": {
      "needs_background": "light"
     },
     "output_type": "display_data"
    },
    {
     "name": "stderr",
     "output_type": "stream",
     "text": [
      "Clipping input data to the valid range for imshow with RGB data ([0..1] for floats or [0..255] for integers).\n"
     ]
    },
    {
     "name": "stdout",
     "output_type": "stream",
     "text": [
      "./npy_imgs/original_0_121_9.npy\n"
     ]
    },
    {
     "data": {
      "image/png": "[encoded data removed]",
      "text/plain": [
       "<Figure size 432x288 with 1 Axes>"
      ]
     },
     "metadata": {
      "needs_background": "light"
     },
     "output_type": "display_data"
    },
    {
     "name": "stderr",
     "output_type": "stream",
     "text": [
      "Clipping input data to the valid range for imshow with RGB data ([0..1] for floats or [0..255] for integers).\n"
     ]
    },
    {
     "name": "stdout",
     "output_type": "stream",
     "text": [
      "./npy_imgs/original_0_122_9.npy\n"
     ]
    },
    {
     "data": {
      "image/png": "[encoded data removed]",
      "text/plain": [
       "<Figure size 432x288 with 1 Axes>"
      ]
     },
     "metadata": {
      "needs_background": "light"
     },
     "output_type": "display_data"
    },
    {
     "name": "stderr",
     "output_type": "stream",
     "text": [
      "Clipping input data to the valid range for imshow with RGB data ([0..1] for floats or [0..255] for integers).\n"
     ]
    },
    {
     "name": "stdout",
     "output_type": "stream",
     "text": [
      "./npy_imgs/original_0_123_9.npy\n"
     ]
    },
    {
     "data": {
      "image/png": "[encoded data removed]",
      "text/plain": [
       "<Figure size 432x288 with 1 Axes>"
      ]
     },
     "metadata": {
      "needs_background": "light"
     },
     "output_type": "display_data"
    },
    {
     "name": "stderr",
     "output_type": "stream",
     "text": [
      "Clipping input data to the valid range for imshow with RGB data ([0..1] for floats or [0..255] for integers).\n"
     ]
    },
    {
     "name": "stdout",
     "output_type": "stream",
     "text": [
      "./npy_imgs/original_0_124_9.npy\n"
     ]
    },
    {
     "data": {
      "image/png": "[encoded data removed]",
      "text/plain": [
       "<Figure size 432x288 with 1 Axes>"
      ]
     },
     "metadata": {
      "needs_background": "light"
     },
     "output_type": "display_data"
    },
    {
     "name": "stderr",
     "output_type": "stream",
     "text": [
      "Clipping input data to the valid range for imshow with RGB data ([0..1] for floats or [0..255] for integers).\n"
     ]
    },
    {
     "name": "stdout",
     "output_type": "stream",
     "text": [
      "./npy_imgs/original_0_125_9.npy\n"
     ]
    },
    {
     "data": {
      "image/png": "[encoded data removed]",
      "text/plain": [
       "<Figure size 432x288 with 1 Axes>"
      ]
     },
     "metadata": {
      "needs_background": "light"
     },
     "output_type": "display_data"
    },
    {
     "name": "stderr",
     "output_type": "stream",
     "text": [
      "Clipping input data to the valid range for imshow with RGB data ([0..1] for floats or [0..255] for integers).\n"
     ]
    },
    {
     "name": "stdout",
     "output_type": "stream",
     "text": [
      "./npy_imgs/original_0_126_9.npy\n"
     ]
    },
    {
     "data": {
      "image/png": "[encoded data removed]",
      "text/plain": [
       "<Figure size 432x288 with 1 Axes>"
      ]
     },
     "metadata": {
      "needs_background": "light"
     },
     "output_type": "display_data"
    },
    {
     "name": "stderr",
     "output_type": "stream",
     "text": [
      "Clipping input data to the valid range for imshow with RGB data ([0..1] for floats or [0..255] for integers).\n"
     ]
    },
    {
     "name": "stdout",
     "output_type": "stream",
     "text": [
      "./npy_imgs/original_0_127_9.npy\n"
     ]
    },
    {
     "data": {
      "image/png": "[encoded data removed]",
      "text/plain": [
       "<Figure size 432x288 with 1 Axes>"
      ]
     },
     "metadata": {
      "needs_background": "light"
     },
     "output_type": "display_data"
    }
   ],
   "source": [
    "for batch, (data, target) in enumerate(troj_test_loader):\n",
    "    print(len(data))\n",
    "    for j in range(len(data)):\n",
    "#         if target[j].item() == 3:\n",
    "        print(\"./npy_imgs/original_\" + str(batch) + \"_\" + str(j) + \"_\" + str(target[j].item()) + \".npy\")\n",
    "        img = np.transpose(data[j],(1,2,0))\n",
    "        np.save(\"./npy_imgs/original_\" + str(batch) + \"_\" + str(j) + \"_\" + str(target[j].item()) + \".npy\", data[j])\n",
    "#         im = Image.fromarray(img.numpy(),'RGB')\n",
    "#         im.save(\"./cLRP_img/original_\" + str(batch) + \"_\" + str(j) + \"_\" + str(target[j].item()) + \".jpg\")\n",
    "        plt.imshow(img)\n",
    "        plt.show()\n",
    "    break"
   ]
  },
  {
   "cell_type": "markdown",
   "id": "0c6b2658",
   "metadata": {},
   "source": [
    "## Train method"
   ]
  },
  {
   "cell_type": "code",
   "execution_count": 10,
   "id": "334ceb45",
   "metadata": {},
   "outputs": [
    {
     "name": "stdout",
     "output_type": "stream",
     "text": [
      "training on:  cuda\n"
     ]
    }
   ],
   "source": [
    "from sklearn.datasets import load_digits\n",
    "from sklearn.manifold import Isomap\n",
    "from sklearn.decomposition import PCA\n",
    "\n",
    "print('training on: ', device)\n",
    "def test(loader, net):\n",
    "    net.eval()\n",
    "    acc = 0.0\n",
    "    sum = 0.0\n",
    "    loss_sum = 0\n",
    "    for batch, (data, target) in enumerate(loader):\n",
    "        data, target = data.to(device), target.to(device)\n",
    "        output = net(data)\n",
    "        loss = criterion(output, target)\n",
    "        loss_sum += loss.item()\n",
    "        _, predicted = output.max(1)\n",
    "        sum += target.size(0)\n",
    "        acc += predicted.eq(target).sum().item()\n",
    "        # acc += torch.sum(torch.argmax(output, dim=1) == target).item()\n",
    "        # sum += len(target)\n",
    "        # loss_sum += loss.item()\n",
    "    print('test  acc: %.2f%%, loss: %.4f' % (100 * acc / sum, loss_sum / (batch + 1)))\n",
    "    return 100 * acc / sum, loss_sum / (batch + 1)\n",
    "    \n",
    "def test_with_scatter(loader, net, scatter_root_dir,epoch):\n",
    "    net.eval()\n",
    "    acc = 0.0\n",
    "    sum = 0.0\n",
    "    loss_sum = 0\n",
    "    marker = ['o', '.', ',', 'x', '+', 'v', '^', '<', '>', 's', 'd']\n",
    "    for batch, (data, target) in enumerate(loader):\n",
    "        data, target = data.to(device), target.to(device)\n",
    "        output = net(data)\n",
    "        if batch == 0:\n",
    "            for layer_id in intermediate_result:\n",
    "                flatten_data = torch.flatten(intermediate_result[layer_id],start_dim=1).detach().cpu().numpy()\n",
    "#                 embedding = PCA(n_components=2)   \n",
    "                embedding = Isomap(n_components=2,n_neighbors = 40)\n",
    "                X_transformed = embedding.fit_transform(flatten_data)\n",
    "                xmax =  max(X_transformed[:,0])\n",
    "                xmin =  min(X_transformed[:,0])\n",
    "                ymax =  max(X_transformed[:,1])\n",
    "                ymin =  min(X_transformed[:,1])\n",
    "                for i in range(10):\n",
    "\n",
    "                    index_pos = np.where(target.detach().cpu().numpy() == i)\n",
    "                    plt.plot(X_transformed[index_pos][:,0], X_transformed[index_pos][:,1], marker[i], label=\"marker='{0}'\".format(i))\n",
    "                plt.legend(numpoints=1)\n",
    "                plt.xlim(xmin, xmax)\n",
    "                plt.ylim(ymin, ymax)\n",
    "                plt.savefig(os.path.join(scatter_root_dir, \"epoch_\" + str(epoch) + \"_layer_\" + str(layer_id) + \".jpg\"))  #输入地址，并利用format函数修改图片名称\n",
    "                plt.clf() #需要重新更新画布，否则会出现同一张画布上绘制多张图片\n",
    "\n",
    "        loss = criterion(output, target)\n",
    "        loss_sum += loss.item()\n",
    "        _, predicted = output.max(1)\n",
    "        sum += target.size(0)\n",
    "        acc += predicted.eq(target).sum().item()\n",
    "        # acc += torch.sum(torch.argmax(output, dim=1) == target).item()\n",
    "        # sum += len(target)\n",
    "        # loss_sum += loss.item()\n",
    "    print('test  acc: %.2f%%, loss: %.4f' % (100 * acc / sum, loss_sum / (batch + 1)))\n",
    "    \n",
    "\n",
    "    \n",
    "def train(loader,net,training_type):\n",
    "    net.train()\n",
    "    acc = 0.0\n",
    "    sum = 0.0\n",
    "    loss_sum = 0\n",
    "\n",
    "    optimizer = torch.optim.SGD(net.parameters(), lr=learning_rate, momentum=0.9, weight_decay=5e-4)\n",
    "    for batch, (data, target) in enumerate(loader):\n",
    "        data, target = data.to(device), target.to(device)\n",
    "\n",
    "        optimizer.zero_grad()\n",
    "        output = net(data)\n",
    "        loss = criterion(output, target)\n",
    "        loss.backward()\n",
    "        optimizer.step()\n",
    "\n",
    "        loss_sum += loss.item()\n",
    "        _, predicted = output.max(1)\n",
    "        sum += target.size(0)\n",
    "        acc += predicted.eq(target).sum().item()\n",
    "\n",
    "        # acc += torch.sum(torch.argmax(output, dim=1) == target).item()\n",
    "        # sum += len(target)\n",
    "        # loss_sum += loss.item()\n",
    "\n",
    "        if batch % 200 == 0:\n",
    "            print('\\tbatch: %d, loss: %.4f' % (batch, loss.item()))\n",
    "    print('train acc: %.2f%%, loss: %.4f' % (100 * acc / sum, loss_sum / (batch + 1)))\n",
    "    torch.save({\n",
    "            'model_state_dict': net.state_dict(),\n",
    "            'optimizer_state_dict': optimizer.state_dict(),\n",
    "            'loss': loss,\n",
    "            }, \"models/\" + str(training_type) + \"_checkpoint.pth\")\n",
    "    \n",
    "\n",
    "    \n",
    "def shuffle_train(loader,net,training_type):\n",
    "    net.train()\n",
    "    acc = 0.0\n",
    "    sum = 0.0\n",
    "    loss_sum = 0\n",
    "\n",
    "    optimizer = torch.optim.SGD(net.parameters(), lr=learning_rate, momentum=0.9, weight_decay=5e-4)\n",
    "    for batch, (data, target) in enumerate(loader):\n",
    "        data = torch.rand(data.shape)*(max(data.flatten())-min(data.flatten()))-(max(data.flatten())-min(data.flatten()))/2\n",
    "        data, target = data.to(device), target.to(device)\n",
    "        \n",
    "        optimizer.zero_grad()\n",
    "        output = net(data)\n",
    "        loss = criterion(output, target)\n",
    "        loss.backward()\n",
    "        optimizer.step()\n",
    "\n",
    "        loss_sum += loss.item()\n",
    "        _, predicted = output.max(1)\n",
    "        sum += target.size(0)\n",
    "        acc += predicted.eq(target).sum().item()\n",
    "\n",
    "        # acc += torch.sum(torch.argmax(output, dim=1) == target).item()\n",
    "        # sum += len(target)\n",
    "        # loss_sum += loss.item()\n",
    "\n",
    "        if batch % 200 == 0:\n",
    "            print('\\tbatch: %d, loss: %.4f' % (batch, loss.item()))\n",
    "    print('train acc: %.2f%%, loss: %.4f' % (100 * acc / sum, loss_sum / (batch + 1)))\n",
    "#     torch.save({\n",
    "#             'model_state_dict': net.state_dict(),\n",
    "#             'optimizer_state_dict': optimizer.state_dict(),\n",
    "#             'loss': loss,\n",
    "#             }, \"models/\" + str(training_type) + \"_checkpoint.pth\")\n",
    "    \n",
    "\n"
   ]
  },
  {
   "cell_type": "markdown",
   "id": "f92402ba",
   "metadata": {},
   "source": [
    "## train"
   ]
  },
  {
   "cell_type": "code",
   "execution_count": 11,
   "id": "a79ee6aa",
   "metadata": {},
   "outputs": [
    {
     "name": "stdout",
     "output_type": "stream",
     "text": [
      "epoch: 0\n",
      "trojan train\n",
      "\tbatch: 0, loss: 2.5374\n",
      "\tbatch: 200, loss: 1.1564\n",
      "\tbatch: 400, loss: 0.9619\n",
      "train acc: 57.77%, loss: 1.1664\n",
      "troj test\n",
      "test  acc: 95.54%, loss: 0.1298\n",
      "testset test\n",
      "test  acc: 62.55%, loss: 1.0355\n",
      "epoch: 1\n",
      "trojan train\n",
      "\tbatch: 0, loss: 0.8793\n",
      "\tbatch: 200, loss: 0.6832\n",
      "\tbatch: 400, loss: 0.6769\n",
      "train acc: 72.92%, loss: 0.7599\n",
      "troj test\n",
      "test  acc: 96.47%, loss: 0.0921\n",
      "testset test\n",
      "test  acc: 69.62%, loss: 0.8570\n",
      "epoch: 2\n",
      "trojan train\n",
      "\tbatch: 0, loss: 0.7725\n",
      "\tbatch: 200, loss: 0.8564\n",
      "\tbatch: 400, loss: 0.4994\n",
      "train acc: 78.69%, loss: 0.6084\n",
      "troj test\n",
      "test  acc: 96.21%, loss: 0.1220\n",
      "testset test\n",
      "test  acc: 72.99%, loss: 0.7710\n",
      "epoch: 3\n",
      "trojan train\n",
      "\tbatch: 0, loss: 0.5356\n",
      "\tbatch: 200, loss: 0.6279\n",
      "\tbatch: 400, loss: 0.4013\n",
      "train acc: 82.08%, loss: 0.5189\n",
      "troj test\n",
      "test  acc: 93.85%, loss: 0.1919\n",
      "testset test\n",
      "test  acc: 77.22%, loss: 0.6579\n",
      "epoch: 4\n",
      "trojan train\n",
      "\tbatch: 0, loss: 0.5818\n",
      "\tbatch: 200, loss: 0.5672\n",
      "\tbatch: 400, loss: 0.4245\n",
      "train acc: 84.00%, loss: 0.4652\n",
      "troj test\n",
      "test  acc: 95.38%, loss: 0.1219\n",
      "testset test\n",
      "test  acc: 72.44%, loss: 0.8605\n",
      "epoch: 5\n",
      "trojan train\n",
      "\tbatch: 0, loss: 0.4892\n",
      "\tbatch: 200, loss: 0.2238\n",
      "\tbatch: 400, loss: 0.3274\n",
      "train acc: 85.39%, loss: 0.4190\n",
      "troj test\n",
      "test  acc: 96.57%, loss: 0.0963\n",
      "testset test\n",
      "test  acc: 80.23%, loss: 0.5855\n",
      "epoch: 6\n",
      "trojan train\n",
      "\tbatch: 0, loss: 0.4814\n",
      "\tbatch: 200, loss: 0.2449\n",
      "\tbatch: 400, loss: 0.4832\n",
      "train acc: 86.74%, loss: 0.3810\n",
      "troj test\n",
      "test  acc: 95.61%, loss: 0.1209\n",
      "testset test\n",
      "test  acc: 82.89%, loss: 0.5002\n",
      "epoch: 7\n",
      "trojan train\n",
      "\tbatch: 0, loss: 0.2506\n",
      "\tbatch: 200, loss: 0.4646\n",
      "\tbatch: 400, loss: 0.2272\n",
      "train acc: 87.77%, loss: 0.3536\n",
      "troj test\n",
      "test  acc: 96.91%, loss: 0.0839\n",
      "testset test\n",
      "test  acc: 80.24%, loss: 0.5886\n",
      "epoch: 8\n",
      "trojan train\n",
      "\tbatch: 0, loss: 0.4404\n",
      "\tbatch: 200, loss: 0.1898\n",
      "\tbatch: 400, loss: 0.3402\n",
      "train acc: 88.63%, loss: 0.3258\n",
      "troj test\n",
      "test  acc: 97.59%, loss: 0.0607\n",
      "testset test\n",
      "test  acc: 82.82%, loss: 0.5124\n",
      "epoch: 9\n",
      "trojan train\n",
      "\tbatch: 0, loss: 0.4413\n",
      "\tbatch: 200, loss: 0.2628\n",
      "\tbatch: 400, loss: 0.3186\n",
      "train acc: 89.29%, loss: 0.3065\n",
      "troj test\n",
      "test  acc: 95.96%, loss: 0.1142\n",
      "testset test\n",
      "test  acc: 84.53%, loss: 0.4588\n",
      "epoch: 10\n",
      "trojan train\n",
      "\tbatch: 0, loss: 0.3850\n",
      "\tbatch: 200, loss: 0.4107\n",
      "\tbatch: 400, loss: 0.2541\n",
      "train acc: 89.88%, loss: 0.2909\n",
      "troj test\n",
      "test  acc: 96.67%, loss: 0.0866\n",
      "testset test\n",
      "test  acc: 85.08%, loss: 0.4398\n",
      "epoch: 11\n",
      "trojan train\n",
      "\tbatch: 0, loss: 0.2891\n",
      "\tbatch: 200, loss: 0.4770\n",
      "\tbatch: 400, loss: 0.3379\n",
      "train acc: 90.62%, loss: 0.2712\n",
      "troj test\n",
      "test  acc: 96.90%, loss: 0.0829\n",
      "testset test\n",
      "test  acc: 85.23%, loss: 0.4621\n",
      "epoch: 12\n",
      "trojan train\n",
      "\tbatch: 0, loss: 0.1530\n",
      "\tbatch: 200, loss: 0.1892\n",
      "\tbatch: 400, loss: 0.1380\n",
      "train acc: 90.99%, loss: 0.2600\n",
      "troj test\n",
      "test  acc: 96.87%, loss: 0.0728\n",
      "testset test\n",
      "test  acc: 85.67%, loss: 0.4314\n",
      "epoch: 13\n",
      "trojan train\n",
      "\tbatch: 0, loss: 0.2709\n",
      "\tbatch: 200, loss: 0.2808\n",
      "\tbatch: 400, loss: 0.2355\n",
      "train acc: 91.47%, loss: 0.2440\n",
      "troj test\n",
      "test  acc: 96.38%, loss: 0.0975\n",
      "testset test\n",
      "test  acc: 86.58%, loss: 0.4133\n",
      "epoch: 14\n",
      "trojan train\n",
      "\tbatch: 0, loss: 0.1867\n",
      "\tbatch: 200, loss: 0.3722\n",
      "\tbatch: 400, loss: 0.2258\n",
      "train acc: 92.07%, loss: 0.2292\n",
      "troj test\n",
      "test  acc: 96.68%, loss: 0.0824\n",
      "testset test\n",
      "test  acc: 86.64%, loss: 0.4198\n",
      "epoch: 15\n",
      "trojan train\n",
      "\tbatch: 0, loss: 0.1200\n",
      "\tbatch: 200, loss: 0.1329\n",
      "\tbatch: 400, loss: 0.2180\n",
      "train acc: 92.33%, loss: 0.2195\n",
      "troj test\n",
      "test  acc: 96.94%, loss: 0.0785\n",
      "testset test\n",
      "test  acc: 85.99%, loss: 0.4262\n",
      "epoch: 16\n",
      "trojan train\n",
      "\tbatch: 0, loss: 0.1229\n",
      "\tbatch: 200, loss: 0.1673\n",
      "\tbatch: 400, loss: 0.2813\n",
      "train acc: 92.57%, loss: 0.2105\n",
      "troj test\n",
      "test  acc: 97.26%, loss: 0.0615\n",
      "testset test\n",
      "test  acc: 84.83%, loss: 0.5077\n",
      "epoch: 17\n",
      "trojan train\n",
      "\tbatch: 0, loss: 0.1229\n",
      "\tbatch: 200, loss: 0.1391\n",
      "\tbatch: 400, loss: 0.3107\n",
      "train acc: 93.14%, loss: 0.1987\n",
      "troj test\n",
      "test  acc: 96.67%, loss: 0.0901\n",
      "testset test\n",
      "test  acc: 86.69%, loss: 0.4177\n",
      "epoch: 18\n",
      "trojan train\n",
      "\tbatch: 0, loss: 0.1642\n",
      "\tbatch: 200, loss: 0.2312\n",
      "\tbatch: 400, loss: 0.1061\n",
      "train acc: 93.44%, loss: 0.1895\n",
      "troj test\n",
      "test  acc: 97.31%, loss: 0.0644\n",
      "testset test\n",
      "test  acc: 86.44%, loss: 0.4319\n",
      "epoch: 19\n",
      "trojan train\n",
      "\tbatch: 0, loss: 0.1428\n",
      "\tbatch: 200, loss: 0.2497\n",
      "\tbatch: 400, loss: 0.2436\n",
      "train acc: 93.62%, loss: 0.1826\n",
      "troj test\n",
      "test  acc: 97.40%, loss: 0.0576\n",
      "testset test\n",
      "test  acc: 87.43%, loss: 0.4059\n",
      "epoch: 20\n",
      "trojan train\n",
      "\tbatch: 0, loss: 0.1601\n",
      "\tbatch: 200, loss: 0.1825\n",
      "\tbatch: 400, loss: 0.1441\n",
      "train acc: 93.82%, loss: 0.1761\n",
      "troj test\n",
      "test  acc: 97.12%, loss: 0.0761\n",
      "testset test\n",
      "test  acc: 87.09%, loss: 0.4103\n",
      "epoch: 21\n",
      "trojan train\n",
      "\tbatch: 0, loss: 0.1355\n",
      "\tbatch: 200, loss: 0.1054\n",
      "\tbatch: 400, loss: 0.1766\n",
      "train acc: 93.84%, loss: 0.1718\n",
      "troj test\n",
      "test  acc: 96.16%, loss: 0.1421\n",
      "testset test\n",
      "test  acc: 84.47%, loss: 0.4928\n",
      "epoch: 22\n",
      "trojan train\n",
      "\tbatch: 0, loss: 0.1522\n",
      "\tbatch: 200, loss: 0.2809\n",
      "\tbatch: 400, loss: 0.1801\n",
      "train acc: 94.28%, loss: 0.1628\n",
      "troj test\n",
      "test  acc: 96.52%, loss: 0.1118\n",
      "testset test\n",
      "test  acc: 87.71%, loss: 0.3905\n",
      "epoch: 23\n",
      "trojan train\n",
      "\tbatch: 0, loss: 0.1035\n",
      "\tbatch: 200, loss: 0.2321\n",
      "\tbatch: 400, loss: 0.2283\n",
      "train acc: 94.52%, loss: 0.1550\n",
      "troj test\n",
      "test  acc: 97.11%, loss: 0.0811\n",
      "testset test\n",
      "test  acc: 88.88%, loss: 0.3792\n",
      "epoch: 24\n",
      "trojan train\n",
      "\tbatch: 0, loss: 0.2628\n",
      "\tbatch: 200, loss: 0.1307\n",
      "\tbatch: 400, loss: 0.2059\n",
      "train acc: 94.68%, loss: 0.1504\n",
      "troj test\n",
      "test  acc: 97.27%, loss: 0.0690\n",
      "testset test\n",
      "test  acc: 88.09%, loss: 0.3891\n",
      "epoch: 25\n",
      "trojan train\n",
      "\tbatch: 0, loss: 0.0908\n",
      "\tbatch: 200, loss: 0.2004\n",
      "\tbatch: 400, loss: 0.1833\n",
      "train acc: 94.92%, loss: 0.1437\n",
      "troj test\n",
      "test  acc: 96.78%, loss: 0.0808\n",
      "testset test\n",
      "test  acc: 88.25%, loss: 0.4037\n",
      "epoch: 26\n",
      "trojan train\n",
      "\tbatch: 0, loss: 0.1118\n",
      "\tbatch: 200, loss: 0.1138\n",
      "\tbatch: 400, loss: 0.2466\n",
      "train acc: 95.06%, loss: 0.1409\n",
      "troj test\n",
      "test  acc: 97.09%, loss: 0.0712\n",
      "testset test\n",
      "test  acc: 88.43%, loss: 0.3821\n",
      "epoch: 27\n",
      "trojan train\n",
      "\tbatch: 0, loss: 0.1431\n",
      "\tbatch: 200, loss: 0.2461\n",
      "\tbatch: 400, loss: 0.0907\n",
      "train acc: 95.30%, loss: 0.1330\n",
      "troj test\n",
      "test  acc: 96.85%, loss: 0.1111\n",
      "testset test\n",
      "test  acc: 88.71%, loss: 0.3647\n",
      "epoch: 28\n",
      "trojan train\n",
      "\tbatch: 0, loss: 0.0739\n",
      "\tbatch: 200, loss: 0.2171\n",
      "\tbatch: 400, loss: 0.1236\n",
      "train acc: 95.51%, loss: 0.1262\n",
      "troj test\n",
      "test  acc: 97.11%, loss: 0.0783\n",
      "testset test\n",
      "test  acc: 88.02%, loss: 0.4224\n",
      "epoch: 29\n",
      "trojan train\n",
      "\tbatch: 0, loss: 0.0993\n",
      "\tbatch: 200, loss: 0.1137\n",
      "\tbatch: 400, loss: 0.1145\n",
      "train acc: 95.50%, loss: 0.1267\n",
      "troj test\n",
      "test  acc: 97.36%, loss: 0.0717\n",
      "testset test\n",
      "test  acc: 88.37%, loss: 0.3987\n",
      "epoch: 30\n",
      "trojan train\n",
      "\tbatch: 0, loss: 0.0951\n",
      "\tbatch: 200, loss: 0.1137\n",
      "\tbatch: 400, loss: 0.1343\n",
      "train acc: 95.71%, loss: 0.1203\n",
      "troj test\n",
      "test  acc: 97.34%, loss: 0.0656\n",
      "testset test\n",
      "test  acc: 88.18%, loss: 0.4000\n",
      "epoch: 31\n",
      "trojan train\n",
      "\tbatch: 0, loss: 0.0666\n",
      "\tbatch: 200, loss: 0.1111\n",
      "\tbatch: 400, loss: 0.0862\n",
      "train acc: 95.81%, loss: 0.1188\n",
      "troj test\n",
      "test  acc: 96.91%, loss: 0.0982\n",
      "testset test\n",
      "test  acc: 88.40%, loss: 0.3904\n",
      "epoch: 32\n",
      "trojan train\n",
      "\tbatch: 0, loss: 0.1518\n",
      "\tbatch: 200, loss: 0.2000\n",
      "\tbatch: 400, loss: 0.1039\n",
      "train acc: 95.86%, loss: 0.1158\n",
      "troj test\n",
      "test  acc: 97.32%, loss: 0.0694\n",
      "testset test\n",
      "test  acc: 88.82%, loss: 0.3825\n",
      "epoch: 33\n",
      "trojan train\n",
      "\tbatch: 0, loss: 0.1112\n",
      "\tbatch: 200, loss: 0.0618\n",
      "\tbatch: 400, loss: 0.1497\n",
      "train acc: 96.09%, loss: 0.1108\n",
      "troj test\n",
      "test  acc: 96.74%, loss: 0.0864\n",
      "testset test\n",
      "test  acc: 87.96%, loss: 0.4094\n",
      "epoch: 34\n",
      "trojan train\n",
      "\tbatch: 0, loss: 0.1655\n",
      "\tbatch: 200, loss: 0.0478\n",
      "\tbatch: 400, loss: 0.1407\n",
      "train acc: 96.12%, loss: 0.1085\n",
      "troj test\n",
      "test  acc: 97.45%, loss: 0.0608\n",
      "testset test\n",
      "test  acc: 89.00%, loss: 0.3893\n",
      "epoch: 35\n",
      "trojan train\n",
      "\tbatch: 0, loss: 0.0947\n",
      "\tbatch: 200, loss: 0.0663\n",
      "\tbatch: 400, loss: 0.1911\n",
      "train acc: 96.26%, loss: 0.1051\n",
      "troj test\n",
      "test  acc: 96.65%, loss: 0.0986\n",
      "testset test\n",
      "test  acc: 88.82%, loss: 0.3886\n",
      "epoch: 36\n",
      "trojan train\n",
      "\tbatch: 0, loss: 0.0766\n",
      "\tbatch: 200, loss: 0.0980\n",
      "\tbatch: 400, loss: 0.0756\n",
      "train acc: 96.51%, loss: 0.0975\n",
      "troj test\n",
      "test  acc: 96.19%, loss: 0.1009\n",
      "testset test\n",
      "test  acc: 88.91%, loss: 0.3994\n",
      "epoch: 37\n",
      "trojan train\n",
      "\tbatch: 0, loss: 0.1227\n",
      "\tbatch: 200, loss: 0.1362\n",
      "\tbatch: 400, loss: 0.0695\n",
      "train acc: 96.44%, loss: 0.0994\n",
      "troj test\n"
     ]
    },
    {
     "name": "stdout",
     "output_type": "stream",
     "text": [
      "test  acc: 97.74%, loss: 0.0488\n",
      "testset test\n",
      "test  acc: 88.29%, loss: 0.4068\n",
      "epoch: 38\n",
      "trojan train\n",
      "\tbatch: 0, loss: 0.1450\n",
      "\tbatch: 200, loss: 0.0892\n",
      "\tbatch: 400, loss: 0.1056\n",
      "train acc: 96.54%, loss: 0.0975\n",
      "troj test\n",
      "test  acc: 98.00%, loss: 0.0362\n",
      "testset test\n",
      "test  acc: 86.90%, loss: 0.4709\n",
      "epoch: 39\n",
      "trojan train\n",
      "\tbatch: 0, loss: 0.0499\n",
      "\tbatch: 200, loss: 0.0799\n",
      "\tbatch: 400, loss: 0.0848\n",
      "train acc: 96.64%, loss: 0.0945\n",
      "troj test\n",
      "test  acc: 97.67%, loss: 0.0560\n",
      "testset test\n",
      "test  acc: 89.25%, loss: 0.3810\n",
      "epoch: 40\n",
      "trojan train\n",
      "\tbatch: 0, loss: 0.1325\n",
      "\tbatch: 200, loss: 0.0655\n",
      "\tbatch: 400, loss: 0.0223\n",
      "train acc: 96.72%, loss: 0.0924\n",
      "troj test\n",
      "test  acc: 97.69%, loss: 0.0495\n",
      "testset test\n",
      "test  acc: 88.92%, loss: 0.3877\n",
      "epoch: 41\n",
      "trojan train\n",
      "\tbatch: 0, loss: 0.0929\n",
      "\tbatch: 200, loss: 0.1444\n",
      "\tbatch: 400, loss: 0.0635\n",
      "train acc: 96.81%, loss: 0.0901\n",
      "troj test\n",
      "test  acc: 97.19%, loss: 0.0724\n",
      "testset test\n",
      "test  acc: 89.76%, loss: 0.3638\n",
      "epoch: 42\n",
      "trojan train\n",
      "\tbatch: 0, loss: 0.1375\n",
      "\tbatch: 200, loss: 0.0847\n",
      "\tbatch: 400, loss: 0.0865\n",
      "train acc: 96.91%, loss: 0.0862\n",
      "troj test\n",
      "test  acc: 96.70%, loss: 0.1141\n",
      "testset test\n",
      "test  acc: 88.46%, loss: 0.4281\n",
      "epoch: 43\n",
      "trojan train\n",
      "\tbatch: 0, loss: 0.0417\n",
      "\tbatch: 200, loss: 0.0517\n",
      "\tbatch: 400, loss: 0.0676\n",
      "train acc: 96.85%, loss: 0.0879\n",
      "troj test\n",
      "test  acc: 96.95%, loss: 0.1143\n",
      "testset test\n",
      "test  acc: 89.25%, loss: 0.3928\n",
      "epoch: 44\n",
      "trojan train\n",
      "\tbatch: 0, loss: 0.1265\n",
      "\tbatch: 200, loss: 0.0797\n",
      "\tbatch: 400, loss: 0.1731\n",
      "train acc: 96.96%, loss: 0.0848\n",
      "troj test\n",
      "test  acc: 97.39%, loss: 0.0674\n",
      "testset test\n",
      "test  acc: 88.48%, loss: 0.4250\n",
      "epoch: 45\n",
      "trojan train\n",
      "\tbatch: 0, loss: 0.1034\n",
      "\tbatch: 200, loss: 0.0348\n",
      "\tbatch: 400, loss: 0.0792\n",
      "train acc: 96.90%, loss: 0.0865\n",
      "troj test\n",
      "test  acc: 98.11%, loss: 0.0374\n",
      "testset test\n",
      "test  acc: 88.79%, loss: 0.3899\n",
      "epoch: 46\n",
      "trojan train\n",
      "\tbatch: 0, loss: 0.0844\n",
      "\tbatch: 200, loss: 0.0811\n",
      "\tbatch: 400, loss: 0.0678\n",
      "train acc: 97.19%, loss: 0.0786\n",
      "troj test\n",
      "test  acc: 98.08%, loss: 0.0381\n",
      "testset test\n",
      "test  acc: 86.90%, loss: 0.4819\n",
      "epoch: 47\n",
      "trojan train\n",
      "\tbatch: 0, loss: 0.1258\n",
      "\tbatch: 200, loss: 0.0745\n",
      "\tbatch: 400, loss: 0.0853\n",
      "train acc: 97.15%, loss: 0.0823\n",
      "troj test\n",
      "test  acc: 97.70%, loss: 0.0566\n",
      "testset test\n",
      "test  acc: 88.78%, loss: 0.4052\n",
      "epoch: 48\n",
      "trojan train\n",
      "\tbatch: 0, loss: 0.0615\n",
      "\tbatch: 200, loss: 0.0765\n",
      "\tbatch: 400, loss: 0.0641\n",
      "train acc: 97.37%, loss: 0.0751\n",
      "troj test\n",
      "test  acc: 97.31%, loss: 0.0787\n",
      "testset test\n",
      "test  acc: 89.72%, loss: 0.3831\n",
      "epoch: 49\n",
      "trojan train\n",
      "\tbatch: 0, loss: 0.0476\n",
      "\tbatch: 200, loss: 0.0782\n",
      "\tbatch: 400, loss: 0.0913\n",
      "train acc: 97.23%, loss: 0.0773\n",
      "troj test\n",
      "test  acc: 97.48%, loss: 0.0707\n",
      "testset test\n",
      "test  acc: 88.48%, loss: 0.4280\n",
      "epoch: 50\n",
      "trojan train\n",
      "\tbatch: 0, loss: 0.0745\n",
      "\tbatch: 200, loss: 0.1023\n",
      "\tbatch: 400, loss: 0.0706\n",
      "train acc: 97.35%, loss: 0.0737\n",
      "troj test\n",
      "test  acc: 97.47%, loss: 0.0830\n",
      "testset test\n",
      "test  acc: 89.93%, loss: 0.3698\n",
      "epoch: 51\n",
      "trojan train\n",
      "\tbatch: 0, loss: 0.0782\n",
      "\tbatch: 200, loss: 0.0730\n",
      "\tbatch: 400, loss: 0.0773\n",
      "train acc: 97.22%, loss: 0.0772\n",
      "troj test\n",
      "test  acc: 97.77%, loss: 0.0486\n",
      "testset test\n",
      "test  acc: 88.15%, loss: 0.4602\n",
      "epoch: 52\n",
      "trojan train\n",
      "\tbatch: 0, loss: 0.0921\n",
      "\tbatch: 200, loss: 0.0568\n",
      "\tbatch: 400, loss: 0.0896\n",
      "train acc: 97.41%, loss: 0.0748\n",
      "troj test\n",
      "test  acc: 97.86%, loss: 0.0487\n",
      "testset test\n",
      "test  acc: 89.25%, loss: 0.3869\n",
      "epoch: 53\n",
      "trojan train\n",
      "\tbatch: 0, loss: 0.0334\n",
      "\tbatch: 200, loss: 0.1003\n",
      "\tbatch: 400, loss: 0.1047\n",
      "train acc: 97.36%, loss: 0.0726\n",
      "troj test\n",
      "test  acc: 97.45%, loss: 0.0808\n",
      "testset test\n",
      "test  acc: 89.36%, loss: 0.4006\n",
      "epoch: 54\n",
      "trojan train\n",
      "\tbatch: 0, loss: 0.0644\n",
      "\tbatch: 200, loss: 0.0595\n",
      "\tbatch: 400, loss: 0.1378\n",
      "train acc: 97.54%, loss: 0.0699\n",
      "troj test\n",
      "test  acc: 97.08%, loss: 0.1012\n",
      "testset test\n",
      "test  acc: 89.67%, loss: 0.3842\n",
      "epoch: 55\n",
      "trojan train\n",
      "\tbatch: 0, loss: 0.0844\n",
      "\tbatch: 200, loss: 0.0439\n",
      "\tbatch: 400, loss: 0.0628\n",
      "train acc: 97.54%, loss: 0.0698\n",
      "troj test\n",
      "test  acc: 97.63%, loss: 0.0570\n",
      "testset test\n",
      "test  acc: 89.48%, loss: 0.4063\n",
      "epoch: 56\n",
      "trojan train\n",
      "\tbatch: 0, loss: 0.0430\n",
      "\tbatch: 200, loss: 0.1011\n",
      "\tbatch: 400, loss: 0.0700\n",
      "train acc: 97.46%, loss: 0.0717\n",
      "troj test\n",
      "test  acc: 96.51%, loss: 0.1386\n",
      "testset test\n",
      "test  acc: 89.34%, loss: 0.4107\n",
      "epoch: 57\n",
      "trojan train\n",
      "\tbatch: 0, loss: 0.0371\n",
      "\tbatch: 200, loss: 0.1164\n",
      "\tbatch: 400, loss: 0.1174\n",
      "train acc: 97.54%, loss: 0.0693\n",
      "troj test\n",
      "test  acc: 97.25%, loss: 0.0691\n",
      "testset test\n",
      "test  acc: 88.98%, loss: 0.4137\n",
      "epoch: 58\n",
      "trojan train\n",
      "\tbatch: 0, loss: 0.0808\n",
      "\tbatch: 200, loss: 0.0719\n",
      "\tbatch: 400, loss: 0.1000\n",
      "train acc: 97.71%, loss: 0.0636\n",
      "troj test\n",
      "test  acc: 97.28%, loss: 0.0849\n",
      "testset test\n",
      "test  acc: 90.04%, loss: 0.3886\n",
      "early stopped at epoch  58\n"
     ]
    }
   ],
   "source": [
    "# load_model = False\n",
    "if load_model == True:\n",
    "    print(\"load_model\")\n",
    "    net = VGG('VGG16').to(device)\n",
    "\n",
    "    optimizer_load = torch.optim.SGD(net.parameters(), lr=learning_rate, momentum=0.9, weight_decay=5e-4)\n",
    "\n",
    "    checkpoint = torch.load('models/troj_train_lots_epoch_checkpoint.pth')\n",
    "    net.load_state_dict(checkpoint['model_state_dict'])\n",
    "    optimizer_load.load_state_dict(checkpoint['optimizer_state_dict'])\n",
    "    loss = checkpoint['loss']\n",
    "    net.eval()\n",
    "    print(\"troj test\")\n",
    "    asr, asr_loss = test(troj_test_loader,net)\n",
    "    print(\"testset test\")\n",
    "    acc, acc_loss = test(test_loader,net)\n",
    "#     net = torch.load('models/troj_train.pkl')\n",
    "\n",
    "\n",
    "else:\n",
    "    for epoch in range(200):\n",
    "        print('epoch: %d' % epoch)\n",
    "        print(\"trojan train\")\n",
    "        train(untrust_train_loader,net,\"troj_train_lots_epoch\")\n",
    "        print(\"troj test\")\n",
    "        asr, asr_loss = test(troj_test_loader,net)\n",
    "        print(\"testset test\")\n",
    "        acc, acc_loss = test(test_loader,net)\n",
    "        if acc >90:\n",
    "            print(\"early stopped at epoch \", epoch)\n",
    "            break\n",
    "#         test_with_scatter(test_loader,net,\"/home/rui/Desktop/code_zone/current_project/forgotten_trigger/40_neibor_isomap_scatter_plot\",epoch)\n",
    "        # scheduler.step()"
   ]
  },
  {
   "cell_type": "markdown",
   "id": "b090d108",
   "metadata": {},
   "source": [
    "## trigger鲁棒性"
   ]
  },
  {
   "cell_type": "code",
   "execution_count": 50,
   "id": "028813ec",
   "metadata": {},
   "outputs": [
    {
     "name": "stdout",
     "output_type": "stream",
     "text": [
      "torch.Size([128, 3, 32, 32])\n",
      "tensor([[-2.2178, -2.2571, -2.2571, -2.2178, -2.2178, -2.3358, -2.2965, -2.1785],\n",
      "        [-2.0998, -2.1391, -2.0998, -2.0211, -2.0605, -2.0998, -2.0605, -2.0211],\n",
      "        [-1.9818, -2.0211,  4.1936,  4.1936,  4.1936,  4.1936, -1.9818, -1.9425],\n",
      "        [-1.8638, -1.9031,  4.1936, -1.8638, -1.8245,  4.1936, -1.8245, -1.8245],\n",
      "        [-1.7851, -1.7851,  4.1936, -1.7458, -1.7458,  4.1936, -1.7458, -1.7458],\n",
      "        [-1.6671, -1.6671,  4.1936,  4.1936,  4.1936,  4.1936, -1.6278, -1.6278],\n",
      "        [-1.3918, -1.4705, -1.4705, -1.5098, -1.5098, -1.5098, -1.5098, -1.5098],\n",
      "        [-1.2738, -1.3918, -1.3918, -1.4705, -1.4311, -1.4311, -1.4311, -1.4311]])\n",
      "tensor([[[[-8.1524e+01, -1.0398e+02, -5.2097e+01,  ..., -2.6889e+01,\n",
      "           -5.1603e+00, -4.9664e+00],\n",
      "          [-2.2662e+01, -3.1986e+01, -9.4164e+01,  ..., -1.7783e+01,\n",
      "           -5.3154e+00, -5.1603e+00],\n",
      "          [-6.6969e+01, -8.3988e+01, -3.0453e+01,  ..., -3.2130e+01,\n",
      "           -5.3541e+00, -5.3154e+00],\n",
      "          ...,\n",
      "          [-7.8127e+00,  5.2906e-01, -5.4335e+01,  ..., -8.7604e+01,\n",
      "            6.9397e-01,  7.7151e-01],\n",
      "          [ 2.1672e+00,  1.9734e+00,  1.9346e+00,  ...,  6.5520e-01,\n",
      "            6.1643e-01,  6.5520e-01],\n",
      "          [ 2.1285e+00,  1.9346e+00,  1.9734e+00,  ...,  8.1028e-01,\n",
      "            8.8782e-01,  7.7151e-01]],\n",
      "\n",
      "         [[-7.9396e+01, -7.8296e+01, -9.7722e+01,  ..., -5.2188e+01,\n",
      "           -5.2465e+00, -4.9318e+00],\n",
      "          [-4.5064e+01, -5.6581e+00, -4.5416e+01,  ..., -8.8139e+01,\n",
      "           -5.3252e+00, -5.0892e+00],\n",
      "          [-7.3879e+01, -1.0062e+01, -3.4771e+01,  ..., -1.1884e+01,\n",
      "           -5.2858e+00, -5.2465e+00],\n",
      "          ...,\n",
      "          [-4.5398e+01, -9.0185e+01, -7.8007e+00,  ..., -6.1844e+01,\n",
      "           -1.2738e+00, -1.1951e+00],\n",
      "          [ 1.4221e-01, -1.5123e-02, -2.1179e-01,  ..., -1.3131e+00,\n",
      "           -1.3525e+00, -1.3131e+00],\n",
      "          [ 1.4221e-01,  1.4221e-01,  1.8154e-01,  ..., -1.0378e+00,\n",
      "           -1.0378e+00, -1.1165e+00]],\n",
      "\n",
      "         [[-8.5140e+01, -7.9333e+01, -1.8796e+01,  ..., -8.3611e+01,\n",
      "           -4.9745e+00, -4.7014e+00],\n",
      "          [-1.8294e+01, -8.3510e+01, -9.7992e+01,  ..., -2.5941e+01,\n",
      "           -5.0916e+00, -4.8965e+00],\n",
      "          [-5.6491e+01, -3.0563e+01, -3.6561e+01,  ..., -1.2723e+01,\n",
      "           -5.0526e+00, -5.0526e+00],\n",
      "          ...,\n",
      "          [-6.1767e+01, -7.3237e+01, -4.3232e+01,  ..., -8.0113e+01,\n",
      "           -2.2431e+00, -2.1651e+00],\n",
      "          [-9.1640e-01, -1.0725e+00, -9.5542e-01,  ..., -2.2821e+00,\n",
      "           -2.3211e+00, -2.2821e+00],\n",
      "          [-8.7738e-01, -9.5542e-01, -8.7738e-01,  ..., -1.9309e+00,\n",
      "           -1.9700e+00, -2.1651e+00]]],\n",
      "\n",
      "\n",
      "        [[[-2.4721e+01, -2.5302e+01, -7.9912e+01,  ..., -1.0985e+00,\n",
      "           -1.1282e+00, -8.9559e-01],\n",
      "          [-6.3923e+01, -4.1636e+01, -4.3643e+01,  ..., -3.6058e+01,\n",
      "           -1.2020e-01, -3.1405e-01],\n",
      "          [-8.6004e+01, -8.8578e+00, -9.3217e+01,  ..., -9.4473e+00,\n",
      "            3.4504e-01,  7.3653e-02],\n",
      "          ...,\n",
      "          [-1.0351e+02, -5.1480e+01, -6.5892e+01,  ..., -2.5823e+01,\n",
      "           -2.5239e+00, -2.2913e+00],\n",
      "          [-4.0747e+00, -4.1523e+00, -4.3073e+00,  ..., -2.3301e+00,\n",
      "           -2.2138e+00, -2.2138e+00],\n",
      "          [-4.3849e+00, -4.3849e+00, -4.2686e+00,  ..., -3.8033e+00,\n",
      "           -3.5707e+00, -2.9504e+00]],\n",
      "\n",
      "         [[-7.4355e+01, -6.3381e+01, -9.6173e+01,  ..., -2.0593e+01,\n",
      "           -4.8713e-01, -2.9046e-01],\n",
      "          [-5.5047e+01, -8.8650e+01, -9.2241e+01,  ..., -3.0042e+01,\n",
      "            3.7821e-01,  1.8154e-01],\n",
      "          [-4.2188e+01, -6.6132e+01, -3.2714e+01,  ..., -4.0216e+00,\n",
      "            7.3222e-01,  4.5688e-01],\n",
      "          ...,\n",
      "          [-8.1826e+01, -6.9903e+01, -8.8117e+01,  ..., -2.0622e+01,\n",
      "           -2.0211e+00, -1.7458e+00],\n",
      "          [-3.7518e+00, -3.8305e+00, -3.9485e+00,  ..., -2.0211e+00,\n",
      "           -1.8245e+00, -1.7851e+00],\n",
      "          [-3.9878e+00, -3.9878e+00, -3.8305e+00,  ..., -3.6338e+00,\n",
      "           -3.2405e+00, -2.6111e+00]],\n",
      "\n",
      "         [[-8.9201e+01, -4.4059e+01, -5.8721e+01,  ..., -5.4928e+01,\n",
      "            1.2297e+00,  1.5419e+00],\n",
      "          [-8.2345e+01, -3.4700e+01, -8.3348e+01,  ..., -6.0490e+01,\n",
      "            1.9321e+00,  1.8541e+00],\n",
      "          [-3.6054e+01, -5.6011e+01, -3.1548e+01,  ..., -5.5016e+01,\n",
      "            2.2052e+00,  2.0492e+00],\n",
      "          ...,\n",
      "          [-8.8543e+01, -8.4267e+01, -9.2888e+01,  ..., -4.4542e+01,\n",
      "           -1.2286e+00, -9.5542e-01],\n",
      "          [-2.6333e+00, -2.7504e+00, -2.8674e+00,  ..., -1.2286e+00,\n",
      "           -1.0335e+00, -9.9444e-01],\n",
      "          [-2.8284e+00, -2.7113e+00, -2.5943e+00,  ..., -2.7504e+00,\n",
      "           -2.4382e+00, -1.8139e+00]]],\n",
      "\n",
      "\n",
      "        [[[-5.8959e-01, -7.6899e+01, -4.5416e+00,  ..., -8.8160e+01,\n",
      "            3.4854e+00,  3.4466e+00],\n",
      "          [-7.9342e+01, -9.4850e+01, -5.8544e+01,  ..., -5.6929e+00,\n",
      "            3.4854e+00,  3.4466e+00],\n",
      "          [-2.5830e+00, -6.1673e+01, -7.8356e+01,  ..., -4.1665e-01,\n",
      "            3.2915e+00,  3.2528e+00],\n",
      "          ...,\n",
      "          [-2.3847e+01, -7.3995e+01, -6.7524e+01,  ..., -4.0607e+01,\n",
      "            2.2873e-01,  1.5119e-01],\n",
      "          [ 3.4504e-01,  3.4504e-01,  3.4504e-01,  ...,  2.2873e-01,\n",
      "            2.6750e-01,  1.1242e-01],\n",
      "          [ 3.0627e-01,  2.6750e-01,  2.6750e-01,  ..., -4.2656e-02,\n",
      "           -3.8865e-03, -1.5897e-01]],\n",
      "\n",
      "         [[-5.8778e+01, -6.7176e+00, -6.2014e+00,  ..., -7.5618e+01,\n",
      "            3.6429e+00,  3.6036e+00],\n",
      "          [-4.5205e+01, -4.2069e+01, -3.6473e+00,  ..., -9.4033e+01,\n",
      "            3.6429e+00,  3.6036e+00],\n",
      "          [-1.9335e+01, -7.6654e+01, -9.2280e+01,  ..., -7.7856e+01,\n",
      "            3.4462e+00,  3.4069e+00],\n",
      "          ...,\n",
      "          [-2.5582e+01, -8.9962e+01, -4.3414e+01,  ..., -2.5669e+01,\n",
      "            4.5688e-01,  3.7821e-01],\n",
      "          [ 5.7488e-01,  5.7488e-01,  5.7488e-01,  ...,  4.5688e-01,\n",
      "            4.9621e-01,  3.3888e-01],\n",
      "          [ 5.3555e-01,  4.9621e-01,  4.9621e-01,  ...,  1.8154e-01,\n",
      "            2.2088e-01,  6.3544e-02]],\n",
      "\n",
      "         [[-5.3402e+01, -2.7423e+01, -4.5073e+00,  ..., -7.8427e+01,\n",
      "            3.9612e+00,  3.9222e+00],\n",
      "          [-4.9065e+01, -8.7444e+01, -6.7600e+01,  ..., -4.6215e+00,\n",
      "            3.9612e+00,  3.9222e+00],\n",
      "          [-7.0427e+01, -6.5044e+01, -1.3558e+01,  ..., -8.9373e+01,\n",
      "            3.7661e+00,  3.7271e+00],\n",
      "          ...,\n",
      "          [-4.3813e+01, -1.2734e+00, -2.8871e+01,  ..., -2.5530e+01,\n",
      "            1.0737e+00,  9.9561e-01],\n",
      "          [ 1.1907e+00,  1.1907e+00,  1.1907e+00,  ...,  1.0737e+00,\n",
      "            1.1127e+00,  9.5659e-01],\n",
      "          [ 1.1517e+00,  1.1127e+00,  1.1127e+00,  ...,  8.0051e-01,\n",
      "            8.3953e-01,  6.8345e-01]]],\n",
      "\n",
      "\n",
      "        ...,\n",
      "\n",
      "\n",
      "        [[[-2.8285e+00, -1.1767e+01, -8.9570e+01,  ..., -5.9273e+01,\n",
      "           -1.2058e+00, -1.0507e+00],\n",
      "          [-7.2356e+01, -5.6398e+01, -8.1283e+01,  ..., -3.7883e+01,\n",
      "            2.5549e+00,  2.6750e-01],\n",
      "          [-7.3983e+01, -3.0952e+01, -7.3470e+01,  ..., -7.6617e+01,\n",
      "            2.5162e+00,  1.1242e-01],\n",
      "          ...,\n",
      "          [-8.7055e+01, -9.4472e+01, -2.2824e+01,  ..., -9.8926e+01,\n",
      "           -5.6643e+00, -5.7031e+00],\n",
      "          [ 3.2528e+00,  3.2528e+00,  3.2528e+00,  ..., -4.7726e+00,\n",
      "           -4.8889e+00, -5.1603e+00],\n",
      "          [ 2.9814e+00,  2.9426e+00,  2.9814e+00,  ..., -4.1523e+00,\n",
      "           -4.0747e+00, -4.3073e+00]],\n",
      "\n",
      "         [[-2.4447e+01, -7.1861e+01, -2.6056e+01,  ..., -8.1127e+01,\n",
      "           -1.6278e+00, -1.7458e+00],\n",
      "          [-3.7651e+01, -7.7065e+00, -9.8573e+01,  ..., -4.4343e+00,\n",
      "            1.7549e+00, -6.4446e-01],\n",
      "          [-7.2366e+01, -8.7028e+01, -2.8423e+01,  ..., -9.5522e+01,\n",
      "            1.5189e+00, -7.6246e-01],\n",
      "          ...,\n",
      "          [-9.4159e+01, -1.1585e+01, -1.0518e+01,  ..., -8.6193e+01,\n",
      "           -5.6398e+00, -5.6792e+00],\n",
      "          [ 2.2662e+00,  2.2662e+00,  2.2662e+00,  ..., -4.6565e+00,\n",
      "           -4.7745e+00, -5.0498e+00],\n",
      "          [ 1.9909e+00,  1.9909e+00,  1.9516e+00,  ..., -4.0272e+00,\n",
      "           -3.9485e+00, -4.1845e+00]],\n",
      "\n",
      "         [[-6.6204e+01, -6.7007e+01, -4.2903e+01,  ..., -6.3071e+01,\n",
      "           -1.6188e+00, -1.5407e+00],\n",
      "          [-8.6623e+01, -5.2438e+01, -1.9592e+01,  ..., -9.4186e+00,\n",
      "            1.2297e+00, -5.2619e-01],\n",
      "          [-4.0236e+00, -7.2378e+01, -1.0721e+01,  ..., -1.7133e+01,\n",
      "            1.0346e+00, -7.2130e-01],\n",
      "          ...,\n",
      "          [-4.9213e+01, -1.9679e+01, -4.9411e+01,  ..., -4.7111e+01,\n",
      "           -5.2867e+00, -5.3257e+00],\n",
      "          [ 1.9711e+00,  1.9321e+00,  1.9711e+00,  ..., -4.5063e+00,\n",
      "           -4.6234e+00, -4.8575e+00],\n",
      "          [ 1.6980e+00,  1.6590e+00,  1.6980e+00,  ..., -4.0771e+00,\n",
      "           -3.9990e+00, -4.1941e+00]]],\n",
      "\n",
      "\n",
      "        [[[-2.0072e+01, -2.8065e+01, -1.4225e+01,  ..., -7.4392e+01,\n",
      "           -3.2218e+00, -3.3381e+00],\n",
      "          [-4.4877e+01, -7.0406e+00, -8.0355e+01,  ..., -7.0738e+01,\n",
      "           -3.2606e+00, -3.2606e+00],\n",
      "          [-9.6872e+01, -4.0909e+01, -1.1020e+01,  ..., -6.7843e+01,\n",
      "           -2.8341e+00, -2.9116e+00],\n",
      "          ...,\n",
      "          [-6.8390e+00, -3.5438e+01, -2.5619e+00,  ..., -8.1760e+01,\n",
      "            6.9397e-01,  6.9397e-01],\n",
      "          [ 5.3889e-01,  4.6135e-01,  4.2258e-01,  ...,  8.8782e-01,\n",
      "            8.8782e-01,  9.2659e-01],\n",
      "          [ 4.6135e-01,  1.5119e-01,  7.3653e-02,  ...,  9.2659e-01,\n",
      "            9.2659e-01,  9.2659e-01]],\n",
      "\n",
      "         [[-8.6767e+01, -9.9505e+01, -8.7526e+01,  ..., -7.9557e+01,\n",
      "           -2.3358e+00, -2.4538e+00],\n",
      "          [-8.8140e+01, -7.2984e+01, -2.7076e+01,  ..., -5.0263e+01,\n",
      "           -2.3751e+00, -2.3751e+00],\n",
      "          [-5.9102e+01, -8.2314e+01, -3.7857e+01,  ..., -6.4296e+01,\n",
      "           -1.9425e+00, -1.9818e+00],\n",
      "          ...,\n",
      "          [-6.1647e+01, -2.7427e+01, -3.2548e+01,  ..., -9.0430e+01,\n",
      "            8.5022e-01,  8.5022e-01],\n",
      "          [ 3.7821e-01,  4.1755e-01,  4.9621e-01,  ...,  1.0469e+00,\n",
      "            1.0469e+00,  1.0469e+00],\n",
      "          [ 3.7821e-01,  1.8154e-01,  2.2088e-01,  ...,  1.0862e+00,\n",
      "            1.0862e+00,  1.0469e+00]],\n",
      "\n",
      "         [[-7.1185e+01, -5.1222e+00, -9.7360e+01,  ..., -9.0947e+00,\n",
      "           -2.2431e+00, -2.3602e+00],\n",
      "          [-2.1382e+01, -2.9849e+01, -7.6996e+01,  ..., -3.4213e+01,\n",
      "           -2.2431e+00, -2.2821e+00],\n",
      "          [-9.2395e+00, -1.2841e+01, -7.9605e+01,  ..., -1.0225e+01,\n",
      "           -1.9309e+00, -2.1651e+00],\n",
      "          ...,\n",
      "          [-7.3878e+01, -2.4780e+00, -9.5793e+01,  ..., -4.6897e+01,\n",
      "            9.9561e-01,  1.1127e+00],\n",
      "          [ 8.0051e-01,  8.7855e-01,  6.8345e-01,  ...,  1.1517e+00,\n",
      "            1.1907e+00,  1.3468e+00],\n",
      "          [ 8.7855e-01,  7.2247e-01,  4.8834e-01,  ...,  1.1907e+00,\n",
      "            1.2297e+00,  1.3468e+00]]],\n",
      "\n",
      "\n",
      "        [[[-1.0046e+02, -8.5866e+00, -6.4305e+01,  ..., -5.2061e+01,\n",
      "           -7.0174e-01, -6.6297e-01],\n",
      "          [-2.5238e+01, -5.8871e+01, -1.3368e+01,  ..., -7.0477e+01,\n",
      "           -7.0174e-01, -6.6297e-01],\n",
      "          [-4.4698e+01, -3.2478e+01, -5.1611e+01,  ..., -7.9521e+01,\n",
      "           -7.0174e-01, -6.6297e-01],\n",
      "          ...,\n",
      "          [-1.0107e+02, -1.6884e+01, -5.5446e+00,  ..., -3.2565e+01,\n",
      "           -6.2420e-01, -8.9559e-01],\n",
      "          [-1.1282e+00, -2.0587e+00, -2.0199e+00,  ..., -1.0894e+00,\n",
      "           -1.0119e+00, -7.7928e-01],\n",
      "          [-1.2445e+00, -1.6710e+00, -1.8648e+00,  ..., -1.5159e+00,\n",
      "           -9.3436e-01, -5.4666e-01]],\n",
      "\n",
      "         [[-1.3904e+01, -3.4122e+00, -3.7264e+01,  ..., -7.3012e+01,\n",
      "           -1.0771e+00, -1.0771e+00],\n",
      "          [-7.6573e+01, -2.2824e+01, -6.3600e+01,  ..., -9.0329e+01,\n",
      "           -1.0771e+00, -1.0378e+00],\n",
      "          [-8.8320e+01, -4.7009e+00,  8.2376e-01,  ..., -3.6687e+01,\n",
      "           -1.1165e+00, -1.0771e+00],\n",
      "          ...,\n",
      "          [-2.0657e+01, -5.4449e+01, -2.1028e+01,  ..., -4.4205e+01,\n",
      "           -1.1165e+00, -1.3525e+00],\n",
      "          [-1.2738e+00, -2.0998e+00, -2.0605e+00,  ..., -1.4311e+00,\n",
      "           -1.4705e+00, -1.3918e+00],\n",
      "          [-1.3525e+00, -1.6278e+00, -1.7851e+00,  ..., -1.6671e+00,\n",
      "           -1.3525e+00, -1.1558e+00]],\n",
      "\n",
      "         [[-2.4174e+01, -1.6070e+01, -7.6905e+01,  ..., -3.7964e+01,\n",
      "           -1.5797e+00, -1.5797e+00],\n",
      "          [-1.9030e+01, -6.8736e+01, -7.0455e+01,  ..., -4.6493e+01,\n",
      "           -1.6968e+00, -1.6578e+00],\n",
      "          [-4.2605e+01, -5.9864e+01, -4.5022e+01,  ..., -5.9070e+01,\n",
      "           -1.8139e+00, -1.7358e+00],\n",
      "          ...,\n",
      "          [-3.5251e+01, -3.7016e+01, -8.1746e+01,  ..., -9.6667e+01,\n",
      "           -2.0480e+00, -2.2431e+00],\n",
      "          [-2.2821e+00, -2.9845e+00, -2.9845e+00,  ..., -2.4772e+00,\n",
      "           -2.3992e+00, -2.2431e+00],\n",
      "          [-2.4382e+00, -2.5553e+00, -2.7894e+00,  ..., -2.6723e+00,\n",
      "           -2.2041e+00, -1.9309e+00]]]])\n"
     ]
    }
   ],
   "source": [
    "for batch, (data, target) in enumerate(troj_test_loader):\n",
    "    print(data.shape)\n",
    "    new_data = data.clone()\n",
    "    print(data[1,1,:8,:8])\n",
    "#     new_data[:,:,:8,:8] = -torch.from_numpy(np.random.rand(128,3,8,8))*100+data[:,:,:8,:8]\n",
    "    new_data[:,:,:30,:30] = -torch.from_numpy(np.random.rand(128,3,30,30))*100+data[:,:,:30,:30]\n",
    "    print(new_data)\n",
    "    break"
   ]
  },
  {
   "cell_type": "code",
   "execution_count": 51,
   "id": "c5a1c16a",
   "metadata": {},
   "outputs": [
    {
     "data": {
      "text/plain": [
       "torch.return_types.max(\n",
       "values=tensor([12.6852, 12.8572, 17.3374, 25.5957, 14.1948, 31.0368, 23.2108,  9.1889,\n",
       "        15.8162, 20.0658, 21.6654, 14.3399, 11.5346, 39.1929, 21.1670, 25.7839,\n",
       "        13.6678, 19.7942, 20.0830, 18.9908, 10.6109, 21.5028, 17.2360, 21.6381,\n",
       "        17.8514, 27.7708, 21.1531, 29.4209, 18.4202, 32.4789, 21.9157, 13.6100,\n",
       "        31.2862, 20.3055, 25.3064, 36.0347, 14.0786, 15.5299, 22.9965, 11.9558,\n",
       "        19.0762, 17.2957, 28.1011, 18.8729, 20.7161, 13.0609, 13.7319, 48.4212,\n",
       "        20.3358, 60.5765, 13.6169, 24.8419, 17.8882, 18.0521, 11.3286, 61.2115,\n",
       "        13.4585, 20.6823, 12.1378, 21.3732, 18.7204, 13.1204, 41.5249, 30.2152,\n",
       "        25.2290, 26.4377, 11.5923, 10.8921, 13.5165, 16.5358,  8.4398, 28.0125,\n",
       "        43.4872, 16.1529, 26.2654, 10.7199, 17.4106, 15.6834, 10.9184, 23.3504,\n",
       "        18.7256, 19.5577, 25.2500, 45.8917, 27.8163, 20.3861, 13.5551, 16.5424,\n",
       "        34.3211, 47.4599, 17.4656, 21.7204, 15.3924, 17.7662, 24.8296, 11.1190,\n",
       "        18.3379, 16.1524, 26.5252, 37.9533, 27.3121, 22.1168, 12.3861, 16.8250,\n",
       "        28.7835, 13.8479, 22.3024,  9.0901, 34.0555,  9.6280, 17.6664, 21.1692,\n",
       "        12.8393, 36.7586, 28.1259,  9.3853, 17.0813, 16.7874, 15.8829, 28.5223,\n",
       "        13.5839, 11.4799, 10.3134, 15.7531, 15.5516,  9.9595, 31.2169, 14.9951],\n",
       "       device='cuda:0', grad_fn=<MaxBackward0>),\n",
       "indices=tensor([9, 9, 9, 9, 9, 9, 9, 9, 9, 9, 9, 9, 9, 9, 9, 9, 9, 9, 9, 9, 9, 9, 9, 9,\n",
       "        9, 9, 9, 9, 9, 9, 9, 9, 9, 9, 9, 9, 9, 9, 9, 9, 9, 9, 9, 9, 9, 9, 9, 9,\n",
       "        9, 9, 9, 9, 9, 9, 9, 9, 9, 9, 9, 9, 9, 9, 9, 9, 9, 9, 9, 9, 9, 9, 9, 9,\n",
       "        9, 9, 9, 9, 9, 9, 9, 9, 9, 9, 9, 9, 9, 9, 9, 9, 9, 9, 9, 9, 9, 9, 9, 9,\n",
       "        9, 9, 9, 9, 9, 9, 9, 9, 9, 9, 9, 9, 9, 9, 9, 9, 9, 9, 9, 9, 9, 9, 9, 9,\n",
       "        9, 9, 9, 9, 9, 9, 9, 9], device='cuda:0'))"
      ]
     },
     "execution_count": 51,
     "metadata": {},
     "output_type": "execute_result"
    }
   ],
   "source": [
    "\n",
    "new_output = net(new_data.to(device))\n",
    "new_predicted = new_output.max(1)\n",
    "new_predicted"
   ]
  },
  {
   "cell_type": "code",
   "execution_count": 52,
   "id": "9b86d6f6",
   "metadata": {},
   "outputs": [
    {
     "data": {
      "text/plain": [
       "torch.return_types.max(\n",
       "values=tensor([15.8312, 12.3813, 11.4074, 14.5769, 11.8789, 10.7532, 11.0345, 10.7116,\n",
       "        11.8031,  8.0335, 12.4580, 13.5921, 13.5769, 13.9332, 11.1761, 13.0239,\n",
       "        11.3395, 14.3350,  9.6926, 11.6126, 14.7923, 11.5499, 12.8075, 12.0634,\n",
       "         9.6857, 12.3656, 12.4479, 12.5170,  9.5398, 10.6289, 11.5591, 11.5458,\n",
       "         9.5540, 12.3445, 10.8323, 13.5865, 13.0291, 11.0114,  9.5312, 11.1223,\n",
       "        13.2318, 11.9278, 14.2208, 12.5861, 10.3657, 15.3545, 10.8704, 14.6668,\n",
       "        18.7603, 13.8644, 10.5174, 15.7889, 14.3874, 11.5706, 14.7383, 12.7944,\n",
       "        10.7334, 10.1597, 13.2113,  9.4386, 12.4784, 17.0962, 10.9978, 12.1417,\n",
       "        12.2889, 12.2774, 11.5955, 12.3950, 12.9626, 12.5025, 13.3807, 12.1486,\n",
       "        13.3302, 14.6978, 12.8265, 14.6036, 13.0483, 11.6402, 12.2206, 13.1543,\n",
       "        16.4407,  6.5778, 11.4764, 14.0737, 10.3873, 15.7195, 15.6005, 11.9075,\n",
       "        13.0299, 11.9953, 13.8674, 13.7101,  7.0680, 10.6507, 11.1990, 12.3492,\n",
       "        14.6654, 13.6364, 15.6960, 13.4132, 12.3907, 16.8198, 11.6194, 15.3716,\n",
       "        10.9390, 14.2203, 15.5511, 11.7214, 12.2989, 16.1612,  9.6355, 12.5939,\n",
       "        15.2449, 14.8619, 11.7868, 11.5937, 10.8920, 14.8921, 12.6641, 10.6618,\n",
       "        14.9797, 13.6651, 11.9444, 16.4441, 13.7338, 12.5754,  8.7466, 12.6114],\n",
       "       device='cuda:0', grad_fn=<MaxBackward0>),\n",
       "indices=tensor([9, 9, 9, 9, 9, 9, 9, 9, 9, 9, 9, 9, 9, 9, 9, 9, 9, 9, 9, 9, 9, 9, 9, 9,\n",
       "        9, 9, 9, 9, 9, 9, 9, 9, 9, 9, 9, 9, 9, 9, 6, 9, 9, 9, 9, 9, 9, 9, 9, 9,\n",
       "        9, 9, 9, 9, 9, 9, 9, 9, 9, 9, 9, 9, 9, 9, 9, 9, 9, 9, 9, 9, 9, 9, 9, 9,\n",
       "        9, 9, 9, 9, 9, 9, 9, 9, 9, 0, 9, 9, 9, 9, 9, 9, 9, 9, 9, 9, 1, 9, 9, 9,\n",
       "        9, 9, 9, 9, 9, 9, 9, 9, 9, 9, 9, 9, 9, 9, 9, 9, 9, 9, 9, 9, 9, 9, 9, 9,\n",
       "        9, 9, 9, 9, 9, 9, 9, 9], device='cuda:0'))"
      ]
     },
     "execution_count": 52,
     "metadata": {},
     "output_type": "execute_result"
    }
   ],
   "source": [
    "output = net(data.cuda())\n",
    "predicted = output.max(1)\n",
    "predicted"
   ]
  },
  {
   "cell_type": "code",
   "execution_count": null,
   "id": "7d9521e6",
   "metadata": {},
   "outputs": [],
   "source": []
  },
  {
   "cell_type": "code",
   "execution_count": null,
   "id": "a29f4de5",
   "metadata": {},
   "outputs": [],
   "source": []
  },
  {
   "cell_type": "code",
   "execution_count": 59,
   "id": "8ab91463",
   "metadata": {},
   "outputs": [
    {
     "name": "stdout",
     "output_type": "stream",
     "text": [
      "torch.Size([128, 3, 32, 32])\n",
      "tensor([[3.4069, 3.2496, 3.2889, 3.2889, 3.2889, 3.2889, 3.2889, 3.2889],\n",
      "        [3.5249, 3.4069, 3.4069, 3.4069, 3.4069, 3.4069, 3.4069, 3.4069],\n",
      "        [3.4856, 3.3676, 3.3676, 3.3676, 3.3676, 3.3676, 3.3676, 3.3676],\n",
      "        [3.5249, 3.4069, 3.4069, 3.4069, 3.4069, 3.4069, 3.4069, 3.4069],\n",
      "        [3.4856, 3.3676, 3.4069, 3.4069, 3.4069, 3.4069, 3.4069, 3.4069],\n",
      "        [3.5642, 3.4069, 3.4069, 3.4069, 3.4069, 3.4069, 3.4462, 3.4069],\n",
      "        [3.1709, 3.0922, 3.2102, 3.1316, 3.2889, 3.4462, 3.4856, 3.4856],\n",
      "        [2.8169, 3.2102, 3.3676, 3.2889, 3.3676, 3.4856, 3.5249, 3.4856]])\n",
      "tensor([[[[ 1.8007,  1.6434,  2.2420,  ...,  0.6603, -0.9731, -1.3608],\n",
      "          [ 1.1841,  1.3635,  0.9155,  ...,  0.0525, -1.0119, -1.2445],\n",
      "          [ 1.9740,  1.2365,  1.1278,  ...,  0.1414, -0.8181, -1.2058],\n",
      "          ...,\n",
      "          [-1.5800, -3.2174, -4.5276,  ..., -3.2263, -5.3541, -4.3073],\n",
      "          [-3.4932, -3.9584, -4.5012,  ..., -4.8501, -4.7338, -5.0827],\n",
      "          [-3.7646, -3.6870, -4.1135,  ..., -4.9277, -4.5400, -5.0440]],\n",
      "\n",
      "         [[-0.9180, -0.4270,  0.1668,  ..., -0.4358, -2.2571, -2.4931],\n",
      "          [-0.7900, -0.1351, -0.4860,  ..., -1.1929, -2.2571, -2.3751],\n",
      "          [-0.8118, -1.2365, -0.5306,  ..., -0.8703, -2.0998, -2.3358],\n",
      "          ...,\n",
      "          [-0.1251, -1.2442, -0.6776,  ..., -1.4244, -3.3192, -2.4931],\n",
      "          [-1.2738, -1.8245, -2.4931,  ..., -2.6111, -2.6111, -3.3192],\n",
      "          [-1.6278, -1.7065, -2.3358,  ..., -2.8078, -2.5325, -3.2012]],\n",
      "\n",
      "         [[-3.2132, -3.4323, -3.1641,  ..., -2.8137, -4.0380, -4.1551],\n",
      "          [-1.5003, -2.5301, -2.7414,  ..., -4.0937, -4.1941, -4.1161],\n",
      "          [-2.4787, -3.7835, -3.7752,  ..., -2.5481, -4.1161, -4.1551],\n",
      "          ...,\n",
      "          [ 1.9348,  1.5903,  0.2399,  ...,  2.0562, -1.2286, -0.4872],\n",
      "          [ 1.1127,  0.3323, -0.2921,  ..., -0.3701, -0.5262, -1.2676],\n",
      "          [ 0.8005,  0.3713, -0.2921,  ..., -0.6042, -0.4091, -1.1505]]],\n",
      "\n",
      "\n",
      "        [[[ 3.8314,  3.3742,  4.5486,  ...,  3.9548,  3.1752,  3.1365],\n",
      "          [ 4.0907,  4.2088,  4.2964,  ...,  3.8265,  3.2915,  3.2528],\n",
      "          [ 4.0137,  4.4864,  3.5517,  ...,  4.7797,  3.2528,  3.2140],\n",
      "          ...,\n",
      "          [-0.9373, -3.5603, -3.7156,  ...,  0.9762,  1.1980,  1.4306],\n",
      "          [-2.6790, -4.0747, -4.4624,  ...,  0.8878,  1.3143,  1.3918],\n",
      "          [-2.5627, -3.4544, -3.6095,  ...,  0.6552,  1.1204,  1.3531]],\n",
      "\n",
      "         [[ 3.8644,  3.2625,  4.8885,  ...,  4.5260,  3.3282,  3.2889],\n",
      "          [ 4.0272,  4.1864,  4.8467,  ...,  4.4890,  3.4462,  3.4069],\n",
      "          [ 5.4209,  3.5443,  5.1026,  ...,  4.9897,  3.4069,  3.3676],\n",
      "          ...,\n",
      "          [-0.5780, -3.1108, -3.8755,  ...,  2.6612,  1.9122,  2.1089],\n",
      "          [-2.0605, -3.5945, -4.1058,  ...,  1.5976,  2.0302,  2.1089],\n",
      "          [-1.8638, -2.8865, -3.2012,  ...,  1.3616,  1.8336,  2.0302]],\n",
      "\n",
      "         [[ 5.6833,  5.0548,  5.3955,  ...,  4.3609,  3.6490,  3.6100],\n",
      "          [ 3.8594,  4.2291,  5.5502,  ...,  4.9356,  3.7661,  3.7271],\n",
      "          [ 4.2865,  4.3096,  3.8526,  ...,  3.8608,  3.7271,  3.6880],\n",
      "          ...,\n",
      "          [-0.1637, -3.9538, -3.7033,  ...,  3.4415,  2.0882,  2.4004],\n",
      "          [-2.2431, -4.0380, -4.5843,  ...,  1.6980,  2.2052,  2.3613],\n",
      "          [-2.2041, -3.5698, -3.9600,  ...,  1.5029,  2.0101,  2.3223]]],\n",
      "\n",
      "\n",
      "        [[[ 0.6150,  0.5727,  0.6933,  ...,  4.5568,  3.3303,  3.3691],\n",
      "          [ 1.8679,  2.5195,  0.9560,  ...,  4.5684,  3.6792,  3.6792],\n",
      "          [ 1.7869,  1.2644,  1.9519,  ...,  3.4633,  3.8343,  3.6405],\n",
      "          ...,\n",
      "          [-2.9023, -2.7747, -4.2126,  ..., -3.7285, -5.5092, -5.7031],\n",
      "          [-4.9664, -4.8113, -4.8889,  ..., -5.1215, -5.7031, -5.6643],\n",
      "          [-4.7726, -4.6950, -4.6175,  ..., -5.6643, -5.7031, -5.5867]],\n",
      "\n",
      "         [[ 2.7108,  3.4188,  0.7264,  ...,  4.7343,  3.5642,  3.6429],\n",
      "          [ 2.9896,  2.6489,  1.1810,  ...,  4.8780,  3.8396,  3.8789],\n",
      "          [ 3.9275,  2.3426,  2.1239,  ...,  4.1020,  3.9576,  3.7609],\n",
      "          ...,\n",
      "          [-3.2946, -2.8144, -4.1914,  ..., -3.1801, -5.3252, -5.5612],\n",
      "          [-4.4992, -4.3418, -4.4205,  ..., -5.0498, -5.6005, -5.5612],\n",
      "          [-4.2238, -4.1452, -4.0665,  ..., -5.6005, -5.6398, -5.5218]],\n",
      "\n",
      "         [[ 3.9563,  3.9962,  3.7570,  ...,  4.1831,  4.0392,  4.1563],\n",
      "          [ 3.5084,  4.9851,  3.5190,  ...,  4.1107,  4.3124,  4.3514],\n",
      "          [ 3.8409,  3.4435,  3.9518,  ...,  5.0878,  4.3514,  4.1953],\n",
      "          ...,\n",
      "          [-2.3671, -3.0752, -3.4390,  ..., -1.9991, -4.8965, -5.2477],\n",
      "          [-3.9210, -3.7649, -3.8429,  ..., -4.5063, -5.3257, -5.3257],\n",
      "          [-3.6088, -3.4918, -3.4137,  ..., -5.1306, -5.3257, -5.1696]]],\n",
      "\n",
      "\n",
      "        ...,\n",
      "\n",
      "\n",
      "        [[[ 4.0019,  3.5775,  2.4716,  ...,  2.9642, -0.7793, -3.4932],\n",
      "          [ 2.6365,  2.2816,  3.2580,  ...,  1.9287, -0.5079, -2.9116],\n",
      "          [ 3.6713,  2.0117,  1.6041,  ...,  3.0014, -1.0507, -2.9116],\n",
      "          ...,\n",
      "          [ 3.3671,  3.3385,  3.7229,  ...,  1.2098, -1.9811, -2.2138],\n",
      "          [ 1.2755,  2.0121,  2.8651,  ..., -2.7565, -1.8261, -2.1362],\n",
      "          [ 0.6164,  1.1592,  2.0897,  ..., -3.8033, -2.2525, -2.2138]],\n",
      "\n",
      "         [[ 0.9178,  2.0013,  0.4596,  ..., -0.7327, -2.9652, -2.8865],\n",
      "          [ 0.9206,  1.3682,  1.1780,  ..., -1.1774, -2.6111, -2.6111],\n",
      "          [ 0.5271,  1.6227,  0.0846,  ..., -1.1451, -2.7685, -2.6505],\n",
      "          ...,\n",
      "          [ 2.7991,  3.1374,  3.2244,  ...,  2.0395, -1.7065, -1.7851],\n",
      "          [ 0.0242,  0.4962,  1.1649,  ..., -2.7291, -1.5885, -1.6671],\n",
      "          [-0.6051, -0.2905,  0.4175,  ..., -3.6732, -1.9031, -1.6278]],\n",
      "\n",
      "         [[-0.4114, -0.7556, -0.9573,  ..., -3.6342, -3.1016, -2.7113],\n",
      "          [-0.5358, -0.6266, -0.9084,  ..., -2.7175, -2.9455, -2.5553],\n",
      "          [-0.7997,  0.1843,  0.0303,  ..., -1.8150, -3.1406, -2.6333],\n",
      "          ...,\n",
      "          [ 0.2748, -0.4739,  1.0367,  ...,  0.2357, -1.5797, -1.4237],\n",
      "          [-1.5797, -1.3456, -0.8384,  ..., -2.8674, -1.6188, -1.4627],\n",
      "          [-1.6578, -1.6188, -1.0335,  ..., -3.5308, -1.7749, -1.4237]]],\n",
      "\n",
      "\n",
      "        [[[ 0.7311,  1.2576,  0.4694,  ...,  1.2488, -0.1977, -0.1977],\n",
      "          [ 1.6055,  0.8449,  0.2000,  ...,  0.0835, -0.1202, -0.1590],\n",
      "          [ 1.3528,  0.7572,  1.3568,  ...,  0.2982, -0.0427, -0.0814],\n",
      "          ...,\n",
      "          [-0.3104,  0.0073, -0.4150,  ..., -0.3641, -2.2913, -2.2138],\n",
      "          [-1.2058, -1.2058, -1.1282,  ..., -2.6015, -2.5239, -2.1750],\n",
      "          [-1.2058, -1.2445, -1.2445,  ..., -2.7953, -2.6015, -2.4464]],\n",
      "\n",
      "         [[ 1.8697,  2.0759,  3.1593,  ...,  2.5878,  1.0076,  1.0076],\n",
      "          [ 2.6774,  3.0914,  2.3445,  ...,  1.2452,  1.0076,  1.0076],\n",
      "          [ 1.8338,  1.9592,  3.1242,  ...,  2.9899,  1.0469,  1.0076],\n",
      "          ...,\n",
      "          [ 0.1986,  0.4364,  0.9113,  ..., -0.0118, -2.2178, -2.0211],\n",
      "          [-0.3298, -0.3298, -0.2511,  ..., -2.3358, -2.2965, -1.9425],\n",
      "          [-0.3298, -0.3691, -0.3691,  ..., -2.4145, -2.2571, -2.2178]],\n",
      "\n",
      "         [[ 2.5229,  2.5900,  3.2815,  ...,  2.5051,  1.7760,  1.7760],\n",
      "          [ 3.9504,  2.8172,  2.9825,  ...,  3.0614,  1.7760,  1.7760],\n",
      "          [ 3.5512,  3.5479,  3.2400,  ...,  2.6539,  1.8150,  1.7760],\n",
      "          ...,\n",
      "          [ 1.5385,  1.8018,  0.8320,  ...,  0.8426, -1.4237, -1.2676],\n",
      "          [ 0.4493,  0.4493,  0.5274,  ..., -1.5017, -1.5017, -1.1115],\n",
      "          [ 0.4493,  0.4103,  0.4103,  ..., -1.5797, -1.4237, -1.3456]]],\n",
      "\n",
      "\n",
      "        [[[-2.7330, -2.7763, -1.4279,  ..., -5.5257, -5.8581, -5.8194],\n",
      "          [-2.5193, -2.6014, -1.3025,  ..., -5.2146, -5.8581, -5.8194],\n",
      "          [-1.9568, -2.5810, -1.7453,  ..., -3.5773, -5.8194, -5.8194],\n",
      "          ...,\n",
      "          [ 3.0148,  2.8626,  2.3078,  ..., -4.5504, -5.8194, -5.8194],\n",
      "          [ 0.2675,  0.3838,  1.0429,  ..., -5.7031, -5.8194, -5.8194],\n",
      "          [ 0.4614,  0.3450, -0.1590,  ..., -5.7418, -5.8194, -5.8194]],\n",
      "\n",
      "         [[-2.8298, -2.4590, -2.3656,  ..., -5.1096, -5.8365, -5.7972],\n",
      "          [-1.5611, -1.7645, -2.9669,  ..., -4.8523, -5.8365, -5.7972],\n",
      "          [-2.0717, -1.8604, -2.9973,  ..., -5.4089, -5.7972, -5.7972],\n",
      "          ...,\n",
      "          [ 0.9743,  1.3953,  1.8976,  ..., -4.9675, -5.7972, -5.7972],\n",
      "          [-0.4478, -0.3298,  0.3389,  ..., -5.6792, -5.7972, -5.7972],\n",
      "          [-0.2511, -0.3298, -0.8805,  ..., -5.7185, -5.7972, -5.7972]],\n",
      "\n",
      "         [[-2.5381, -2.1262, -3.7289,  ..., -3.5616, -5.4428, -5.4038],\n",
      "          [-1.7828, -1.8927, -1.7849,  ..., -5.1606, -5.4428, -5.4038],\n",
      "          [-1.9432, -2.7287, -3.2240,  ..., -3.7754, -5.4038, -5.4038],\n",
      "          ...,\n",
      "          [ 2.4447,  1.6160,  0.7605,  ..., -4.5617, -5.4038, -5.4038],\n",
      "          [-0.2140, -0.0970,  0.5274,  ..., -5.2867, -5.4038, -5.4038],\n",
      "          [ 0.0201, -0.0579, -0.5652,  ..., -5.3257, -5.4038, -5.4038]]]])\n"
     ]
    }
   ],
   "source": [
    "for batch, (data, target) in enumerate(test_loader):\n",
    "    print(data.shape)\n",
    "    new_data = data.clone()\n",
    "    print(data[1,1,:8,:8])\n",
    "#     new_data[:,:,:8,:8] = -torch.from_numpy(np.random.rand(128,3,8,8))*100+data[:,:,:8,:8]\n",
    "    new_data[:,:,:30,:30] = torch.from_numpy(np.random.rand(128,3,30,30))*2 +data[:,:,:30,:30]\n",
    "    print(new_data)\n",
    "    break"
   ]
  },
  {
   "cell_type": "code",
   "execution_count": 60,
   "id": "92fb19e6",
   "metadata": {},
   "outputs": [
    {
     "data": {
      "text/plain": [
       "torch.return_types.max(\n",
       "values=tensor([ 9.5796,  4.0734,  5.8224,  5.8700, 10.6906, 11.0906,  6.9242,  5.8192,\n",
       "         8.1684,  6.7287,  4.7505,  8.7090,  6.1120,  7.9435,  9.3988,  4.9207,\n",
       "         5.0770,  8.0066,  3.6405, 14.0962,  5.0497,  1.3914,  6.9422, 17.5229,\n",
       "         9.8210,  5.4633,  8.5764,  5.2085,  8.7432, 14.0450,  9.4735,  5.8576,\n",
       "         8.6558,  4.5500,  7.6296,  4.4060, 10.0605,  5.0991, 10.9395,  3.7520,\n",
       "         6.8397, 10.5984,  5.5376, 13.8907, 10.0760, 14.6414,  7.6214,  5.2683,\n",
       "         9.1278,  6.6986,  7.6101,  6.1401,  8.2990,  3.5277,  6.8224,  7.8737,\n",
       "         8.7779,  4.7460,  7.0519, 10.2195,  9.0475,  5.6136,  9.9174,  3.7460,\n",
       "        10.8593,  9.6244,  6.9820, 10.0932,  9.1379,  3.7193,  5.1009, 11.0368,\n",
       "         3.8039,  6.8208,  9.2418, 11.8796,  8.1277,  9.5385,  7.7131,  2.0189,\n",
       "         3.6533,  8.4609, 10.2548,  4.6365,  3.2129,  4.6620,  6.7298,  3.0871,\n",
       "         5.6259, 11.9194,  8.5877,  6.7606,  2.1224, 10.4377,  9.5350,  5.3292,\n",
       "         6.9746,  6.6629,  4.4385,  3.6376, 12.2137,  5.7794,  9.3683, 11.1327,\n",
       "         9.2331,  2.7239,  7.2348, 12.3036, 11.2740,  6.3341,  7.4956,  2.4111,\n",
       "         6.3962,  9.9936,  5.6009,  5.2493,  7.1162,  6.0273,  5.9238,  4.9272,\n",
       "         2.8535,  6.3903, 10.3766,  9.5691,  5.5581,  5.7603,  5.3400,  8.9570],\n",
       "       device='cuda:0', grad_fn=<MaxBackward0>),\n",
       "indices=tensor([3, 9, 9, 0, 6, 6, 1, 6, 3, 9, 4, 9, 4, 7, 9, 8, 3, 7, 9, 6, 9, 0, 2, 9,\n",
       "        4, 2, 4, 9, 9, 6, 6, 6, 4, 6, 9, 2, 4, 9, 9, 5, 4, 6, 9, 6, 0, 9, 3, 8,\n",
       "        7, 2, 9, 6, 2, 9, 9, 2, 7, 5, 3, 6, 7, 3, 6, 9, 6, 2, 8, 2, 3, 9, 4, 6,\n",
       "        2, 8, 9, 2, 0, 3, 3, 9, 0, 9, 1, 9, 2, 5, 2, 9, 9, 9, 0, 6, 8, 6, 4, 9,\n",
       "        4, 2, 9, 9, 4, 5, 6, 9, 1, 9, 2, 6, 8, 7, 4, 3, 2, 2, 1, 3, 2, 9, 2, 7,\n",
       "        9, 3, 1, 2, 0, 2, 0, 3], device='cuda:0'))"
      ]
     },
     "execution_count": 60,
     "metadata": {},
     "output_type": "execute_result"
    }
   ],
   "source": [
    "new_output = net(new_data.to(device))\n",
    "new_predicted = new_output.max(1)\n",
    "new_predicted"
   ]
  },
  {
   "cell_type": "code",
   "execution_count": 61,
   "id": "41503e18",
   "metadata": {},
   "outputs": [
    {
     "data": {
      "text/plain": [
       "torch.return_types.max(\n",
       "values=tensor([11.4344,  9.8932,  7.3848,  9.1504, 12.4926,  7.7838,  9.3553, 11.7667,\n",
       "        11.5392, 10.4519,  7.3136, 17.4813,  9.0334, 12.0184, 14.2940,  7.6582,\n",
       "         8.5581, 10.4416, 13.3587, 15.1251,  5.9624,  7.2481,  9.9242, 20.0758,\n",
       "        10.5784,  7.4960,  9.5755,  9.8348, 10.5756, 13.8076,  9.2221, 13.2079,\n",
       "        10.5227, 10.8599, 18.4830,  7.0775, 10.5733,  7.8402, 20.1292, 13.6799,\n",
       "         9.4477, 11.0057, 10.8520, 11.7787, 11.2113, 21.3551,  9.9348,  5.1643,\n",
       "        10.6972, 11.4180, 14.7143, 11.6360,  5.2720,  8.5307, 13.5915, 14.9016,\n",
       "        11.3228,  7.4489,  5.5387,  6.4730, 11.3021,  9.3517, 10.2515,  7.5005,\n",
       "         6.8398, 12.3634, 10.1807,  9.9357,  8.8581,  7.5627,  9.0636,  9.3331,\n",
       "        12.5283, 13.0836, 11.3801, 13.0516, 11.4018, 11.4544,  8.5558,  7.3523,\n",
       "        12.6458,  8.8478, 13.6045,  8.6810,  9.0262, 10.5327,  6.5375,  6.4931,\n",
       "        12.5265, 17.6425, 12.2418,  7.1234, 11.2785, 13.5809, 10.6668,  9.3183,\n",
       "         7.6064,  7.0183,  4.7559,  9.4626,  9.7270, 11.1287, 10.4501,  9.9626,\n",
       "        14.3700,  8.0239,  8.0343, 12.8477, 10.7435, 12.0519,  7.6653, 10.3050,\n",
       "         6.0535, 12.8830, 12.5777,  9.6456, 11.3202,  5.3707,  5.2298,  8.9811,\n",
       "        12.6613,  9.5788, 13.2288, 11.6886, 11.7171,  8.4878, 12.4568, 10.1948],\n",
       "       device='cuda:0', grad_fn=<MaxBackward0>),\n",
       "indices=tensor([3, 8, 8, 0, 6, 6, 1, 6, 3, 1, 0, 9, 5, 7, 9, 8, 5, 7, 8, 6, 5, 0, 4, 9,\n",
       "        5, 2, 4, 0, 9, 6, 6, 5, 4, 5, 9, 8, 4, 9, 9, 5, 4, 6, 5, 6, 0, 9, 3, 0,\n",
       "        7, 6, 9, 8, 3, 3, 8, 8, 7, 7, 3, 3, 7, 5, 6, 3, 6, 2, 1, 2, 3, 7, 2, 6,\n",
       "        8, 8, 0, 2, 9, 3, 3, 8, 8, 1, 1, 7, 2, 5, 2, 3, 8, 9, 0, 3, 8, 6, 4, 6,\n",
       "        6, 0, 9, 7, 4, 5, 6, 3, 1, 1, 3, 6, 8, 7, 4, 0, 2, 2, 1, 3, 0, 7, 3, 7,\n",
       "        8, 3, 1, 2, 8, 0, 8, 3], device='cuda:0'))"
      ]
     },
     "execution_count": 61,
     "metadata": {},
     "output_type": "execute_result"
    }
   ],
   "source": [
    "output = net(data.to(device))\n",
    "predicted = output.max(1)\n",
    "predicted"
   ]
  },
  {
   "cell_type": "code",
   "execution_count": null,
   "id": "d384a0e5",
   "metadata": {},
   "outputs": [],
   "source": []
  }
 ],
 "metadata": {
  "kernelspec": {
   "display_name": "Python 3 (ipykernel)",
   "language": "python",
   "name": "python3"
  },
  "language_info": {
   "codemirror_mode": {
    "name": "ipython",
    "version": 3
   },
   "file_extension": ".py",
   "mimetype": "text/x-python",
   "name": "python",
   "nbconvert_exporter": "python",
   "pygments_lexer": "ipython3",
   "version": "3.8.12"
  },
  "toc": {
   "base_numbering": 1,
   "nav_menu": {},
   "number_sections": true,
   "sideBar": true,
   "skip_h1_title": false,
   "title_cell": "Table of Contents",
   "title_sidebar": "Contents",
   "toc_cell": false,
   "toc_position": {},
   "toc_section_display": true,
   "toc_window_display": true
  }
 },
 "nbformat": 4,
 "nbformat_minor": 5
}
